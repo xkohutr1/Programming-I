{
 "cells": [
  {
   "cell_type": "markdown",
   "metadata": {},
   "source": [
    "## Precvičovanie učiva z 2. prednášky (riešenia)"
   ]
  },
  {
   "cell_type": "markdown",
   "metadata": {},
   "source": [
    "### Dátový typ `bool`"
   ]
  },
  {
   "cell_type": "markdown",
   "metadata": {},
   "source": [
    "Vytvorte premennú `pravda` a naplňte je pravdivou hodnotou `True`"
   ]
  },
  {
   "cell_type": "code",
   "execution_count": 1,
   "metadata": {
    "collapsed": true
   },
   "outputs": [],
   "source": [
    "pravda = True"
   ]
  },
  {
   "cell_type": "markdown",
   "metadata": {},
   "source": [
    "Vypíšte obsah premennej `pravda` ako string:"
   ]
  },
  {
   "cell_type": "code",
   "execution_count": 2,
   "metadata": {
    "collapsed": false
   },
   "outputs": [
    {
     "name": "stdout",
     "output_type": "stream",
     "text": [
      "True\n",
      "True\n",
      "True\n",
      "True\n"
     ]
    }
   ],
   "source": [
    "print(pravda)\n",
    "# alebo\n",
    "print(str(pravda))\n",
    "# alebo\n",
    "print(\"%s\" % (pravda))\n",
    "# alebo\n",
    "print(\"{}\".format(pravda))"
   ]
  },
  {
   "cell_type": "markdown",
   "metadata": {},
   "source": [
    "Vypíšte obsah premennej `pravda` ako celé číslo:"
   ]
  },
  {
   "cell_type": "code",
   "execution_count": 3,
   "metadata": {
    "collapsed": false
   },
   "outputs": [
    {
     "name": "stdout",
     "output_type": "stream",
     "text": [
      "1\n"
     ]
    }
   ],
   "source": [
    "print(\"%d\" % (pravda))"
   ]
  },
  {
   "cell_type": "markdown",
   "metadata": {},
   "source": [
    "Vytvorte premennú `nepravda` a naplňte je nepravdivou hodnotou `False`"
   ]
  },
  {
   "cell_type": "code",
   "execution_count": 4,
   "metadata": {
    "collapsed": true
   },
   "outputs": [],
   "source": [
    "nepravda = False"
   ]
  },
  {
   "cell_type": "markdown",
   "metadata": {},
   "source": [
    "Vypíšte obsah premennej `nepravda` ako float:"
   ]
  },
  {
   "cell_type": "code",
   "execution_count": 5,
   "metadata": {
    "collapsed": false
   },
   "outputs": [
    {
     "name": "stdout",
     "output_type": "stream",
     "text": [
      "0.000000\n"
     ]
    }
   ],
   "source": [
    "print(\"%f\" % (nepravda))"
   ]
  },
  {
   "cell_type": "markdown",
   "metadata": {},
   "source": [
    "Vytvorte premenné `X` (pravdivá hodnota) a `Y` (nepravdivá hodnota). Na obrazovku vypíšte výsledky nasledovných logických výrazov:\n",
    "* `X` a zároveň `Y`\n",
    "* `X` alebo `Y`\n",
    "* nie `X`\n",
    "* nie `X` a zároveň `Y`\n",
    "* nie (`X` a zároveň `Y`)"
   ]
  },
  {
   "cell_type": "code",
   "execution_count": 6,
   "metadata": {
    "collapsed": false
   },
   "outputs": [
    {
     "name": "stdout",
     "output_type": "stream",
     "text": [
      "False\n",
      "True\n",
      "False\n",
      "False\n",
      "True\n"
     ]
    }
   ],
   "source": [
    "X=True; Y=False\n",
    "print(X and Y)\n",
    "print(X or Y)\n",
    "print(not X)\n",
    "print(not X and Y)\n",
    "print(not(X and Y))"
   ]
  },
  {
   "cell_type": "markdown",
   "metadata": {},
   "source": [
    "Uvažujme dve logické premenné `A` a `B`. Vytvorte program, ktorý na obrazovku vypíšte pravdivostnú tabuľku výrazov\n",
    "* `A` a zároveň `B`\n",
    "* `A` a nie `B`\n",
    "* `A` alebo `B`\n",
    "\n",
    "Výstup musí byť v tvare\n",
    "```\n",
    "A B A&B A&~B A|B\n",
    "0 0  0   0    0\n",
    "1 0  0   1    1\n",
    "0 1  0   0    1\n",
    "1 1  1   0    1\n",
    "```"
   ]
  },
  {
   "cell_type": "code",
   "execution_count": 7,
   "metadata": {
    "collapsed": false
   },
   "outputs": [
    {
     "name": "stdout",
     "output_type": "stream",
     "text": [
      "A B A&B A&~B A|B\n",
      "0 0  0   0    0\n",
      "1 0  0   1    1\n",
      "0 1  0   0    1\n",
      "1 1  1   0    1\n"
     ]
    }
   ],
   "source": [
    "# hlavicka tabulky\n",
    "print(\"A B A&B A&~B A|B\")\n",
    "# jednotlive riadky\n",
    "A=False; B=False; print(\"%d %d  %d   %d    %d\" % (A, B, A and B, A and not B, A or B))\n",
    "A=True;  B=False; print(\"%d %d  %d   %d    %d\" % (A, B, A and B, A and not B, A or B))\n",
    "A=False; B=True;  print(\"%d %d  %d   %d    %d\" % (A, B, A and B, A and not B, A or B))\n",
    "A=True;  B=True;  print(\"%d %d  %d   %d    %d\" % (A, B, A and B, A and not B, A or B))"
   ]
  },
  {
   "cell_type": "markdown",
   "metadata": {},
   "source": [
    "Uvažujme čísla `x=3` (integer), `y=1.0` (float) a `z=2` (integer). Na obrazovku vypíšte pravdivostnú hodnotu nasledovných porovnaní:\n",
    "* `x` je väčšie ako `y+z`\n",
    "* druhá mocnina `x` je menšia alebo rovná ako podiel `y` a `z`\n",
    "* `x` sa rovná sume `y` a `z`\n",
    "* `x` je identicky rovné sume `y` a `z`"
   ]
  },
  {
   "cell_type": "code",
   "execution_count": 8,
   "metadata": {
    "collapsed": false
   },
   "outputs": [
    {
     "name": "stdout",
     "output_type": "stream",
     "text": [
      "3 je vacsie ako 1+2: False\n",
      "3^2 je <= ako 1/2: False\n",
      "3 == 1+2: True\n",
      "3 je identicke 1+2: False\n"
     ]
    }
   ],
   "source": [
    "x=3; y=1.0; z=2\n",
    "print(\"%g je vacsie ako %g+%g: \" % (x, y, z), end=\"\"); print(x>y+z)\n",
    "print(\"%g^2 je <= ako %g/%g: \" % (x, y, z), end=\"\"); print(x**2<=y/z)\n",
    "print(\"%g == %g+%g: \" % (x, y, z), end=\"\"); print(x==y+z)\n",
    "print(\"%g je identicke %g+%g: \" % (x, y, z), end=\"\"); print(x is y+z)"
   ]
  },
  {
   "cell_type": "markdown",
   "metadata": {},
   "source": [
    "V programe zadefinujte premennú `percenta` s ľubovolnou hodnotou. Na obrazovku vypíšte, či hodnota premennej sa nachádza v uzavretom intervale 55 až 84. Overte správnu funkčnosť vložením rôznych hodnôt."
   ]
  },
  {
   "cell_type": "code",
   "execution_count": 9,
   "metadata": {
    "collapsed": false
   },
   "outputs": [
    {
     "name": "stdout",
     "output_type": "stream",
     "text": [
      "Hodnota 94 je v intervale 55 az 84: False\n",
      "Hodnota 77 je v intervale 55 az 84: True\n"
     ]
    }
   ],
   "source": [
    "percenta = 94\n",
    "v_intervale = (percenta>=55) and (percenta<=84)\n",
    "print(\"Hodnota %d je v intervale 55 az 84: \" % (percenta) + str(v_intervale))\n",
    "\n",
    "percenta = 77\n",
    "v_intervale = (percenta>=55) and (percenta<=84)\n",
    "print(\"Hodnota %d je v intervale 55 az 84: \" % (percenta) + str(v_intervale))"
   ]
  },
  {
   "cell_type": "markdown",
   "metadata": {},
   "source": [
    "V programe vytvorte premennú `S` a vložte do nej ľubovolnú hodnotu (reťazec, integer, float). Na obrazovku vypíšte:\n",
    "* `True` ak je v `S` reťazec a je zároveň dlhší ako 5 znakov\n",
    "* `False` v opačnom prípade\n",
    "\n",
    "Pomôcka: vytvorte logický výraz, v ktorom porovnáte aj typ premennej v tvare `type(S)==str`"
   ]
  },
  {
   "cell_type": "code",
   "execution_count": 10,
   "metadata": {
    "collapsed": false
   },
   "outputs": [
    {
     "name": "stdout",
     "output_type": "stream",
     "text": [
      "True\n",
      "False\n",
      "False\n"
     ]
    }
   ],
   "source": [
    "S = 'dlhy retazec'\n",
    "S_je_dlhy_retazec = type(S)==str and len(S)>5\n",
    "print(S_je_dlhy_retazec)\n",
    "\n",
    "S = '123'\n",
    "S_je_dlhy_retazec = type(S)==str and len(S)>5\n",
    "print(S_je_dlhy_retazec)\n",
    "\n",
    "S = 23 # hodnota nie je typu retazec\n",
    "S_je_dlhy_retazec = type(S)==str and len(S)>5\n",
    "print(S_je_dlhy_retazec)"
   ]
  },
  {
   "cell_type": "markdown",
   "metadata": {},
   "source": [
    "Vytvorte premenné `R1=\"prvy retazec\"` a `R2=\"druhy retazec\"`. Na obrazovku vypíšte, či:\n",
    "* `R1` je totožný s `R2`\n",
    "* `R1` je rozdielny od `R2`\n",
    "* `R1` obsahuje podreťazec `\"vy\"`\n",
    "* `R1` **neobsahuje** podreťazec `\"zx\"`\n",
    "* `R1` sa začína reťazcom `\"prv\"`\n",
    "* `R1` sa začína reťazcom `\"druhy\"`\n",
    "* `R1` sa končí reťazcom `\"zec\"`\n",
    "* `R1` sa **nekončí** reťazcom `\"xyz\"`"
   ]
  },
  {
   "cell_type": "code",
   "execution_count": 11,
   "metadata": {
    "collapsed": false
   },
   "outputs": [
    {
     "name": "stdout",
     "output_type": "stream",
     "text": [
      "False\n",
      "True\n",
      "True\n",
      "True\n",
      "True\n",
      "False\n",
      "True\n",
      "True\n"
     ]
    }
   ],
   "source": [
    "R1=\"prvy retazec\"\n",
    "R2=\"druhy retazec\"\n",
    "print(R1==R2)                 # su dva retazce totozne?\n",
    "print(R1!=R2)                 # su dva retazce rozdielne?\n",
    "print(\"vy\" in R1)             # obsahuje R1 podretazec \"vy\"?\n",
    "print(\"zx\" not in R1)         # NEobsahuje R1 podretazec \"zx\"\n",
    "print(R1.startswith(\"prv\"))   # zacina sa R1 na \"prv\"?\n",
    "print(R1.startswith(\"druhy\")) # zacina sa R1 na \"druhy\"?\n",
    "print(R1.endswith(\"zec\"))     # konci sa R1 na \"zec\"?\n",
    "print(not R1.endswith(\"xyz\")) # NEkonci sa R1 na \"xyz\"?"
   ]
  },
  {
   "cell_type": "markdown",
   "metadata": {},
   "source": [
    "### IF-ELIF-ELSE podmienky"
   ]
  },
  {
   "cell_type": "markdown",
   "metadata": {},
   "source": [
    "Vytvorte premennú `vek`, naplňte ju hodnotou a na obrazovku vypíšte textovú informáciu, či je osoba plnoletá (ak nie je, tiež o tom informujte)."
   ]
  },
  {
   "cell_type": "code",
   "execution_count": 12,
   "metadata": {
    "collapsed": false
   },
   "outputs": [
    {
     "name": "stdout",
     "output_type": "stream",
     "text": [
      "Osoba je plnoleta\n"
     ]
    }
   ],
   "source": [
    "vek = 23\n",
    "if (vek>=18):\n",
    "    print(\"Osoba je plnoleta\")\n",
    "else:\n",
    "    print(\"Osoba nie je plnoleta\")"
   ]
  },
  {
   "cell_type": "markdown",
   "metadata": {},
   "source": [
    "Z klávesnice načítajte (alebo priamo v programe zadefinujte) reťazec. Na obrazovku vypíšte:\n",
    "* `Vlozil si ANO` ak reťazec obsahuje hodnoty `ano`, `Ano` alebo `ANO`\n",
    "* `Vlozil si NIE` v opačnom prípade"
   ]
  },
  {
   "cell_type": "code",
   "execution_count": 13,
   "metadata": {
    "collapsed": false
   },
   "outputs": [
    {
     "name": "stdout",
     "output_type": "stream",
     "text": [
      "True\n",
      "False\n"
     ]
    }
   ],
   "source": [
    "odpoved = 'Ano'\n",
    "kladna_odpoved = (odpoved=='ano') or (odpoved=='Ano') or (odpoved=='ANO')\n",
    "print(kladna_odpoved)\n",
    "\n",
    "odpoved = 'aNo' # nie je v pozadovanom tvare\n",
    "kladna_odpoved = (odpoved=='ano') or (odpoved=='Ano') or (odpoved=='ANO')\n",
    "print(kladna_odpoved)"
   ]
  },
  {
   "cell_type": "markdown",
   "metadata": {},
   "source": [
    "Z klávesnice načítajte (alebo priamo v programe zadefinujte) vašu výšku. Ak je hodnota väčšia ako 3, interpretujte ju ako výšku v centimetroch, v opačnom prípade ako výšku v metroch. Na záver vypíšte údaje v tvare\n",
    "```\n",
    "Vyska je XXX cm\n",
    "```\n",
    "alebo\n",
    "```\n",
    "Vyska je ZZZ m\n",
    "```\n",
    "podľa toho, v akých jednotkách je uvažovaná výška. Pri výpise s metrami údaj zaokrúhlite na 2 desatinné miesta. Centimetre vypisujte bez desatinných miest."
   ]
  },
  {
   "cell_type": "code",
   "execution_count": 14,
   "metadata": {
    "collapsed": false
   },
   "outputs": [
    {
     "name": "stdout",
     "output_type": "stream",
     "text": [
      "Vyska je 1.77 m\n"
     ]
    }
   ],
   "source": [
    "vyska = 1.77   # vyskasajte aj hodnotu 177\n",
    "if (vyska>3):\n",
    "    print(\"Vyska je %d cm\" % (vyska))\n",
    "else:\n",
    "    print(\"Vyska je %.2f m\" % (vyska))"
   ]
  },
  {
   "cell_type": "markdown",
   "metadata": {},
   "source": [
    "Z klávesnice načítajte (alebo priamo v programe zadefinujte) vašu výšku ako float a reťazec označujúci jednotky. Na obrazovku vypíšte\n",
    "```\n",
    "Vyska je XXX cm\n",
    "```\n",
    "kde `XXX` je výška prepočítaná na centimetre. Podporujte vstupné jednotky `cm` a `m`. Ak bola vložená iná jednotka, vypíšte\n",
    "```\n",
    "Nepodporovana jednotka \"ZZZ\"\n",
    "```\n",
    "kde `ZZZ` je vložený údaj."
   ]
  },
  {
   "cell_type": "code",
   "execution_count": 15,
   "metadata": {
    "collapsed": false
   },
   "outputs": [
    {
     "name": "stdout",
     "output_type": "stream",
     "text": [
      "Vyska je 177 cm\n"
     ]
    }
   ],
   "source": [
    "vyska = 177.0\n",
    "jednotky = \"cm\"  # vyskasajte aj \"m\" a \"km\"\n",
    "if (jednotky==\"cm\"):\n",
    "    print(\"Vyska je %d cm\" % (vyska))\n",
    "elif (jednotky==\"m\"):\n",
    "    print(\"Vyska je %d cm\" % (vyska*100))\n",
    "else:\n",
    "    print('Nepodporovana jednotka \"%s\"' % (jednotky))"
   ]
  },
  {
   "cell_type": "markdown",
   "metadata": {},
   "source": [
    "Do premennej `percenta` vložte (buď z klávesnice alebo priamo v programe) celé číslo. Na obrazovku vypíšte známku prislúchajúcu percentám podľa známej stupnice:\n",
    "* `A`: >=92\n",
    "* `B`: 83-91\n",
    "* `C`: 74-82\n",
    "* `D`: 65-73\n",
    "* `E`: 56-64\n",
    "* `FX`: <56"
   ]
  },
  {
   "cell_type": "code",
   "execution_count": 16,
   "metadata": {
    "collapsed": false
   },
   "outputs": [
    {
     "name": "stdout",
     "output_type": "stream",
     "text": [
      "Percenta: 40, znamka: FX\n"
     ]
    }
   ],
   "source": [
    "percenta = 40\n",
    "if (percenta >= 92):\n",
    "    znamka = 'A'\n",
    "elif (percenta>=83) and (percenta<=91):\n",
    "    znamka = 'B'\n",
    "elif (percenta>=74) and (percenta<=82):\n",
    "    znamka = 'C'\n",
    "elif (percenta>=65) and (percenta<=73):\n",
    "    znamka = 'D'\n",
    "elif (percenta>=56) and (percenta<=64):\n",
    "    znamka = 'E'\n",
    "else:\n",
    "    znamka = \"FX\"\n",
    "print(\"Percenta: %d, znamka: %s\" % (percenta, znamka))"
   ]
  },
  {
   "cell_type": "markdown",
   "metadata": {},
   "source": [
    "Vložte (buď z klávesnice alebo priamo v programe) dve čísla s desatinnou čiarkou a znak reprezentujúci matematickú operáciu. Na obrazovku vypíšte výsledok danej operácie, prípadne informáciu, že daná operácia nie je podporovaná. Príklad:\n",
    "```\n",
    "Vstup: 5.5 11.2 +\n",
    "Vystup:\n",
    "5.5+11.2=16.7\n",
    "```\n",
    "Podporujte operácie `+`, `-`, `*` a `/`"
   ]
  },
  {
   "cell_type": "code",
   "execution_count": 17,
   "metadata": {
    "collapsed": false
   },
   "outputs": [
    {
     "name": "stdout",
     "output_type": "stream",
     "text": [
      "5.5 * 11.2 = 61.6\n"
     ]
    }
   ],
   "source": [
    "prve = 5.5\n",
    "druhe = 11.2\n",
    "operacia = \"*\"\n",
    "if (operacia==\"+\"):\n",
    "    vysledok = prve+druhe\n",
    "elif (operacia==\"-\"):\n",
    "    vysledok = prve-druhe\n",
    "elif (operacia==\"*\"):\n",
    "    vysledok = prve*druhe\n",
    "elif (operacia==\"/\"):\n",
    "    vysledok = prve/druhe\n",
    "else:\n",
    "    vysledok = None  # oznacuje neplatnu operaciu\n",
    "if (vysledok is None):\n",
    "    print(\"Neplatna operacia \\\"%s\\\"\" % (operacia))\n",
    "else:\n",
    "    print(\"%g %s %g = %g\" % (prve, operacia, druhe, vysledok))"
   ]
  }
 ],
 "metadata": {
  "kernelspec": {
   "display_name": "Python 3",
   "language": "python",
   "name": "python3"
  },
  "language_info": {
   "codemirror_mode": {
    "name": "ipython",
    "version": 3
   },
   "file_extension": ".py",
   "mimetype": "text/x-python",
   "name": "python",
   "nbconvert_exporter": "python",
   "pygments_lexer": "ipython3",
   "version": "3.5.0"
  }
 },
 "nbformat": 4,
 "nbformat_minor": 0
}
