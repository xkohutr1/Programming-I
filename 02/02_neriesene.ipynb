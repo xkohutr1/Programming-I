{
 "cells": [
  {
   "cell_type": "markdown",
   "metadata": {},
   "source": [
    "# Cvičenie č. 2: Neriešené príklady"
   ]
  },
  {
   "cell_type": "markdown",
   "metadata": {},
   "source": [
    "Poznámka: údaje v jednotlivých úlohách môžete buď načítavať z klávesnice alebo ich priamo definovať v programe."
   ]
  },
  {
   "cell_type": "markdown",
   "metadata": {},
   "source": [
    "### Môžem ísť piť?"
   ]
  },
  {
   "cell_type": "markdown",
   "metadata": {},
   "source": [
    "Napíšte program, ktorý si od vás vypýta rok narodenia a na základe vášho veku vypíše, či si môžete objednať alkoholický nápoj alebo nie."
   ]
  },
  {
   "cell_type": "code",
   "execution_count": null,
   "metadata": {
    "collapsed": true
   },
   "outputs": [],
   "source": []
  },
  {
   "cell_type": "markdown",
   "metadata": {},
   "source": [
    "### Mám dosť peňazí?"
   ]
  },
  {
   "cell_type": "markdown",
   "metadata": {},
   "source": [
    "Na základe údajov o množstve peňazí a cene tovaru bez DPH vypíšte informáciu o tom, či si daný tovar môžete dovoliť. Uvažujte jednotnú sadzbu DPH na úrovni 20%.\n",
    "\n",
    "Príklad vstupu ak máme 10 EUR a tovar bez DPH stojí 8 EUR:\n",
    "```\n",
    "Tovar si mozes dovolit, lebo s DPH stoji 9.60 EUR, ostane ti 0.40 EUR\n",
    "```\n",
    "\n",
    "Príklad vstupu ak máme 10 EUR a tovar bez DPH stojí 9 EUR:\n",
    "```\n",
    "Tovar si nemozes dovolit, lebo s DPH stoji 10.80 EUR, chyba ti 0.80 EUR\n",
    "```\n",
    "\n",
    "Všetky sumy vypisujte s presnoťou na 2 desatinné miesta.\n"
   ]
  },
  {
   "cell_type": "code",
   "execution_count": null,
   "metadata": {
    "collapsed": true
   },
   "outputs": [],
   "source": []
  },
  {
   "cell_type": "markdown",
   "metadata": {},
   "source": [
    "### Obľúbené zviera"
   ]
  },
  {
   "cell_type": "markdown",
   "metadata": {},
   "source": [
    "Napíšte program, ktorý zisti aké zviera mate radi. Najskôr zistite používateľove preferencie:\n",
    "1. Máš rád zvieratá? Možné odpovede: `ano` alebo `nie`\n",
    "2. Veľké či malé? Možne odpovede: `velke` alebo `male`\n",
    "3. Chlpaté? Možne odpovede: `ano` alebo `nie`\n",
    "\n",
    "Potom program vypíše:\n",
    "```\n",
    "Tvoje oblubene zviera je XXX\n",
    "```\n",
    "kde `XXX` sa určí podľa nasledovnej rozhodovacej logiky:\n",
    "* `XXX=\"lev\"` ak má rád veľké a chlpaté zvieratá\n",
    "* `XXX=\"slon\"` ak má rád veľké a nechlpaté zvieratá\n",
    "* `XXX=\"macka\"` ak má rád malé a chlpaté zvieratá\n",
    "* `XXX=\"korytnacka\"` ak má rád malé a nechlpaté zvieratá\n",
    "\n",
    "Ak nemáte radi zvieratá tak sa vypíše: `To je smutne.`"
   ]
  },
  {
   "cell_type": "code",
   "execution_count": null,
   "metadata": {
    "collapsed": true
   },
   "outputs": [],
   "source": []
  },
  {
   "cell_type": "markdown",
   "metadata": {},
   "source": [
    "### Informácie o číslach"
   ]
  },
  {
   "cell_type": "markdown",
   "metadata": {},
   "source": [
    "V programe vložte číslo s desatinnou čiarkou. Na obrazovku vypíšte informáciu o tom, či číslo je:\n",
    "* kladné, záporné alebo rovné nule\n",
    "* párne alebo nepárne\n",
    "* celé alebo desatinné\n",
    "\n",
    "Pomôcky: \n",
    "* Na zistenie párnosti vypočítajte zvyšok po delení dvojkou (napr. `x % 2`). Ak je nulový, číslo je párne.\n",
    "* Na zistenie, či je číslo celé ho porovnajte so zaokrúhlenou hodnotou. Zaokrúhlenie sa v pythone realizuje cez `round(x)`."
   ]
  },
  {
   "cell_type": "code",
   "execution_count": null,
   "metadata": {
    "collapsed": true
   },
   "outputs": [],
   "source": []
  },
  {
   "cell_type": "markdown",
   "metadata": {},
   "source": [
    "### Porovnávanie dĺžky reťazcov"
   ]
  },
  {
   "cell_type": "markdown",
   "metadata": {},
   "source": [
    "Vytvorte dva reťazce rôznej dĺžky, povedzme `R1` a `R2`. Ak je prvý dlhší ako druhý, vypíšte\n",
    "```\n",
    "Prvy retazec je dlhsi ako druhy o XXX znakov.\n",
    "```\n",
    "kde za XXX dosadíte správny údaj (rozdiel dĺžky reťazcov). Ak je `R2` dlhší ako `R1`, potom vypíšte\n",
    "```\n",
    "Druhy retazec je dlhsi ako prvy o XXX znakov.\n",
    "```\n",
    "Ak majú reťazce zhodnú dĺžku, vypíšte\n",
    "```\n",
    "Oba retazce maju ZZZ znakov\n",
    "```\n",
    "kde za `ZZZ` dosadíte správny údaj.\n",
    "\n",
    "Na otestovanie použite nasledovné reťazce:\n",
    "```\n",
    "R1=\"ja som dlhsi ako druhy\"; R2=\"ja som kratky\"\n",
    "R1=\"ja som kratky\"; R2=\"ja som dlhocizny\"\n",
    "R1=\"ja som retazec\"; R2=\"ja som tiez!!!\"\n",
    "```"
   ]
  },
  {
   "cell_type": "code",
   "execution_count": null,
   "metadata": {
    "collapsed": true
   },
   "outputs": [],
   "source": []
  },
  {
   "cell_type": "markdown",
   "metadata": {},
   "source": [
    "### Registračná pokladnica"
   ]
  },
  {
   "cell_type": "markdown",
   "metadata": {},
   "source": [
    "Načítajte počet kusov tovaru (integer), jednotkovú cenu bez DPH (float) a kategóriu DPH (reťazec, buď `zakladna` alebo `znizena`). Na obrazovku vypíšte informácie o nákupe v tvare\n",
    "```\n",
    "Jednotkova cena: XXX eur\n",
    "Pocet kusov: XXX\n",
    "Kategoria DPH: znizena alebo zakladna (podla vstupu)\n",
    "Celkova suma bez DPH: XXX eur\n",
    "Celkova DPH: XXX eur\n",
    "Celkova suma s DPH: XXX eur\n",
    "```\n",
    "Sumy v eurách budú vypísané s 2 desatinnými miestami, počet kusov ako celé číslo. Uvažujte základnú sadzbu DPH na úrovni 20% a zníženú na úrovni 10%."
   ]
  },
  {
   "cell_type": "code",
   "execution_count": null,
   "metadata": {
    "collapsed": true
   },
   "outputs": [],
   "source": []
  },
  {
   "cell_type": "markdown",
   "metadata": {},
   "source": [
    "### Porovnávanie dátumov"
   ]
  },
  {
   "cell_type": "markdown",
   "metadata": {},
   "source": [
    "Načítajte (alebo v programe zadefinujte) dva reťazce v tvare `den.mesiac` (`den` aj `mesiac` budú mať vždy 2 cifry, teda napr. `05.04` bude 5. apríl). Na obrazovku vypíšte informáciu o tom, ktorý z dátumov je kalendárne starší (napr. január je starší ako marec).\n",
    "```\n",
    "Príklad vstupu: 03.07 20.06\n",
    "Príklad výstupu: Starsi datum je 20.06, novsi datum je 03.07\n",
    "\n",
    "Príklad vstupu: 15.06 20.06\n",
    "Príklad výstupu: Starsi datum je 15.06, novsi datum je 20.06\n",
    "```\n",
    "Pomôcka: najskôr reťazec v tvare `XX.YY` rozdeľte na 2 časti využitím faktu, že aj deň aj mesiac majú 2 cifry. Následne každú časť samostatne prekonvertujte na číslo.\n",
    "\n",
    "Bonus: v programe ošetrite vstupné údaje, ktoré nie sú v požadovanom tvare. Kontrolujte, či:\n",
    "* vstupné reťazce majú presne 5 znakov\n",
    "* tretím znakom v poradí je bodka"
   ]
  },
  {
   "cell_type": "code",
   "execution_count": null,
   "metadata": {
    "collapsed": true
   },
   "outputs": [],
   "source": []
  }
 ],
 "metadata": {
  "kernelspec": {
   "display_name": "Python 3",
   "language": "python",
   "name": "python3"
  },
  "language_info": {
   "codemirror_mode": {
    "name": "ipython",
    "version": 3
   },
   "file_extension": ".py",
   "mimetype": "text/x-python",
   "name": "python",
   "nbconvert_exporter": "python",
   "pygments_lexer": "ipython3",
   "version": "3.5.0"
  }
 },
 "nbformat": 4,
 "nbformat_minor": 0
}
