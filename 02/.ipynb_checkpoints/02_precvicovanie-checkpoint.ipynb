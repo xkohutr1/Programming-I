{
 "cells": [
  {
   "cell_type": "markdown",
   "metadata": {},
   "source": [
    "## Precvičovanie učiva z 2. prednášky"
   ]
  },
  {
   "cell_type": "markdown",
   "metadata": {},
   "source": [
    "### Dátový typ `bool`"
   ]
  },
  {
   "cell_type": "markdown",
   "metadata": {},
   "source": [
    "Vytvorte premennú `pravda` a naplňte je pravdivou hodnotou `True`"
   ]
  },
  {
   "cell_type": "code",
   "execution_count": 1,
   "metadata": {
    "collapsed": true
   },
   "outputs": [],
   "source": [
    "pravda = True"
   ]
  },
  {
   "cell_type": "markdown",
   "metadata": {},
   "source": [
    "Vypíšte obsah premennej `pravda` ako string:"
   ]
  },
  {
   "cell_type": "code",
   "execution_count": 2,
   "metadata": {},
   "outputs": [
    {
     "name": "stdout",
     "output_type": "stream",
     "text": [
      "True\n"
     ]
    }
   ],
   "source": [
    "print(pravda)"
   ]
  },
  {
   "cell_type": "markdown",
   "metadata": {},
   "source": [
    "Vypíšte obsah premennej `pravda` ako celé číslo:"
   ]
  },
  {
   "cell_type": "code",
   "execution_count": 3,
   "metadata": {},
   "outputs": [
    {
     "name": "stdout",
     "output_type": "stream",
     "text": [
      "1\n"
     ]
    }
   ],
   "source": [
    "print(\"%d\" % (pravda))"
   ]
  },
  {
   "cell_type": "markdown",
   "metadata": {},
   "source": [
    "Vytvorte premennú `nepravda` a naplňte je nepravdivou hodnotou `False`"
   ]
  },
  {
   "cell_type": "code",
   "execution_count": null,
   "metadata": {
    "collapsed": true
   },
   "outputs": [],
   "source": []
  },
  {
   "cell_type": "markdown",
   "metadata": {},
   "source": [
    "Vypíšte obsah premennej `nepravda` ako float:"
   ]
  },
  {
   "cell_type": "code",
   "execution_count": null,
   "metadata": {
    "collapsed": true
   },
   "outputs": [],
   "source": []
  },
  {
   "cell_type": "markdown",
   "metadata": {},
   "source": [
    "Vytvorte premenné `X` (pravdivá hodnota) a `Y` (nepravdivá hodnota). Na obrazovku vypíšte pravdivostné výsledky (`True` alebo `False`) nasledovných logických výrazov:\n",
    "* `X` a zároveň `Y`\n",
    "* `X` alebo `Y`\n",
    "* nie `X`\n",
    "* nie `X` a zároveň `Y`\n",
    "* nie (`X` a zároveň `Y`)\n",
    "\n",
    "Pomôcka: `print(X and Y)` vypíše pravdivostnú hodnotu výrazu \"`X` a zároveň `Y`\"."
   ]
  },
  {
   "cell_type": "code",
   "execution_count": null,
   "metadata": {
    "collapsed": true
   },
   "outputs": [],
   "source": []
  },
  {
   "cell_type": "markdown",
   "metadata": {},
   "source": [
    "Uvažujme dve logické premenné `A` a `B`. Vytvorte program, ktorý na obrazovku vypíšte pravdivostnú tabuľku výrazov\n",
    "* `A` a zároveň `B`\n",
    "* `A` a nie `B`\n",
    "* `A` alebo `B`\n",
    "\n",
    "Výstup musí byť v tvare\n",
    "```\n",
    "A B A&B A&~B A|B\n",
    "0 0  0   0    0\n",
    "1 0  0   1    1\n",
    "0 1  0   0    1\n",
    "1 1  1   0    1\n",
    "```\n",
    "Pomôcka: na vypisovanie pravdivostnej hodnoty ako čísla 0 alebo 1 použite `print(\"%d\" % (logicka_premenna))`"
   ]
  },
  {
   "cell_type": "code",
   "execution_count": null,
   "metadata": {
    "collapsed": true
   },
   "outputs": [],
   "source": []
  },
  {
   "cell_type": "markdown",
   "metadata": {},
   "source": [
    "Uvažujme čísla `x=3` (integer), `y=1.0` (float) a `z=2` (integer). Na obrazovku vypíšte pravdivostnú hodnotu nasledovných porovnaní:\n",
    "* `x` je väčšie ako `y+z`\n",
    "* druhá mocnina `x` je menšia alebo rovná ako podiel `y` a `z`\n",
    "* `x` sa rovná sume `y` a `z`\n",
    "* `x` je identicky rovné sume `y` a `z`"
   ]
  },
  {
   "cell_type": "code",
   "execution_count": null,
   "metadata": {
    "collapsed": true
   },
   "outputs": [],
   "source": []
  },
  {
   "cell_type": "markdown",
   "metadata": {},
   "source": [
    "V programe zadefinujte premennú `percenta` s ľubovolnou hodnotou. Na obrazovku vypíšte, či hodnota premennej sa nachádza v uzavretom intervale 55 až 84. Odpoveď má byť v tvare `True` alebo `False`. Overte správnu funkčnosť vložením rôznych hodnôt."
   ]
  },
  {
   "cell_type": "code",
   "execution_count": null,
   "metadata": {
    "collapsed": true
   },
   "outputs": [],
   "source": []
  },
  {
   "cell_type": "markdown",
   "metadata": {},
   "source": [
    "V programe vytvorte premennú `S` a vložte do nej ľubovolnú hodnotu (reťazec, integer, float). Na obrazovku vypíšte:\n",
    "* `True` ak je v `S` reťazec a je zároveň dlhší ako 5 znakov\n",
    "* `False` v opačnom prípade\n",
    "\n",
    "Pomôcka: vytvorte logický výraz, v ktorom porovnáte aj typ premennej v tvare `type(S)==str`"
   ]
  },
  {
   "cell_type": "code",
   "execution_count": null,
   "metadata": {
    "collapsed": true
   },
   "outputs": [],
   "source": []
  },
  {
   "cell_type": "markdown",
   "metadata": {},
   "source": [
    "Vytvorte premenné `R1=\"prvy retazec\"` a `R2=\"druhy retazec\"`. Na obrazovku vypíšte pravdivostné hodnoty nasledovných porovnaní:\n",
    "* `R1` je totožný s `R2`\n",
    "* `R1` je rozdielny od `R2`\n",
    "* `R1` obsahuje podreťazec `\"vy\"`\n",
    "* `R1` **neobsahuje** podreťazec `\"zx\"`\n",
    "* `R1` sa začína reťazcom `\"prv\"`\n",
    "* `R1` sa začína reťazcom `\"druhy\"`\n",
    "* `R1` sa končí reťazcom `\"zec\"`\n",
    "* `R1` sa **nekončí** reťazcom `\"xyz\"`"
   ]
  },
  {
   "cell_type": "code",
   "execution_count": null,
   "metadata": {
    "collapsed": true
   },
   "outputs": [],
   "source": []
  },
  {
   "cell_type": "markdown",
   "metadata": {},
   "source": [
    "### IF-ELIF-ELSE podmienky"
   ]
  },
  {
   "cell_type": "markdown",
   "metadata": {},
   "source": [
    "Vytvorte premennú `vek`, naplňte ju hodnotou a na obrazovku vypíšte textovú informáciu, či je osoba plnoletá (ak nie je, tiež o tom informujte)."
   ]
  },
  {
   "cell_type": "code",
   "execution_count": null,
   "metadata": {
    "collapsed": true
   },
   "outputs": [],
   "source": []
  },
  {
   "cell_type": "markdown",
   "metadata": {},
   "source": [
    "Z klávesnice načítajte (alebo priamo v programe zadefinujte) reťazec. Na obrazovku vypíšte:\n",
    "* `Vlozil si ANO` ak reťazec obsahuje hodnoty `ano`, `Ano` alebo `ANO`\n",
    "* `Vlozil si NIE` v opačnom prípade"
   ]
  },
  {
   "cell_type": "code",
   "execution_count": null,
   "metadata": {
    "collapsed": true
   },
   "outputs": [],
   "source": []
  },
  {
   "cell_type": "markdown",
   "metadata": {},
   "source": [
    "Z klávesnice načítajte (alebo priamo v programe zadefinujte) vašu výšku. Ak je hodnota väčšia ako 3, interpretujte ju ako výšku v centimetroch, v opačnom prípade ako výšku v metroch. Na záver vypíšte údaje v tvare\n",
    "```\n",
    "Vyska je XXX cm\n",
    "```\n",
    "alebo\n",
    "```\n",
    "Vyska je ZZZ m\n",
    "```\n",
    "podľa toho, v akých jednotkách je uvažovaná výška. Pri výpise s metrami údaj zaokrúhlite na 2 desatinné miesta. Centimetre vypisujte bez desatinných miest."
   ]
  },
  {
   "cell_type": "code",
   "execution_count": null,
   "metadata": {
    "collapsed": true
   },
   "outputs": [],
   "source": []
  },
  {
   "cell_type": "markdown",
   "metadata": {},
   "source": [
    "Z klávesnice načítajte (alebo priamo v programe zadefinujte) vašu výšku ako float a reťazec označujúci jednotky. Na obrazovku vypíšte\n",
    "```\n",
    "Vyska je XXX cm\n",
    "```\n",
    "kde `XXX` je výška prepočítaná na centimetre. Podporujte vstupné jednotky `cm` a `m`. Ak bola vložená iná jednotka, vypíšte\n",
    "```\n",
    "Nepodporovana jednotka \"ZZZ\"\n",
    "```\n",
    "kde `ZZZ` je vložený údaj."
   ]
  },
  {
   "cell_type": "code",
   "execution_count": null,
   "metadata": {
    "collapsed": true
   },
   "outputs": [],
   "source": []
  },
  {
   "cell_type": "markdown",
   "metadata": {},
   "source": [
    "Do premennej `percenta` vložte (buď z klávesnice alebo priamo v programe) celé číslo. Na obrazovku vypíšte známku prislúchajúcu percentám podľa známej stupnice:\n",
    "* `A`: >=92\n",
    "* `B`: 83-91\n",
    "* `C`: 74-82\n",
    "* `D`: 65-73\n",
    "* `E`: 56-64\n",
    "* `FX`: <56"
   ]
  },
  {
   "cell_type": "code",
   "execution_count": null,
   "metadata": {
    "collapsed": true
   },
   "outputs": [],
   "source": []
  },
  {
   "cell_type": "markdown",
   "metadata": {},
   "source": [
    "Vložte (buď z klávesnice alebo priamo v programe) dve čísla s desatinnou čiarkou a znak reprezentujúci matematickú operáciu. Na obrazovku vypíšte výsledok danej operácie, prípadne informáciu, že daná operácia nie je podporovaná. Príklad:\n",
    "```\n",
    "Vstup: 5.5 11.2 +\n",
    "Vystup:\n",
    "5.5+11.2=16.7\n",
    "```\n",
    "Podporujte operácie `+`, `-`, `*` a `/`"
   ]
  },
  {
   "cell_type": "code",
   "execution_count": null,
   "metadata": {
    "collapsed": true
   },
   "outputs": [],
   "source": []
  }
 ],
 "metadata": {
  "kernelspec": {
   "display_name": "Python 3",
   "language": "python",
   "name": "python3"
  },
  "language_info": {
   "codemirror_mode": {
    "name": "ipython",
    "version": 3
   },
   "file_extension": ".py",
   "mimetype": "text/x-python",
   "name": "python",
   "nbconvert_exporter": "python",
   "pygments_lexer": "ipython3",
   "version": "3.6.2"
  }
 },
 "nbformat": 4,
 "nbformat_minor": 1
}
