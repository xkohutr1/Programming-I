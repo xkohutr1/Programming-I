{
 "cells": [
  {
   "cell_type": "markdown",
   "metadata": {},
   "source": [
    "Otvorte súbor s názvom `kvadraticka_rovnica.txt` uložený vo vašom priečinku. Vypíšte jeho obsah po riadkoch na obrazovku. Obsah uložte do zoznamu zoznamov číselných hodnôt, kde vnútorné zoznamy reprezentujú jednotlivé riadky s prvkami príslušných číselných hodnôt. Zavrite súbor."
   ]
  },
  {
   "cell_type": "code",
   "execution_count": null,
   "metadata": {
    "collapsed": true
   },
   "outputs": [],
   "source": []
  },
  {
   "cell_type": "markdown",
   "metadata": {},
   "source": [
    "Zistite počet riadkov, ako aj počet znakov súboru `kvadraticka_rovnica.txt`."
   ]
  },
  {
   "cell_type": "code",
   "execution_count": null,
   "metadata": {
    "collapsed": true
   },
   "outputs": [],
   "source": []
  },
  {
   "cell_type": "markdown",
   "metadata": {},
   "source": [
    "Spočítajte sumu, maximum, minimum a aritmetický priemer stĺpcov súboru `kvadraticka_rovnica.txt` a výsledoky vypíšte na obrazovku."
   ]
  },
  {
   "cell_type": "code",
   "execution_count": null,
   "metadata": {
    "collapsed": true
   },
   "outputs": [],
   "source": []
  },
  {
   "cell_type": "markdown",
   "metadata": {
    "collapsed": true
   },
   "source": [
    "Uvažujte o matici čísel zo súboru `kvadraticka_rovnica.txt` ako o množine koeficientov kvadratickej rovnice, kde každý riadok reprezentuje trojicu (a b c) z rovnice: $ax^2 + bx + c = 0$. Vytvorte funkciu na vypočítanie koreňov kvadratickej rovnice. Funkciu využite pri vypočítaní koreňov každej kvardatickej rovnice v pôvodnom súbore a výsledok postupne zapisujte do nového súboru korene.txt v tvare $x_1$ = koreň1, $x_2$ = koreň2. V prípade imaginárnych koreňov sa do súboru zapíše \"korene sú imaginárne\"."
   ]
  },
  {
   "cell_type": "code",
   "execution_count": null,
   "metadata": {
    "collapsed": true
   },
   "outputs": [],
   "source": []
  },
  {
   "cell_type": "markdown",
   "metadata": {},
   "source": [
    "Vytvor funkciu `tlacSubor(subor)` ktorá vypíše obsah súboru `\"subor\"` na obazovku."
   ]
  },
  {
   "cell_type": "code",
   "execution_count": null,
   "metadata": {
    "collapsed": true
   },
   "outputs": [],
   "source": []
  },
  {
   "cell_type": "markdown",
   "metadata": {},
   "source": [
    "Skonštrujute protokol o dnešnom cvičení vo forme slovníku s kľúčami: Predmet, Téma cvičenia, Dátum, Meno prednášajúceho, Meno cvičiaceho, Meno študenta, doplnenie vhodných hodnôt je súčasťou úlohy. Vytvorený slovník zapíšte do súboru s názvom `protokol.txt` vo forme:\n",
    "```\n",
    "             Predmet: Programovanie 1\n",
    "       Téma cvičenia: Práca so súbormi\n",
    "               Dátum: 19.4.2016             \n",
    "        Prednášajúci: Michal Kvasnica\n",
    "            Cvičiaci: Ján Drgoňa \n",
    "             Študent: XY\n",
    "```      "
   ]
  },
  {
   "cell_type": "code",
   "execution_count": null,
   "metadata": {
    "collapsed": true
   },
   "outputs": [],
   "source": []
  },
  {
   "cell_type": "markdown",
   "metadata": {},
   "source": [
    "Čitajte hodnoty zo súboru `protokol.txt` vytvoreného v predošlej úlohe. Do nového súboru `prezencka.txt` uložte riadky s dátumom a menom študenta. \n",
    "Vzor:\n",
    "```\n",
    "  Datum: 19.4.2016\n",
    "Student: XY\n",
    "```"
   ]
  },
  {
   "cell_type": "code",
   "execution_count": null,
   "metadata": {
    "collapsed": true
   },
   "outputs": [],
   "source": []
  },
  {
   "cell_type": "markdown",
   "metadata": {},
   "source": [
    "Zostavte funkciu `realnecisla(subor)`, ktorá načíta zo súboru všetky reálne čísla, ktoré súbor obsahuje, načáta ich do jednorozmerného poľa a vytlačí na obrazovku:\n",
    "* sumu zadaných čísel\n",
    "* ich aritmetický priemer\n",
    "* minimum\n",
    "* maximum\n",
    "\n",
    "a do nového súboru `zoradene.txt` zapíše zoradené zadané čísla v poli od najmenšieho po najväčšie."
   ]
  },
  {
   "cell_type": "code",
   "execution_count": null,
   "metadata": {
    "collapsed": true
   },
   "outputs": [],
   "source": []
  },
  {
   "cell_type": "markdown",
   "metadata": {},
   "source": [
    "Dyslektický básnik zapísal svoju báseň do súboru `neporiadna_basen.txt`. Vašou úlohou je túto báseň naformátovať do knižnej podoby a uložiť do nového súboru `poriadna_basen.txt`. Vzorový výstup:\n",
    "\n",
    "    Co můžeš dát, ty nebožácký ďase!\n",
    "    Což lidský duch, vzňat po vznešeném jase, \n",
    "    kýms, jako tys, byl chápán kdy?\n",
    "    Leč krmi dej, jež rozlačňuje vždy,\n",
    "    a zlata rudého dej poklady,\n",
    "    jež na dlani se roztekou jak rtuť,\n",
    "    dej hru, při níž se nevyhrává,)\n",
    "    či dívku, kterou tisknu na svou hruď,\n",
    "    zatímco s druhem mým už znamení si dává,\n",
    "    dej světlo slávy božsky krásné,\n",
    "    jež meteorem vzplá i zhasne!\n",
    "    Ukaž mi plod, jenž, než je střesen, hnije,\n",
    "    či strom, jenž den co den vždy znova zelený je!\n",
    "\n",
    "                                    FAUST"
   ]
  },
  {
   "cell_type": "code",
   "execution_count": null,
   "metadata": {
    "collapsed": true
   },
   "outputs": [],
   "source": []
  },
  {
   "cell_type": "markdown",
   "metadata": {},
   "source": [
    "Načítajte z klávesnice poradie riadka. Vypíšte tento riadok zo súboru `poriadna_basen.txt` na obrazovku s textom.\n",
    "```\n",
    "n-tý verš básne je: \"príslušný verš\"\n",
    "```"
   ]
  },
  {
   "cell_type": "code",
   "execution_count": null,
   "metadata": {
    "collapsed": true
   },
   "outputs": [],
   "source": []
  },
  {
   "cell_type": "markdown",
   "metadata": {},
   "source": [
    "Vytvorte funkciu `pocetslov(subor)` ktorá spočíta počet slov v súbore `\"subor\"`."
   ]
  },
  {
   "cell_type": "code",
   "execution_count": null,
   "metadata": {
    "collapsed": true
   },
   "outputs": [],
   "source": []
  }
 ],
 "metadata": {
  "kernelspec": {
   "display_name": "Python 3",
   "language": "python",
   "name": "python3"
  },
  "language_info": {
   "codemirror_mode": {
    "name": "ipython",
    "version": 3
   },
   "file_extension": ".py",
   "mimetype": "text/x-python",
   "name": "python",
   "nbconvert_exporter": "python",
   "pygments_lexer": "ipython3",
   "version": "3.6.2"
  }
 },
 "nbformat": 4,
 "nbformat_minor": 1
}
