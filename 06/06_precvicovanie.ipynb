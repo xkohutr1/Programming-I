{
 "cells": [
  {
   "cell_type": "markdown",
   "metadata": {},
   "source": [
    "# Cvičenie č. 6: Úlohy na precvičovanie prednášky"
   ]
  },
  {
   "cell_type": "markdown",
   "metadata": {},
   "source": [
    "Vytvorte funkciu `prepona`, ktorá vezme ako vstup dĺžku odvesien pravoúhleho trojuholníka a vráti dĺžku jeho prepony.\n",
    "\n",
    "Príklad vstupu: `3, 4`\n",
    "\n",
    "Očakávaný výstup: `5`\n",
    "\n",
    "**Bonus:** ošetrite situáciu ak je na vstupe číslo menšie ako 0."
   ]
  },
  {
   "cell_type": "code",
   "execution_count": null,
   "metadata": {
    "collapsed": true
   },
   "outputs": [],
   "source": []
  },
  {
   "cell_type": "markdown",
   "metadata": {},
   "source": [
    "Vytvorte funkciu `odvesna`, ktorá vezme ako vstup dĺžku jednej odvesny pravoúhleho trojuholníka a dĺžku jeho prepony a vráti dĺžku jeho druhej odvesny.\n",
    "\n",
    "Príklad vstupu: `3, 5`\n",
    "\n",
    "Očakávaný výstup: `4`"
   ]
  },
  {
   "cell_type": "code",
   "execution_count": null,
   "metadata": {
    "collapsed": true
   },
   "outputs": [],
   "source": []
  },
  {
   "cell_type": "markdown",
   "metadata": {},
   "source": [
    "Vytvorte funkciu `je_parne` ktorá ako vstup vezme číslo a vráti `True` ak je dané číslo párne a `False` v opačnom prípade.\n",
    "\n",
    "Testovacie vstupy/výstupy:\n",
    "```\n",
    "4 True\n",
    "5 False\n",
    "2.5 False\n",
    "```"
   ]
  },
  {
   "cell_type": "code",
   "execution_count": null,
   "metadata": {},
   "outputs": [],
   "source": []
  },
  {
   "cell_type": "markdown",
   "metadata": {},
   "source": [
    "Funkciu `je_parne` upravte tak, aby vrátila `None` ak vstupom nie je celé číslo.\n",
    "\n",
    "Testovacie vstupy/výstupy:\n",
    "```\n",
    "4 True\n",
    "5 False\n",
    "2.5 None\n",
    "```"
   ]
  },
  {
   "cell_type": "code",
   "execution_count": null,
   "metadata": {},
   "outputs": [],
   "source": []
  },
  {
   "cell_type": "markdown",
   "metadata": {},
   "source": [
    "Implementujte funkciu `absolutna_hodnota` na výpočet absolútnej hodnoty čísla podľa známeho vzorca:\n",
    "\\begin{align}\n",
    "|x| = \\begin{cases} \\phantom{-}x \\ & \\text{ak} \\ x \\ge 0\\\\\n",
    "-x \\ & \\text{inak}\n",
    "\\end{cases}\n",
    "\\end{align}"
   ]
  },
  {
   "cell_type": "code",
   "execution_count": null,
   "metadata": {},
   "outputs": [],
   "source": []
  },
  {
   "cell_type": "markdown",
   "metadata": {},
   "source": [
    "Vytvorte funkciu `najvacsie_z_3`, ktorej vstupom budú 3 čísla a výstupom bude najväčšie z nich.\n",
    "\n",
    "Príklad volania/očakávaný výstup:\n",
    "```\n",
    ">>> najvacsie_z_3(40, 21, 46)\n",
    "46\n",
    "```"
   ]
  },
  {
   "cell_type": "code",
   "execution_count": null,
   "metadata": {
    "collapsed": true
   },
   "outputs": [],
   "source": []
  },
  {
   "cell_type": "markdown",
   "metadata": {},
   "source": [
    "Vytvorte funkciu `suma_cisel`, ktorá ako svoj vstup zoberie zoznam čísel a výstupom z funkcie bude súčet jednotlivých čísel."
   ]
  },
  {
   "cell_type": "code",
   "execution_count": null,
   "metadata": {
    "collapsed": true
   },
   "outputs": [],
   "source": []
  },
  {
   "cell_type": "markdown",
   "metadata": {},
   "source": [
    "Vytvorte funkciu `obrat_retazec`, ktorej vstupom je reťazec. Na výstupe funkcia vráti daný reťazec v opačnom poradí."
   ]
  },
  {
   "cell_type": "code",
   "execution_count": null,
   "metadata": {
    "collapsed": true
   },
   "outputs": [],
   "source": []
  },
  {
   "cell_type": "markdown",
   "metadata": {},
   "source": [
    "Funkcia `je_v_intervale` berie 3 vstupy: číslo, dolnú medzu intervalu a hornú medzu intervalu. Funkcia vráti buď `True` ak je číslo v danom intervale alebo `False` ak v ňom nie je."
   ]
  },
  {
   "cell_type": "code",
   "execution_count": null,
   "metadata": {
    "collapsed": true
   },
   "outputs": [],
   "source": []
  },
  {
   "cell_type": "markdown",
   "metadata": {},
   "source": [
    "Intervalovú funkciu z predošlého kroku upravte tak, aby prednastavenou hodnotou dolnej medze bola nula. Vyskúšajte volanie tejto funkcie 3 spôsobmi:\n",
    "1. pomocou 3 vstupných argumentov\n",
    "2. pomocou 2 vstupov, teda `interval(cislo, horna_medza)`\n",
    "3. pomocou 3 pomenovaných vstupov, teda `interval(cislo=1.2, dolna_medza=4, horna_medza=8)`"
   ]
  },
  {
   "cell_type": "code",
   "execution_count": null,
   "metadata": {
    "collapsed": true
   },
   "outputs": [],
   "source": []
  },
  {
   "cell_type": "markdown",
   "metadata": {},
   "source": [
    "Vytvorte funkciu `unikatne_prvky`, ktorá ako svoj vstup zoberie zoznam prvkov a ako výstup vráti zoznam unikátnych prvkov. Pritom funkcia nesmie modifikovať pôvodný zoznam.\n",
    "\n",
    "Príklad vstupu: `[1,2,3,3,3,3,4,5]`\n",
    "\n",
    "Očakávaný výstup: `[1, 2, 3, 4, 5]`"
   ]
  },
  {
   "cell_type": "code",
   "execution_count": null,
   "metadata": {
    "collapsed": true
   },
   "outputs": [],
   "source": []
  },
  {
   "cell_type": "markdown",
   "metadata": {},
   "source": [
    "Vytvorte funkciu `parne_prvky`, ktorá vráti párne prvky daného zoznamu čísel.\n",
    "\n",
    "Príklad vstupu: `[1, 2, 3, 4, 5, 6, 7, 8, 9]`\n",
    "\n",
    "Očakávaný výstup: `[2, 4, 6, 8]`"
   ]
  },
  {
   "cell_type": "code",
   "execution_count": null,
   "metadata": {
    "collapsed": true
   },
   "outputs": [],
   "source": []
  },
  {
   "cell_type": "markdown",
   "metadata": {},
   "source": [
    "Vytvorte funkciu `otoc_vetu`, ktorej vstupom je reťazec slov oddelených medzerou. Výstupom z funkcie bude nový reťazec skladajúci sa z jednotlivých slov, ale v opačnom poradí.\n",
    "\n",
    "Príklad vstupu: `Ja som zakerna veta`\n",
    "\n",
    "Očakávaný výstup: `Veta zakerna som ja`\n",
    "\n",
    "**Bonus:** dbajte na veľké začiatočné písmeno vety"
   ]
  },
  {
   "cell_type": "code",
   "execution_count": null,
   "metadata": {
    "collapsed": true
   },
   "outputs": [],
   "source": []
  },
  {
   "cell_type": "markdown",
   "metadata": {},
   "source": [
    "Vytvorte funkciu `najdlhsie_slovo`, ktorej vstupom bude reťazec slov oddelených pomlčkou. Výstupom bude dĺžka najdlhšieho slova.\n",
    "\n",
    "Príklad vstupu: `Ja-som-zakerna-veta`\n",
    "\n",
    "Očakávaný výstup: `7`"
   ]
  },
  {
   "cell_type": "code",
   "execution_count": null,
   "metadata": {
    "collapsed": true
   },
   "outputs": [],
   "source": []
  },
  {
   "cell_type": "markdown",
   "metadata": {},
   "source": [
    "Vytvorte funkciu `pluralizuj_osobu` na pluralizáciu slova \"osoba\". Takáto funkcia berie ako vstup počet opakovaní (defaultná hodnota je 1) a ako výstup vráti pluralizovanú verziu slova.\n",
    "\n",
    "Príklady volaní/očakávané výstupy:\n",
    "```\n",
    ">>> pluralizuj()\n",
    "osoba\n",
    ">>> pluralizuj(1)\n",
    "osoba\n",
    ">>> pluralizuj(0)\n",
    "osob\n",
    ">>> pluralizuj(2)\n",
    "osoby\n",
    ">>> pluralizuj(4)\n",
    "osoby\n",
    ">>> pluralizuj(5)\n",
    "osob\n",
    "```"
   ]
  },
  {
   "cell_type": "code",
   "execution_count": null,
   "metadata": {
    "collapsed": true
   },
   "outputs": [],
   "source": []
  },
  {
   "cell_type": "markdown",
   "metadata": {},
   "source": [
    "Vytvorte funkciu `je_v_zozname`, ktorá ako vstup zoberie zoznam čísel a jedno číslo. Funkcia vráti `True` ak sa dané číslo nachádza v zozname a `False` v opačnom poradí.\n",
    "\n",
    "Príklady volaní/očakávané výstupy:\n",
    "```\n",
    ">>> je_v_zozname([1, 2, 3, 4, 5], 0)\n",
    "False\n",
    ">>> je_v_zoznam([1, 2, 3, 4, 5], 3)\n",
    "True\n",
    "```"
   ]
  },
  {
   "cell_type": "code",
   "execution_count": null,
   "metadata": {
    "collapsed": true
   },
   "outputs": [],
   "source": []
  },
  {
   "cell_type": "markdown",
   "metadata": {},
   "source": [
    "Vytvorte funkciu `maju_prekryv`, ktorá ako zoberie 2 zoznamy a vráti `True` ak sa zoznamy prekrývajú (teda majú spoločný apoň jeden prvok).\n",
    "\n",
    "Príklady volaní/očakávané výstupy:\n",
    "```\n",
    ">>> maju_prekryv([1, 2, 3, 4, 5], [0])\n",
    "False\n",
    ">>> maju_prekryv([1, 2, 3, 4, 5], [8, -1])\n",
    "False\n",
    ">>> maju_prekryv([1, 2, 3, 4, 5], [4 8 0])\n",
    "True\n",
    "```"
   ]
  },
  {
   "cell_type": "code",
   "execution_count": null,
   "metadata": {
    "collapsed": true
   },
   "outputs": [],
   "source": []
  },
  {
   "cell_type": "markdown",
   "metadata": {},
   "source": [
    "Vytvorte funkciu `histogram`, ktorá ako vstup vezme zoznam čísel a na obrazovku vytlačí ich histogram podľa predlohy:\n",
    "\n",
    "```\n",
    ">>> histogram([4, 9, 7])\n",
    "****\n",
    "*********\n",
    "*******\n",
    "```\n",
    "\n",
    "Funkcia musí podporovať ľubovolný počet prvkov zoznamu."
   ]
  },
  {
   "cell_type": "code",
   "execution_count": null,
   "metadata": {
    "collapsed": true
   },
   "outputs": [],
   "source": []
  },
  {
   "cell_type": "markdown",
   "metadata": {},
   "source": [
    "Vytvorte funkciu `cenzura`, ktorá vezme 3 vstupy:\n",
    "1. reťazec\n",
    "2. zoznam slov\n",
    "3. náhradné slovo\n",
    "\n",
    "Výstupom bude nový reťazec, v ktorom sa všetky výskyty slov zo zoznamu nahradia náhradným slovom.\n",
    "\n",
    "Príklad vstupu/očakávaný výstup:\n",
    "```\n",
    ">>> cenzura(\"Matlab, C++ a Java su najlepsie programovacie jazyky\", ['Matlab', 'C++', 'Java'], 'Python')\n",
    "Python, Python a Python su najlepsie programovacie jazyky\n",
    "```"
   ]
  },
  {
   "cell_type": "code",
   "execution_count": null,
   "metadata": {
    "collapsed": true
   },
   "outputs": [],
   "source": []
  },
  {
   "cell_type": "markdown",
   "metadata": {},
   "source": [
    "Vytvorte funkciu `vyhod_dlhe_slova`, ktorá z daného reťazca odstráni všetky slová dlhšie ako špecifikovaná hranica. Vstupmi sú teda reťazec a hranica.\n",
    "\n",
    "Príklad vstupu/očakávaný výstup:\n",
    "```\n",
    ">>> vyhod_dlhe_slova(\"Niektore slova su veru strasne dlhe\", 4)\n",
    "su veru dlhe\n",
    "```"
   ]
  },
  {
   "cell_type": "code",
   "execution_count": null,
   "metadata": {
    "collapsed": true
   },
   "outputs": [],
   "source": []
  },
  {
   "cell_type": "markdown",
   "metadata": {},
   "source": [
    "Funkciu `vyhod_dlhe_slova` upravte tak, aby druhý vstup (dĺžka slova) bol nepovinný. Ak nie je pri volaní funkcie definovaný, nechceme vyhodiť žiadne slovo.\n",
    "\n",
    "Príklad vstupu/očakávaný výstup:\n",
    "```\n",
    ">>> vyhod_dlhe_slova(\"Niektore slova su veru strasne dlhe\")\n",
    "Niektore slova su veru strasne dlhe\n",
    "```"
   ]
  },
  {
   "cell_type": "code",
   "execution_count": null,
   "metadata": {
    "collapsed": true
   },
   "outputs": [],
   "source": []
  },
  {
   "cell_type": "markdown",
   "metadata": {},
   "source": [
    "Vytvorte funkciu `numericka_integracia`, ktorá pomocou lichobežníkového integračného pravidla zístí integrál funkcie $x^2$ na intervale `a` až `b`, kde `a`, `b` sú vstupmi funkcie.\n",
    "\n",
    "\\begin{align*}\n",
    "\\int_a^b f(x) \\text{d}x \\approx (b-a) \\frac{f(a)+f(b)}{2}\n",
    "\\end{align*}"
   ]
  },
  {
   "cell_type": "code",
   "execution_count": null,
   "metadata": {
    "collapsed": true
   },
   "outputs": [],
   "source": []
  }
 ],
 "metadata": {
  "kernelspec": {
   "display_name": "Python 3",
   "language": "python",
   "name": "python3"
  },
  "language_info": {
   "codemirror_mode": {
    "name": "ipython",
    "version": 3
   },
   "file_extension": ".py",
   "mimetype": "text/x-python",
   "name": "python",
   "nbconvert_exporter": "python",
   "pygments_lexer": "ipython3",
   "version": "3.6.2"
  }
 },
 "nbformat": 4,
 "nbformat_minor": 1
}
