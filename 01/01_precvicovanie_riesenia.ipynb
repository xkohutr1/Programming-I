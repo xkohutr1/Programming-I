{
 "cells": [
  {
   "cell_type": "markdown",
   "metadata": {},
   "source": [
    "## Precvičovanie učiva z 1. prednášky (riešenia)"
   ]
  },
  {
   "cell_type": "markdown",
   "metadata": {},
   "source": [
    "Vytvorte premennú `meno` a naplňte ju vašim údajom priamo v programe:"
   ]
  },
  {
   "cell_type": "code",
   "execution_count": null,
   "metadata": {
    "collapsed": true
   },
   "outputs": [],
   "source": [
    "meno = \"Michal\" # pouzitim uvodzoviek\n",
    "meno = 'Michal' # pouzitim apostrofov  "
   ]
  },
  {
   "cell_type": "markdown",
   "metadata": {},
   "source": [
    "Vypíšte obsah premennej meno:"
   ]
  },
  {
   "cell_type": "code",
   "execution_count": null,
   "metadata": {
    "collapsed": false
   },
   "outputs": [],
   "source": [
    "print(meno)"
   ]
  },
  {
   "cell_type": "markdown",
   "metadata": {},
   "source": [
    "Z klávesnice načítajte do premennej `priezvisko` vaše priezvisko:"
   ]
  },
  {
   "cell_type": "code",
   "execution_count": null,
   "metadata": {
    "collapsed": false
   },
   "outputs": [],
   "source": [
    "priezvisko = input(\"Priezvisko: \")"
   ]
  },
  {
   "cell_type": "markdown",
   "metadata": {},
   "source": [
    "Vypíšte vaše údaje v tvare\n",
    "```\n",
    "Meno Priezvisko\n",
    "```"
   ]
  },
  {
   "cell_type": "code",
   "execution_count": null,
   "metadata": {
    "collapsed": false
   },
   "outputs": [],
   "source": [
    "# 1. alternativa:\n",
    "print(meno + \" \" + priezvisko)\n",
    "# 2. alternativa (preferovana):\n",
    "print(\"%s %s\" % (meno, priezvisko))\n",
    "# 3. alternativa:\n",
    "print(meno, priezvisko)"
   ]
  },
  {
   "cell_type": "markdown",
   "metadata": {},
   "source": [
    "Vypíšte počet znakov vášho priezviska. Výstup má byť v tvare\n",
    "```\n",
    "Priezvisko \"XXX\" ma YYY znakov.\n",
    "```\n",
    "kde `XXX` je vaše priezvisko a `YYY` je správny počet znakov. Výstup musí byť vrátane úvodzoviek."
   ]
  },
  {
   "cell_type": "code",
   "execution_count": null,
   "metadata": {
    "collapsed": false
   },
   "outputs": [],
   "source": [
    "# 1. alternativa: kedze mame v retazci uvodzovky, hlavny retazec definujeme pomocou apostrofov:\n",
    "print('Priezvisko \"%s\" ma %d znakov.' % (priezvisko, len(priezvisko)))\n",
    "# 2. alternativa: vsade pouzijeme uvodzovky, ale tie vo vnutri retazca escapujeme:\n",
    "print(\"Priezvisko \\\"%s\\\" ma %d znakov.\" % (priezvisko, len(priezvisko)))"
   ]
  },
  {
   "cell_type": "markdown",
   "metadata": {},
   "source": [
    "Z klávesnice načítajte rok vášho narodenia ako celé číslo:"
   ]
  },
  {
   "cell_type": "code",
   "execution_count": null,
   "metadata": {
    "collapsed": false
   },
   "outputs": [],
   "source": [
    "# kedze funkcia input() vracia vzdy retazec, je ho potrebne konvertovat na cele cislo\n",
    "rok_narodenia = int(input(\"Rok narodenia: \"))"
   ]
  },
  {
   "cell_type": "markdown",
   "metadata": {},
   "source": [
    "Do premennej vek uložte váš aktuálny vek podľa vzorca `vek = 2016 - rok_narodenia`."
   ]
  },
  {
   "cell_type": "code",
   "execution_count": null,
   "metadata": {
    "collapsed": false
   },
   "outputs": [],
   "source": [
    "vek = 2016 - rok_narodenia"
   ]
  },
  {
   "cell_type": "markdown",
   "metadata": {},
   "source": [
    "Vypíšte váš vek na obrazovku v tvare\n",
    "```\n",
    "Mam XXX rokov\n",
    "```\n",
    "kde za `XXX` dosadíte príslušný údaj:"
   ]
  },
  {
   "cell_type": "code",
   "execution_count": null,
   "metadata": {
    "collapsed": false
   },
   "outputs": [],
   "source": [
    "print(\"Mam %d rokov\" % (vek))"
   ]
  },
  {
   "cell_type": "markdown",
   "metadata": {},
   "source": [
    "Zistite a na obrazovku vypíšte, koľko rokov budete mať v roku 2050. Výpis má byť v tvare:\n",
    "```\n",
    "V roku 2050 budem mat XXX rokov\n",
    "```"
   ]
  },
  {
   "cell_type": "code",
   "execution_count": null,
   "metadata": {
    "collapsed": false
   },
   "outputs": [],
   "source": [
    "buducnost = 2050 - rok_narodenia\n",
    "print(\"V roku 2050 budem mat %d rokov\" % (buducnost))"
   ]
  },
  {
   "cell_type": "markdown",
   "metadata": {},
   "source": [
    "Načítajte z klávesnice rok `R` a zistite, koľko rokov budete mať v danom roku. Výstup má byť v tvare\n",
    "```\n",
    "V roku R budem mat X rokov\n",
    "```"
   ]
  },
  {
   "cell_type": "code",
   "execution_count": null,
   "metadata": {
    "collapsed": false
   },
   "outputs": [],
   "source": [
    "rok = input(\"Ku ktoremu roku chces vypocitat vek? \")\n",
    "# kedze chceme s premennou rok pracovat ako s cislom, musime ho najskor konvertovat:\n",
    "rok = int(rok)\n",
    "buducnost = rok - rok_narodenia\n",
    "print(\"V roku %d budem mat %d rokov\" % (rok, buducnost))"
   ]
  },
  {
   "cell_type": "markdown",
   "metadata": {},
   "source": [
    "Na obrazovku vypíšte posledné písmeno vášho mena a predposledné písmeno vášho priezviska. Výstup bude v tvare\n",
    "```\n",
    "Posledne pismeno mena 'Michal' je \"l\"\n",
    "Predposledne pismeno priezviska \"Kvasnica\" je 'c'\n",
    "```\n",
    "Výstup musí byť vrátane úvodzoviek a apostrofov."
   ]
  },
  {
   "cell_type": "code",
   "execution_count": null,
   "metadata": {
    "collapsed": false
   },
   "outputs": [],
   "source": [
    "posledne_pismeno_mena = meno[-1]\n",
    "predposledne_pismeno_priezviska = priezvisko[-2]\n",
    "# kedze vo vypise mixujeme apostrofy a uvodzovky, jedno z nich musime escapovat:\n",
    "print(\"Posledne pismeno mena '%s' je \\\"%s\\\"\" % (meno, posledne_pismeno_mena))\n",
    "print(\"Predposledne pismeno priezviska \\\"%s\\\" je '%s'\" % (priezvisko, predposledne_pismeno_priezviska))"
   ]
  },
  {
   "cell_type": "markdown",
   "metadata": {},
   "source": [
    "Z klávesnice načítajte 2 celé čísla `x` a `y` a na obrazovku vypíšte znaky vášho priezviska od pozície `x` po pozíciu `y`."
   ]
  },
  {
   "cell_type": "code",
   "execution_count": null,
   "metadata": {
    "collapsed": false
   },
   "outputs": [],
   "source": [
    "# kedze chceme nacitat cisla, musime vystup z funkcie input() konvertovat:\n",
    "x = int(input(\"x: \"))\n",
    "y = int(input(\"y: \"))\n",
    "print(\"Priezvisko od indexu %d po index %d je %s\" % (x, y, priezvisko[x:y]))"
   ]
  },
  {
   "cell_type": "markdown",
   "metadata": {},
   "source": [
    "Do premennej `strana` načítajte z klávesnice desatinné číslo. Následne vypočítajte obsah a obvod štvorca a uložte ich do premenných `obsah` a `obvod`. Nakoniec údaje vypíšte v tvare:\n",
    "```\n",
    "Stvorec so stranou 2.5 m ma obsah 6.25 m^2 a obvod 10 m\n",
    "```\n",
    "Pri výpise vo funkcii `print` použite formát `%g`."
   ]
  },
  {
   "cell_type": "code",
   "execution_count": null,
   "metadata": {
    "collapsed": false
   },
   "outputs": [],
   "source": [
    "strana = float(input(\"Dlzka strany: \")) # konverzia na float\n",
    "obsah = strana*strana\n",
    "obvod = 4*strana\n",
    "print(\"Stvorec so stranou %g m ma obsah %g m^2 a obvod %g m\" % (strana, obsah, obvod))"
   ]
  },
  {
   "cell_type": "markdown",
   "metadata": {},
   "source": [
    "Čo sa zmení, ak vo výpise pomocou funkcie `print` použijeme namiesto `%g` formát `%f`?"
   ]
  },
  {
   "cell_type": "code",
   "execution_count": null,
   "metadata": {
    "collapsed": false
   },
   "outputs": [],
   "source": [
    "print(\"Stvorec so stranou %f m ma obsah %f m^2 a obvod %f m\" % (strana, obsah, obvod))"
   ]
  },
  {
   "cell_type": "markdown",
   "metadata": {},
   "source": [
    "Zmodifikujte program tak, aby informácie vypisoval do 3 samostatných riadkov:\n",
    "```\n",
    "Strana stvorca: 2.500000 m\n",
    "Obsah stvorca: 6.250000 m^2\n",
    "Obvod stvorca: 10.000000 m\n",
    "```\n",
    "Použite 3 samostatné volania funkcie `print`."
   ]
  },
  {
   "cell_type": "code",
   "execution_count": null,
   "metadata": {
    "collapsed": false
   },
   "outputs": [],
   "source": [
    "print(\"Strana stvorca: %f m\" % (strana))\n",
    "print(\"Obsah stvorca: %f m^2\" % (obsah))\n",
    "print(\"Obvod stvorca: %f m\" % (obvod))"
   ]
  },
  {
   "cell_type": "markdown",
   "metadata": {},
   "source": [
    "Zmeňte program tak, aby údaje stále vypisoval do 3 riadkov, ale použite iba jedno volanie funkcie `print`."
   ]
  },
  {
   "cell_type": "code",
   "execution_count": null,
   "metadata": {
    "collapsed": false
   },
   "outputs": [],
   "source": [
    "print(\"Strana stvorca: %f m\\nObsah stvorca: %f m^2\\nObvod stvorca: %f m\" % (strana, obsah, obvod))"
   ]
  },
  {
   "cell_type": "markdown",
   "metadata": {},
   "source": [
    "Programovo pomocou konštrukcie\n",
    "```\n",
    "retazec = \"nieco %d nieco ine %d a este nieco %f\" % (hodnota1, hodnota2, hodnota3)\n",
    "```\n",
    "vytvorte reťazec\n",
    "```\n",
    "Stvorec so stranou XXX m ma obsah YYY m^2 a obvod ZZZ m\n",
    "```\n",
    "pričom za `XXX`, `YYY` a `ZZZ` dosadíte príslušné hodnoty. Následne tento reťazec vypíšte."
   ]
  },
  {
   "cell_type": "code",
   "execution_count": null,
   "metadata": {
    "collapsed": false
   },
   "outputs": [],
   "source": [
    "info = \"Stvorec so stranou %f m ma obsah %f m^2 a obvod %f m\" % (strana, obsah, obvod)\n",
    "print(info)"
   ]
  },
  {
   "cell_type": "markdown",
   "metadata": {},
   "source": [
    "Teraz na vytvorenie reťazca z predošlej úlohy použite funkciu `format` v tvare\n",
    "```\n",
    "retazec = \"nieco {} nieco ine {} a este nieco {}\".fomat(hodnota1, hodnota2, hodnota3)\n",
    "```"
   ]
  },
  {
   "cell_type": "code",
   "execution_count": null,
   "metadata": {
    "collapsed": false
   },
   "outputs": [],
   "source": [
    "info = \"Stvorec so stranou {} m ma obsah {} m^2 a obvod {} m\".format(strana, obsah, obvod)\n",
    "print(info)"
   ]
  }
 ],
 "metadata": {
  "kernelspec": {
   "display_name": "Python 3",
   "language": "python",
   "name": "python3"
  },
  "language_info": {
   "codemirror_mode": {
    "name": "ipython",
    "version": 3
   },
   "file_extension": ".py",
   "mimetype": "text/x-python",
   "name": "python",
   "nbconvert_exporter": "python",
   "pygments_lexer": "ipython3",
   "version": "3.5.0"
  }
 },
 "nbformat": 4,
 "nbformat_minor": 0
}
