{
 "cells": [
  {
   "cell_type": "markdown",
   "metadata": {},
   "source": [
    "# Cvičenie č. 1: Neriešené príklady"
   ]
  },
  {
   "cell_type": "markdown",
   "metadata": {},
   "source": [
    "## Objem gule"
   ]
  },
  {
   "cell_type": "markdown",
   "metadata": {},
   "source": [
    "Z klávesnice načítajte polomer ako číslo s desatinnou čiarkou a na obrazovku vypíšte objem gule v tvare:\n",
    "```\n",
    "Objem: XXX\n",
    "```"
   ]
  },
  {
   "cell_type": "code",
   "execution_count": null,
   "metadata": {},
   "outputs": [],
   "source": [
    "polomer = float(input(\"Polomer gule: \"))\n",
    "pi = 3.14159265\n",
    "objem = 4/3*pi*polomer**3\n",
    "print(\"Objem: %f\" % objem)"
   ]
  },
  {
   "cell_type": "markdown",
   "metadata": {},
   "source": [
    "## Objem valca"
   ]
  },
  {
   "cell_type": "markdown",
   "metadata": {},
   "source": [
    "Z klávesnice načítajte polomer valca ako číslo s desatinnou čiarkou a jeho výšku ako celé číslo. Potom na obrazovku vypíšte objem valca daných rozmerov, zaokrúhlený na 2 desatinné miesta:\n",
    "```\n",
    "Valec s polomerom XXX a vyskou YYY ma objem ZZZ\n",
    "```"
   ]
  },
  {
   "cell_type": "code",
   "execution_count": null,
   "metadata": {},
   "outputs": [],
   "source": [
    "polomer = float(input(\"Polomer valca: \"))\n",
    "vyska = int(input(\"Vyska valca: \"))\n",
    "pi = 3.14159265\n",
    "objem = pi*polomer**2*vyska\n",
    "print(\"Valec s polomerom %f a vyskou %d ma objem %.2f\" % (polomer, vyska, objem))"
   ]
  },
  {
   "cell_type": "markdown",
   "metadata": {},
   "source": [
    "## Výpočet priemeru"
   ]
  },
  {
   "cell_type": "markdown",
   "metadata": {},
   "source": [
    "Z klávesnice načítajte 4 desatinné čísla a na obrazovku vypíšte ich priemer s presnosťou na 3 desatinné miesta."
   ]
  },
  {
   "cell_type": "code",
   "execution_count": null,
   "metadata": {},
   "outputs": [],
   "source": [
    "c1 = float(input(\"1. cislo: \"))\n",
    "c2 = float(input(\"2. cislo: \"))\n",
    "c3 = float(input(\"3. cislo: \"))\n",
    "c4 = float(input(\"4. cislo: \"))\n",
    "priemer = (c1+c2+c3+c4)/4\n",
    "print(\"Priemer: %.3f\" % priemer)"
   ]
  },
  {
   "cell_type": "markdown",
   "metadata": {},
   "source": [
    "## BMI index"
   ]
  },
  {
   "cell_type": "markdown",
   "metadata": {},
   "source": [
    "Z klávesnice načítajte meno osoby, jej váhu v kilogramoch (celé číslo) a výšku v metroch (deatinné číslo). Na základe týchto údajov vypočítajte BMI index podľa vzorca $BMI = \\frac{váha}{výška^2}$ a vypíšte ju na obrazovku v tvare \n",
    "```\n",
    "XX ma BMI index YY\n",
    "```\n",
    "kde `XX` je meno osoby a `YY` je vypočítaná hodnota BMI s presnosťou na 2 desatinné miesta."
   ]
  },
  {
   "cell_type": "code",
   "execution_count": null,
   "metadata": {},
   "outputs": [],
   "source": [
    "meno = input(\"Meno osoby: \")\n",
    "vaha = int(input(\"Vaha: \"))\n",
    "vyska = float(input(\"Vyska: \"))\n",
    "bmi = vaha/vyska**2\n",
    "print(\"%s ma BMI index %.2f\" % (meno, bmi))"
   ]
  },
  {
   "cell_type": "markdown",
   "metadata": {},
   "source": [
    "## Spojenie mena a priezviska"
   ]
  },
  {
   "cell_type": "markdown",
   "metadata": {},
   "source": [
    "Z klávesnice načítajte meno a priezvisko ako reťazce. Následne vytvorte nový reťazec obsahujúci meno osoby. Tento nový reťazec vypíšte."
   ]
  },
  {
   "cell_type": "code",
   "execution_count": null,
   "metadata": {},
   "outputs": [],
   "source": [
    "meno = input(\"Meno: \")\n",
    "priezvisko = input(\"Priezvisko: \")\n",
    "cele_meno = meno + \" \" + priezvisko\n",
    "print(cele_meno)"
   ]
  },
  {
   "cell_type": "markdown",
   "metadata": {},
   "source": [
    "## DPH"
   ]
  },
  {
   "cell_type": "markdown",
   "metadata": {},
   "source": [
    "Z klávesnice načítajte jednotkovú cenu tovaru bez DPH a počet kusov. Na obrazovku vypíšte informácie o nákupe v tvare:\n",
    "```\n",
    "Jednotkova cena: XXX eur\n",
    "Pocet kusov: XXX\n",
    "Celkova suma bez DPH: XXX eur\n",
    "Celkova DPH: XXX eur\n",
    "Celkova suma s DPH: XXX eur\n",
    "```\n",
    "Sumy v eurách budú vypísané s 2 desatinnými miestami, počet kusov ako celé číslo. Uvažujte jednotnú sadzu DPH na úrovni 20%."
   ]
  },
  {
   "cell_type": "code",
   "execution_count": null,
   "metadata": {},
   "outputs": [],
   "source": [
    "cena_bez_dph = float(input(\"Cena bez DPH: \"))\n",
    "kusov = int(input(\"Pocet kusov: \"))\n",
    "celkovo_bez_dph = cena_bez_dph*kusov\n",
    "dph = celkovo_bez_dph*0.2\n",
    "print(\"Jednotkova cena: %.2f\" % cena_bez_dph)\n",
    "print(\"Pocet kusov: %d\" % kusov)\n",
    "print(\"Celkova suma bez DPH: %.2f eur\" % celkovo_bez_dph)\n",
    "print(\"Celkova DPH: %.2f eur\" % dph)\n",
    "print(\"Celkova suma s DPH: %.2f eur\" % (celkovo_bez_dph+dph))"
   ]
  },
  {
   "cell_type": "markdown",
   "metadata": {},
   "source": [
    "## Náklady na auto"
   ]
  },
  {
   "cell_type": "markdown",
   "metadata": {},
   "source": [
    "Z klávesnice načítajte:\n",
    "* spotrebu auta v litroch na 100 kilometrov\n",
    "* cenu benzínu v EUR/liter\n",
    "* počet prejdených kilometrov\n",
    "\n",
    "Na obrazovku vypíšte informácie v tvare:\n",
    "```\n",
    "Spotreba: XXX litrov/100 km\n",
    "Cena: XXX EUR/liter\n",
    "Pocet kilometrov: XXX\n",
    "Celkove naklady: XXX eur\n",
    "```\n",
    "Spotrebu a celkové náklady výpíšte s presnosťou na 2 desatinné miesta, cenu na liter na 3 desatinné miesta, počet kilometrov ako celé číslo."
   ]
  },
  {
   "cell_type": "code",
   "execution_count": null,
   "metadata": {},
   "outputs": [],
   "source": [
    "spotreba = float(input(\"Spotreba v l/100 km: \"))\n",
    "cena = float(input(\"Cena benzinu v eur/liter: \"))\n",
    "km = float(input(\"Pocet kilometrov: \"))\n",
    "naklady = km/100*spotreba*cena\n",
    "print(\"Spotreba: %.2f litrov/100 km\" % spotreba)\n",
    "print(\"Cena: %.2f EUR/liter\" % cena)\n",
    "print(\"Pocet kilometrov: %.2f\" % km)\n",
    "print(\"Celkove naklady: %.2f eur\" % naklady)"
   ]
  },
  {
   "cell_type": "markdown",
   "metadata": {},
   "source": [
    "## Prevod rokov/mesiacov na dni"
   ]
  },
  {
   "cell_type": "markdown",
   "metadata": {},
   "source": [
    "Vytvorte program, ktorý zistí, koľko približne dní už žijete na základe zadaného počtu rokov a mesiacov. Predpokladajte, že každý rok má 365 dní a každý mesiac má 30 dní. Výstup má byť v tvare\n",
    "```\n",
    "Mam XXX rokov a YYY mesiacov, teda zijem priblizne ZZZ dni.\n",
    "```"
   ]
  },
  {
   "cell_type": "code",
   "execution_count": null,
   "metadata": {},
   "outputs": [],
   "source": [
    "roky = int(input(\"Pocet rokov: \"))\n",
    "mesiace = int(input(\"Pocet mesiacov: \"))\n",
    "vek = roky*365+mesiace*30\n",
    "print(\"Mam {} rokov a {} mesiacov, teda zijem priblizne {} dni\".format(roky, mesiace, vek))"
   ]
  }
 ],
 "metadata": {
  "kernelspec": {
   "display_name": "Python 3",
   "language": "python",
   "name": "python3"
  },
  "language_info": {
   "codemirror_mode": {
    "name": "ipython",
    "version": 3
   },
   "file_extension": ".py",
   "mimetype": "text/x-python",
   "name": "python",
   "nbconvert_exporter": "python",
   "pygments_lexer": "ipython3",
   "version": "3.6.2"
  }
 },
 "nbformat": 4,
 "nbformat_minor": 1
}
