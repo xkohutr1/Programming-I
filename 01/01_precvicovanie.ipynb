{
 "cells": [
  {
   "cell_type": "markdown",
   "metadata": {},
   "source": [
    "## Precvičovanie učiva z 1. prednášky"
   ]
  },
  {
   "cell_type": "markdown",
   "metadata": {},
   "source": [
    "Vytvorte premennú `meno` a naplňte ju vašim údajom priamo v programe:"
   ]
  },
  {
   "cell_type": "code",
   "execution_count": 9,
   "metadata": {},
   "outputs": [],
   "source": [
    "meno = \"Michal\""
   ]
  },
  {
   "cell_type": "markdown",
   "metadata": {},
   "source": [
    "Vypíšte obsah premennej meno:"
   ]
  },
  {
   "cell_type": "code",
   "execution_count": 10,
   "metadata": {},
   "outputs": [
    {
     "name": "stdout",
     "output_type": "stream",
     "text": [
      "Michal\n"
     ]
    }
   ],
   "source": [
    "print(meno)"
   ]
  },
  {
   "cell_type": "markdown",
   "metadata": {},
   "source": [
    "Z klávesnice načítajte do premennej `priezvisko` vaše priezvisko:"
   ]
  },
  {
   "cell_type": "code",
   "execution_count": 11,
   "metadata": {},
   "outputs": [
    {
     "name": "stdout",
     "output_type": "stream",
     "text": [
      "Vloz priezvisko: Kvasnica\n"
     ]
    }
   ],
   "source": [
    "priezvisko = input(\"Vloz priezvisko: \")"
   ]
  },
  {
   "cell_type": "markdown",
   "metadata": {},
   "source": [
    "Vypíšte vaše údaje v tvare\n",
    "```\n",
    "Meno Priezvisko\n",
    "```"
   ]
  },
  {
   "cell_type": "code",
   "execution_count": 16,
   "metadata": {},
   "outputs": [
    {
     "name": "stdout",
     "output_type": "stream",
     "text": [
      "Michal Kvasnica\n",
      "Michal Kvasnica\n",
      "Michal Kvasnica\n",
      "Michal Kvasnica\n",
      "Tvoje meno je Michal a priezvisko je Kvasnica\n"
     ]
    }
   ],
   "source": [
    "print(meno + \" \" + priezvisko)\n",
    "print(meno, priezvisko)\n",
    "print(\"%s %s\" % (meno, priezvisko))\n",
    "print(\"{} {}\".format(meno, priezvisko))\n",
    "print(\"Tvoje meno je {} a priezvisko je {}\".format(meno, priezvisko))"
   ]
  },
  {
   "cell_type": "markdown",
   "metadata": {},
   "source": [
    "Vypíšte počet znakov vášho priezviska. Výstup má byť v tvare\n",
    "```\n",
    "Priezvisko \"XXX\" ma YYY znakov.\n",
    "```\n",
    "kde `XXX` je vaše priezvisko a `YYY` je správny počet znakov. Výstup musí byť vrátane úvodzoviek."
   ]
  },
  {
   "cell_type": "code",
   "execution_count": null,
   "metadata": {
    "collapsed": true
   },
   "outputs": [],
   "source": []
  },
  {
   "cell_type": "markdown",
   "metadata": {},
   "source": [
    "Z klávesnice načítajte rok vášho narodenia ako celé číslo:"
   ]
  },
  {
   "cell_type": "code",
   "execution_count": 8,
   "metadata": {},
   "outputs": [
    {
     "name": "stdout",
     "output_type": "stream",
     "text": [
      "Vloz svoj vek: 23\n"
     ]
    }
   ],
   "source": []
  },
  {
   "cell_type": "markdown",
   "metadata": {},
   "source": [
    "Do premennej vek uložte váš aktuálny vek podľa vzorca `vek = 2016 - rok_narodenia`."
   ]
  },
  {
   "cell_type": "code",
   "execution_count": 9,
   "metadata": {
    "collapsed": true
   },
   "outputs": [],
   "source": []
  },
  {
   "cell_type": "markdown",
   "metadata": {},
   "source": [
    "Vypíšte váš vek na obrazovku v tvare\n",
    "```\n",
    "Mam XXX rokov\n",
    "```\n",
    "kde za `XXX` dosadíte príslušný údaj:"
   ]
  },
  {
   "cell_type": "code",
   "execution_count": 10,
   "metadata": {},
   "outputs": [
    {
     "name": "stdout",
     "output_type": "stream",
     "text": [
      "Mam 1997 rokov\n"
     ]
    }
   ],
   "source": []
  },
  {
   "cell_type": "markdown",
   "metadata": {},
   "source": [
    "Zistite a na obrazovku vypíšte, koľko rokov budete mať v roku 2050. Výpis má byť v tvare:\n",
    "```\n",
    "V roku 2050 budem mat XXX rokov\n",
    "```"
   ]
  },
  {
   "cell_type": "code",
   "execution_count": null,
   "metadata": {
    "collapsed": true
   },
   "outputs": [],
   "source": []
  },
  {
   "cell_type": "markdown",
   "metadata": {},
   "source": [
    "Načítajte z klávesnice rok `R` a zistite, koľko rokov budete mať v danom roku. Výstup má byť v tvare\n",
    "```\n",
    "V roku R budem mat X rokov\n",
    "```"
   ]
  },
  {
   "cell_type": "code",
   "execution_count": null,
   "metadata": {
    "collapsed": true
   },
   "outputs": [],
   "source": []
  },
  {
   "cell_type": "markdown",
   "metadata": {},
   "source": [
    "Na obrazovku vypíšte posledné písmeno vášho mena a predposledné písmeno vášho priezviska. Výstup bude v tvare\n",
    "```\n",
    "Posledne pismeno mena 'Michal' je \"l\"\n",
    "Predposledne pismeno priezviska \"Kvasnica\" je 'c'\n",
    "```\n",
    "Výstup musí byť vrátane úvodzoviek a apostrofov."
   ]
  },
  {
   "cell_type": "code",
   "execution_count": null,
   "metadata": {
    "collapsed": true
   },
   "outputs": [],
   "source": []
  },
  {
   "cell_type": "markdown",
   "metadata": {},
   "source": [
    "Z klávesnice načítajte 2 celé čísla `x` a `y` a na obrazovku vypíšte znaky vášho priezviska od pozície `x` po pozíciu `y`."
   ]
  },
  {
   "cell_type": "code",
   "execution_count": null,
   "metadata": {
    "collapsed": true
   },
   "outputs": [],
   "source": []
  },
  {
   "cell_type": "markdown",
   "metadata": {},
   "source": [
    "Do premennej `strana` načítajte z klávesnice desatinné číslo. Následne vypočítajte obsah a obvod štvorca a uložte ich do premenných `obsah` a `obvod`. Nakoniec údaje vypíšte v tvare:\n",
    "```\n",
    "Stvorec so stranou 2.5 m ma obsah 6.25 m^2 a obvod 10 m\n",
    "```\n",
    "Pri výpise vo funkcii `print` použite formát `%g`."
   ]
  },
  {
   "cell_type": "code",
   "execution_count": null,
   "metadata": {
    "collapsed": true
   },
   "outputs": [],
   "source": []
  },
  {
   "cell_type": "markdown",
   "metadata": {},
   "source": [
    "Čo sa zmení, ak vo výpise pomocou funkcie `print` použijeme namiesto `%g` formát `%f`?"
   ]
  },
  {
   "cell_type": "code",
   "execution_count": null,
   "metadata": {
    "collapsed": true
   },
   "outputs": [],
   "source": []
  },
  {
   "cell_type": "markdown",
   "metadata": {},
   "source": [
    "Zmodifikujte program tak, aby informácie vypisoval do 3 samostatných riadkov:\n",
    "```\n",
    "Strana stvorca: 2.500000 m\n",
    "Obsah stvorca: 6.250000 m^2\n",
    "Obvod stvorca: 10.000000 m\n",
    "```\n",
    "Použite 3 samostatné volania funkcie `print`."
   ]
  },
  {
   "cell_type": "code",
   "execution_count": null,
   "metadata": {
    "collapsed": true
   },
   "outputs": [],
   "source": []
  },
  {
   "cell_type": "markdown",
   "metadata": {},
   "source": [
    "Zmeňte program tak, aby údaje stále vypisoval do 3 riadkov, ale použite iba jedno volanie funkcie `print`."
   ]
  },
  {
   "cell_type": "code",
   "execution_count": null,
   "metadata": {
    "collapsed": true
   },
   "outputs": [],
   "source": []
  },
  {
   "cell_type": "markdown",
   "metadata": {},
   "source": [
    "Programovo pomocou konštrukcie\n",
    "```\n",
    "retazec = \"nieco %d nieco ine %d a este nieco %f\" % (hodnota1, hodnota2, hodnota3)\n",
    "```\n",
    "vytvorte reťazec\n",
    "```\n",
    "Stvorec so stranou XXX m ma obsah YYY m^2 a obvod ZZZ m\n",
    "```\n",
    "pričom za `XXX`, `YYY` a `ZZZ` dosadíte príslušné hodnoty. Následne tento reťazec vypíšte."
   ]
  },
  {
   "cell_type": "code",
   "execution_count": null,
   "metadata": {
    "collapsed": true
   },
   "outputs": [],
   "source": []
  },
  {
   "cell_type": "markdown",
   "metadata": {},
   "source": [
    "Teraz na vytvorenie reťazca z predošlej úlohy použite funkciu `format` v tvare\n",
    "```\n",
    "retazec = \"nieco {} nieco ine {} a este nieco {}\".fomat(hodnota1, hodnota2, hodnota3)\n",
    "```"
   ]
  },
  {
   "cell_type": "code",
   "execution_count": null,
   "metadata": {
    "collapsed": true
   },
   "outputs": [],
   "source": []
  }
 ],
 "metadata": {
  "kernelspec": {
   "display_name": "Python 3",
   "language": "python",
   "name": "python3"
  },
  "language_info": {
   "codemirror_mode": {
    "name": "ipython",
    "version": 3
   },
   "file_extension": ".py",
   "mimetype": "text/x-python",
   "name": "python",
   "nbconvert_exporter": "python",
   "pygments_lexer": "ipython3",
   "version": "3.6.2"
  }
 },
 "nbformat": 4,
 "nbformat_minor": 1
}
