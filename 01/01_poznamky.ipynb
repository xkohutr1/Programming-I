{
 "cells": [
  {
   "cell_type": "markdown",
   "metadata": {
    "slideshow": {
     "slide_type": "slide"
    }
   },
   "source": [
    "# Poznámky k prednáške č. 1"
   ]
  },
  {
   "cell_type": "markdown",
   "metadata": {
    "slideshow": {
     "slide_type": "slide"
    }
   },
   "source": [
    "## Práca s premennými"
   ]
  },
  {
   "cell_type": "markdown",
   "metadata": {
    "slideshow": {
     "slide_type": "subslide"
    }
   },
   "source": [
    "Premennú naplníme hodnotou pomocou operácie priradenie, reprezentovanej znakom `'='` (rovná sa):"
   ]
  },
  {
   "cell_type": "code",
   "execution_count": 10,
   "metadata": {
    "collapsed": false,
    "slideshow": {
     "slide_type": "-"
    }
   },
   "outputs": [],
   "source": [
    "a = 1.23"
   ]
  },
  {
   "cell_type": "markdown",
   "metadata": {
    "slideshow": {
     "slide_type": "subslide"
    }
   },
   "source": [
    "Taktiež je možné nastaviť viacero premenných na tú istú hodnotu pomocou viacerých operátorov `'='`:"
   ]
  },
  {
   "cell_type": "code",
   "execution_count": 11,
   "metadata": {
    "collapsed": false,
    "slideshow": {
     "slide_type": "-"
    }
   },
   "outputs": [
    {
     "name": "stdout",
     "output_type": "stream",
     "text": [
      "3\n",
      "3\n",
      "3\n"
     ]
    }
   ],
   "source": [
    "a = b = c = 3\n",
    "print(a)\n",
    "print(b)\n",
    "print(c)"
   ]
  },
  {
   "cell_type": "markdown",
   "metadata": {
    "slideshow": {
     "slide_type": "fragment"
    }
   },
   "source": [
    "Ďalšou možnosťou je viacerým premenným pomocou jednoho príkazu priradiť rôzne hodnoty:"
   ]
  },
  {
   "cell_type": "code",
   "execution_count": 12,
   "metadata": {
    "collapsed": false,
    "slideshow": {
     "slide_type": "-"
    }
   },
   "outputs": [
    {
     "name": "stdout",
     "output_type": "stream",
     "text": [
      "1\n",
      "retazec\n",
      "2.5\n"
     ]
    }
   ],
   "source": [
    "a, b, c = 1, \"retazec\", 2.5\n",
    "print(a)\n",
    "print(b)\n",
    "print(c)"
   ]
  },
  {
   "cell_type": "markdown",
   "metadata": {
    "slideshow": {
     "slide_type": "subslide"
    }
   },
   "source": [
    "Okrem príkazu `print` je možné hodnotu premennej tiež vypísať uvedením jej mena. To však funguje iba v interaktívnom interpreteri a nie v programe."
   ]
  },
  {
   "cell_type": "code",
   "execution_count": 13,
   "metadata": {
    "collapsed": false,
    "slideshow": {
     "slide_type": "-"
    }
   },
   "outputs": [
    {
     "data": {
      "text/plain": [
       "1"
      ]
     },
     "execution_count": 13,
     "metadata": {},
     "output_type": "execute_result"
    }
   ],
   "source": [
    "a"
   ]
  },
  {
   "cell_type": "markdown",
   "metadata": {
    "slideshow": {
     "slide_type": "fragment"
    }
   },
   "source": [
    "Pri pokuse odkázať sa na neexistujúcu premennú vráti Python chybu:"
   ]
  },
  {
   "cell_type": "code",
   "execution_count": 14,
   "metadata": {
    "collapsed": false,
    "slideshow": {
     "slide_type": "-"
    }
   },
   "outputs": [
    {
     "ename": "NameError",
     "evalue": "name 'neexistujuca_premenna' is not defined",
     "output_type": "error",
     "traceback": [
      "\u001b[0;31m---------------------------------------------------------------------------\u001b[0m",
      "\u001b[0;31mNameError\u001b[0m                                 Traceback (most recent call last)",
      "\u001b[0;32m<ipython-input-14-c4f5e73064f0>\u001b[0m in \u001b[0;36m<module>\u001b[0;34m()\u001b[0m\n\u001b[0;32m----> 1\u001b[0;31m \u001b[0mneexistujuca_premenna\u001b[0m\u001b[0;34m\u001b[0m\u001b[0m\n\u001b[0m",
      "\u001b[0;31mNameError\u001b[0m: name 'neexistujuca_premenna' is not defined"
     ]
    }
   ],
   "source": [
    "neexistujuca_premenna"
   ]
  },
  {
   "cell_type": "markdown",
   "metadata": {
    "slideshow": {
     "slide_type": "subslide"
    }
   },
   "source": [
    "Python používa tzv. *dynamické typovanie* čo znamená, že dátový typ premennej sa automaticky určí podľa jej obsahu. Preto je možné tú istú premennú využiť na uchovávanie čísel aj reťazcov:"
   ]
  },
  {
   "cell_type": "code",
   "execution_count": 15,
   "metadata": {
    "collapsed": false,
    "slideshow": {
     "slide_type": "-"
    }
   },
   "outputs": [
    {
     "name": "stdout",
     "output_type": "stream",
     "text": [
      "1\n",
      "1.234\n",
      "retazec\n"
     ]
    }
   ],
   "source": [
    "a = 1  # premenna obsahuje cele cislo\n",
    "print(a)\n",
    "a = 1.234 # zmena na float\n",
    "print(a)\n",
    "a = \"retazec\" # zmena na retazec\n",
    "print(a)"
   ]
  },
  {
   "cell_type": "markdown",
   "metadata": {
    "slideshow": {
     "slide_type": "fragment"
    }
   },
   "source": [
    "Pre lepšiu čitateľnosť programu sa však odporúča nemeniť dátový typ premennej a radšej vytvoriť novú premennú."
   ]
  },
  {
   "cell_type": "markdown",
   "metadata": {
    "slideshow": {
     "slide_type": "slide"
    }
   },
   "source": [
    "## Operácie s číslami"
   ]
  },
  {
   "cell_type": "markdown",
   "metadata": {
    "collapsed": true,
    "slideshow": {
     "slide_type": "subslide"
    }
   },
   "source": [
    "Python podporuje všetky štandardné operátory (`+`, `-`, `*`, `/`), ale naviac k nim pridáva operátory `%`, `//` a `**`:\n",
    "* `a % b` vráti zvyšok po delení dvoch čísel\n",
    "* `a // b` je celočíselné delenie kde je výsledok delenia `a/b` zaokrúhlený smerom dole\n",
    "* `a ** b` je `b`-tá mocnina čísla `a`"
   ]
  },
  {
   "cell_type": "markdown",
   "metadata": {
    "slideshow": {
     "slide_type": "fragment"
    }
   },
   "source": [
    "Nasobenie a delenie majú, tak ako v matematike, prednosť pred sčitovaním a odčitovaním:"
   ]
  },
  {
   "cell_type": "code",
   "execution_count": 16,
   "metadata": {
    "collapsed": false,
    "slideshow": {
     "slide_type": "-"
    }
   },
   "outputs": [
    {
     "data": {
      "text/plain": [
       "20"
      ]
     },
     "execution_count": 16,
     "metadata": {},
     "output_type": "execute_result"
    }
   ],
   "source": [
    "50 - 5*6"
   ]
  },
  {
   "cell_type": "markdown",
   "metadata": {
    "slideshow": {
     "slide_type": "fragment"
    }
   },
   "source": [
    "V Python3 je pri delení výsledkom vždy číslo s desatinnou čiarkou (float), bez ohľadu na typ vstupných argumentov:"
   ]
  },
  {
   "cell_type": "code",
   "execution_count": 17,
   "metadata": {
    "collapsed": false,
    "slideshow": {
     "slide_type": "-"
    }
   },
   "outputs": [
    {
     "data": {
      "text/plain": [
       "5.0"
      ]
     },
     "execution_count": 17,
     "metadata": {},
     "output_type": "execute_result"
    }
   ],
   "source": [
    "(50 - 5*6)/4"
   ]
  },
  {
   "cell_type": "markdown",
   "metadata": {},
   "source": [
    "Pri celočíselnom delení sa vždy zaokrúhluje smerom dole na najbližšie celé číslo:"
   ]
  },
  {
   "cell_type": "code",
   "execution_count": 18,
   "metadata": {
    "collapsed": false
   },
   "outputs": [
    {
     "data": {
      "text/plain": [
       "3"
      ]
     },
     "execution_count": 18,
     "metadata": {},
     "output_type": "execute_result"
    }
   ],
   "source": [
    "10//3"
   ]
  },
  {
   "cell_type": "code",
   "execution_count": 19,
   "metadata": {
    "collapsed": false
   },
   "outputs": [
    {
     "data": {
      "text/plain": [
       "-4"
      ]
     },
     "execution_count": 19,
     "metadata": {},
     "output_type": "execute_result"
    }
   ],
   "source": [
    "-10//3"
   ]
  },
  {
   "cell_type": "markdown",
   "metadata": {
    "slideshow": {
     "slide_type": "subslide"
    }
   },
   "source": [
    "Mocnina vo výraze `a**b` môže byť aj neceločíselná, preto `a**0.5` vráti druhú odmocninu:"
   ]
  },
  {
   "cell_type": "code",
   "execution_count": 20,
   "metadata": {
    "collapsed": false,
    "slideshow": {
     "slide_type": "-"
    }
   },
   "outputs": [
    {
     "data": {
      "text/plain": [
       "1.4142135623730951"
      ]
     },
     "execution_count": 20,
     "metadata": {},
     "output_type": "execute_result"
    }
   ],
   "source": [
    "2**0.5"
   ]
  },
  {
   "cell_type": "markdown",
   "metadata": {
    "slideshow": {
     "slide_type": "slide"
    }
   },
   "source": [
    "## Operácie s reťazcami"
   ]
  },
  {
   "cell_type": "markdown",
   "metadata": {
    "slideshow": {
     "slide_type": "subslide"
    }
   },
   "source": [
    "Reťazce sa definujú buď pomocou apostrofov (napr. `'moj retazec'`) alebo pomocou úvodzoviek (napr. `\"moj retazec\"`). Dôvodom podpory oboch zápisov je zjednodušenie definovania reťazcov, ktoré vo svojom vnútri obsahujú buď úvodzovky alebo apostrofy:"
   ]
  },
  {
   "cell_type": "code",
   "execution_count": 21,
   "metadata": {
    "collapsed": false,
    "slideshow": {
     "slide_type": "-"
    }
   },
   "outputs": [],
   "source": [
    "retazec = \"toto je 'retazec s apostrofmi'\"   # apostrofy vo vnutri retazca, uvodzky vonku\n",
    "retazec = 'toto je \"retazec s uvodzovkami\"'   # uvodzovky vo vnutri retazca, apostrofy vonku"
   ]
  },
  {
   "cell_type": "markdown",
   "metadata": {
    "slideshow": {
     "slide_type": "subslide"
    }
   },
   "source": [
    "Špeciálne znaky jednej úvodzovky (`\"`) a jednoho apostrofu (`'`) je možné v reťazci tzv. _escapovať_ pomocou dvojíc `\\\"` a `\\'`:"
   ]
  },
  {
   "cell_type": "code",
   "execution_count": 22,
   "metadata": {
    "collapsed": false,
    "slideshow": {
     "slide_type": "-"
    }
   },
   "outputs": [
    {
     "name": "stdout",
     "output_type": "stream",
     "text": [
      "mne \"nevadia\" uvodzovky 'ani apostrofy'\n"
     ]
    }
   ],
   "source": [
    "retazec = \"mne \\\"nevadia\\\" uvodzovky \\'ani apostrofy\\'\"\n",
    "print(retazec)"
   ]
  },
  {
   "cell_type": "markdown",
   "metadata": {
    "slideshow": {
     "slide_type": "fragment"
    }
   },
   "source": [
    "Chybou by však bol nasledovný zápis:"
   ]
  },
  {
   "cell_type": "code",
   "execution_count": 23,
   "metadata": {
    "collapsed": false,
    "slideshow": {
     "slide_type": "-"
    }
   },
   "outputs": [
    {
     "ename": "SyntaxError",
     "evalue": "invalid syntax (<ipython-input-23-665204263a27>, line 1)",
     "output_type": "error",
     "traceback": [
      "\u001b[0;36m  File \u001b[0;32m\"<ipython-input-23-665204263a27>\"\u001b[0;36m, line \u001b[0;32m1\u001b[0m\n\u001b[0;31m    retazec = \"mne nevadia \"uvodzovky\" ani 'apostrofy'\"\u001b[0m\n\u001b[0m                                    ^\u001b[0m\n\u001b[0;31mSyntaxError\u001b[0m\u001b[0;31m:\u001b[0m invalid syntax\n"
     ]
    }
   ],
   "source": [
    "retazec = \"mne nevadia \"uvodzovky\" ani 'apostrofy'\""
   ]
  },
  {
   "cell_type": "markdown",
   "metadata": {
    "slideshow": {
     "slide_type": "subslide"
    }
   },
   "source": [
    "Reťazce je možné spájať pomocou znamienka `'+'` (plus):"
   ]
  },
  {
   "cell_type": "code",
   "execution_count": 24,
   "metadata": {
    "collapsed": false,
    "slideshow": {
     "slide_type": "-"
    }
   },
   "outputs": [
    {
     "name": "stdout",
     "output_type": "stream",
     "text": [
      "Michal Kvasnica\n"
     ]
    }
   ],
   "source": [
    "meno = \"Michal\"\n",
    "priezvisko = \"Kvasnica\"\n",
    "osoba = meno + \" \" + priezvisko\n",
    "print(osoba)"
   ]
  },
  {
   "cell_type": "markdown",
   "metadata": {
    "slideshow": {
     "slide_type": "fragment"
    }
   },
   "source": [
    "Reťazec je dokonca možné násobiť celým číslom, čím sa dosiahne požadovaný počet opakovaní:"
   ]
  },
  {
   "cell_type": "code",
   "execution_count": 25,
   "metadata": {
    "collapsed": false,
    "slideshow": {
     "slide_type": "-"
    }
   },
   "outputs": [
    {
     "name": "stdout",
     "output_type": "stream",
     "text": [
      "**********\n"
     ]
    }
   ],
   "source": [
    "r = \"*\"\n",
    "print(10*r) # 10 opakovani retazca"
   ]
  },
  {
   "cell_type": "markdown",
   "metadata": {
    "slideshow": {
     "slide_type": "slide"
    }
   },
   "source": [
    "## Vypisovanie reťazcov pomocou funkcie `print`"
   ]
  },
  {
   "cell_type": "markdown",
   "metadata": {
    "slideshow": {
     "slide_type": "subslide"
    }
   },
   "source": [
    "Dôležité je uvedomiť si, že dvojca znakov `'\\n'` má pri vypisovaní reťazca špeciálny význam: každý výskyt tejto dvojice je interpretovaný ako znak nového riadka. Niekedy to však môže pripraviť neželané prekvapenie, napr. tu:"
   ]
  },
  {
   "cell_type": "code",
   "execution_count": 26,
   "metadata": {
    "collapsed": false,
    "slideshow": {
     "slide_type": "-"
    }
   },
   "outputs": [
    {
     "name": "stdout",
     "output_type": "stream",
     "text": [
      "c:\u0007dresar\n",
      "ajdisubor\n"
     ]
    }
   ],
   "source": [
    "cesta = \"c:\\adresar\\najdisubor\"\n",
    "print(cesta)"
   ]
  },
  {
   "cell_type": "markdown",
   "metadata": {
    "slideshow": {
     "slide_type": "fragment"
    }
   },
   "source": [
    "V takýchto prípadoch je potrebné reťazec definovať ako *surový* (v angličtine *raw*) tým, že **pred úvodzovky** pridáme písmeno `r`:"
   ]
  },
  {
   "cell_type": "code",
   "execution_count": 27,
   "metadata": {
    "collapsed": false,
    "slideshow": {
     "slide_type": "-"
    }
   },
   "outputs": [
    {
     "name": "stdout",
     "output_type": "stream",
     "text": [
      "c:\\adresar\\najdisubor\n"
     ]
    }
   ],
   "source": [
    "cesta = r\"c:\\adresar\\najdisubor\" # vsimnite si pismeno \"r\" pred uvodzovkami - oznacuje raw string\n",
    "print(cesta)"
   ]
  },
  {
   "cell_type": "markdown",
   "metadata": {
    "slideshow": {
     "slide_type": "subslide"
    }
   },
   "source": [
    "Viacriadkový výstup sa dá pomocou funkcie `print` realizovať tak, že pred a za vypisovaný text dáme 3 úvodzovky:"
   ]
  },
  {
   "cell_type": "code",
   "execution_count": 28,
   "metadata": {
    "collapsed": false,
    "slideshow": {
     "slide_type": "-"
    }
   },
   "outputs": [
    {
     "name": "stdout",
     "output_type": "stream",
     "text": [
      "-------------------\n",
      "\n",
      "Toto je\n",
      "viacriadkovy vystup\n",
      "v jazyku Python\n",
      "\n",
      "-------------------\n"
     ]
    }
   ],
   "source": [
    "print(19*\"-\") # 19 opakovani znaku pomlcka\n",
    "print(\"\"\"\n",
    "Toto je\n",
    "viacriadkovy vystup\n",
    "v jazyku Python\n",
    "\"\"\")\n",
    "print(19*\"-\")"
   ]
  },
  {
   "cell_type": "markdown",
   "metadata": {
    "slideshow": {
     "slide_type": "fragment"
    }
   },
   "source": [
    "Prázdny riadok na začiatku a na konci sa dá potlačiť pridaním spätného lomítka `'\\'`:"
   ]
  },
  {
   "cell_type": "code",
   "execution_count": 29,
   "metadata": {
    "collapsed": false,
    "slideshow": {
     "slide_type": "-"
    }
   },
   "outputs": [
    {
     "name": "stdout",
     "output_type": "stream",
     "text": [
      "-------------------\n",
      "Toto je\n",
      "viacriadkovy vystup\n",
      "v jazyku Python\n",
      "-------------------\n"
     ]
    }
   ],
   "source": [
    "print(19*\"-\")\n",
    "print(\"\"\"\\\n",
    "Toto je\n",
    "viacriadkovy vystup\n",
    "v jazyku Python\\\n",
    "\"\"\")\n",
    "print(19*\"-\")"
   ]
  },
  {
   "cell_type": "markdown",
   "metadata": {
    "slideshow": {
     "slide_type": "slide"
    }
   },
   "source": [
    "## Formátovaný výstup do reťazca"
   ]
  },
  {
   "cell_type": "markdown",
   "metadata": {},
   "source": [
    "Ak chceme vytvoriť nový reťazec, do ktorého chceme uložiť formátovaný výstup, máme dve možnosti. Prvou je použiť operátor `'%'` podobne, ako pri funkcii `print`:"
   ]
  },
  {
   "cell_type": "code",
   "execution_count": 30,
   "metadata": {
    "collapsed": false
   },
   "outputs": [
    {
     "name": "stdout",
     "output_type": "stream",
     "text": [
      "Volam sa Michal a mam 38 rokov.\n"
     ]
    }
   ],
   "source": [
    "meno = 'Michal'\n",
    "vek = 38\n",
    "info = \"Volam sa %s a mam %d rokov.\" % (meno, vek)\n",
    "print(info)"
   ]
  },
  {
   "cell_type": "markdown",
   "metadata": {},
   "source": [
    "Druhou možnosťou je použiť funkciu `format`, ktorá automaticky určí najvhodnejšie formátovanie podľa hodnoty dosaďovaných premenných. Tu ako zástupnú sekvenciu používame `{}`. Dôležité je uvedomiť si, že funkciu `format` pridávame **až za reťazec**:"
   ]
  },
  {
   "cell_type": "code",
   "execution_count": 31,
   "metadata": {
    "collapsed": false
   },
   "outputs": [
    {
     "name": "stdout",
     "output_type": "stream",
     "text": [
      "Volam sa Michal a mam 38 rokov.\n"
     ]
    }
   ],
   "source": [
    "info = \"Volam sa {} a mam {} rokov.\".format(meno, vek)\n",
    "print(info)"
   ]
  }
 ],
 "metadata": {
  "kernelspec": {
   "display_name": "Python 3",
   "language": "python",
   "name": "python3"
  },
  "language_info": {
   "codemirror_mode": {
    "name": "ipython",
    "version": 3
   },
   "file_extension": ".py",
   "mimetype": "text/x-python",
   "name": "python",
   "nbconvert_exporter": "python",
   "pygments_lexer": "ipython3",
   "version": "3.5.0"
  }
 },
 "nbformat": 4,
 "nbformat_minor": 0
}
