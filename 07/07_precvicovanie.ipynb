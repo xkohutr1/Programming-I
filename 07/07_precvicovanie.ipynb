{
 "cells": [
  {
   "cell_type": "markdown",
   "metadata": {},
   "source": [
    "# Cvičenie č. 7: Úlohy na precvičovanie prednášky"
   ]
  },
  {
   "cell_type": "markdown",
   "metadata": {},
   "source": [
    "### Slovníky ako databáza štátov"
   ]
  },
  {
   "cell_type": "markdown",
   "metadata": {},
   "source": [
    "Vytvorte prázdny slovník a postupne doňho pridajte hodnoty z tabuľky:\n",
    "\n",
    "| Stat  | Mesto  |\n",
    "|---|---|\n",
    "| Slovensko  | Bratislava  |\n",
    "| Madarsko  | Budapest  |\n",
    "| Polsko  | Varsava  |\n",
    "| Rakusko  | Vieden  |\n",
    "| Albansko | Tirana |\n",
    "\n",
    "Kľúčom bude štát a hodnotou mesto."
   ]
  },
  {
   "cell_type": "code",
   "execution_count": null,
   "metadata": {
    "collapsed": true
   },
   "outputs": [],
   "source": [
    "tabulka = { 'Slovensko': 'Bratislava', \n",
    "           'Madarsko': 'Budapest',\n",
    "           'Polsko': 'Varsava',\n",
    "           'Rakusko': 'Vieden',\n",
    "           'Albansko': 'Tirana'}"
   ]
  },
  {
   "cell_type": "markdown",
   "metadata": {},
   "source": [
    "Vypíšte slovník na obrazovku pekne naformátovaný v tvare\n",
    "```\n",
    " Albansko: Tirana\n",
    " Madarsko: Budapest\n",
    "   Polsko: Varsava\n",
    "  Rakusko: Vieden\n",
    "Slovensko: Bratislava\n",
    "```\n",
    "Využite zarovnávanie reťazcov vpravo tak, aby dvojbodky šli presne pod sebou."
   ]
  },
  {
   "cell_type": "markdown",
   "metadata": {},
   "source": [
    "Čiastkové úlohy:\n",
    "* výpis v tvare štát: hlavné mesto (iterovať cez klúče)\n",
    "* zotriediť klúče\n",
    "* odstadiť štáty (na to je potrebné zistiť dĺžku najdlhšieho štátu)"
   ]
  },
  {
   "cell_type": "code",
   "execution_count": null,
   "metadata": {
    "collapsed": true
   },
   "outputs": [],
   "source": [
    "dlzky = [ len(stat) for stat in tabulka.keys()]\n",
    "# dlzky = []\n",
    "# for stat in staty:\n",
    "#     dlzky.append(len(stat))\n",
    "\n",
    "najvacsia_dlzka = max(dlzky)\n",
    "for stat in sorted(tabulka.keys()):\n",
    "    print('%s: %s' % (stat.rjust(najvacsia_dlzka), tabulka[stat]))"
   ]
  },
  {
   "cell_type": "markdown",
   "metadata": {},
   "source": [
    "Z klávesnice načítajte štát a na obrazovku vypíšte jeho hlavné mesto na základe vyhľadávania v slovníku z predošlej úlohy. Ošetrite situáciu, keď sa požadovaný štát v slovníku nenachádza.\n",
    "\n",
    "Príklad:\n",
    "```\n",
    "Vstup: Rakusko\n",
    "Vystup: Hlavnym mestom statu Rakusko je Vieden\n",
    "```\n",
    "\n",
    "Príklad:\n",
    "```\n",
    "Vstup: Moldavsko\n",
    "Vystup: Stat Moldavsko sa v slovniku nenachadza\n",
    "```"
   ]
  },
  {
   "cell_type": "code",
   "execution_count": null,
   "metadata": {
    "collapsed": true
   },
   "outputs": [],
   "source": [
    "stat = input('Vloz stat:')\n",
    "if stat in tabulka:\n",
    "    mesto = tabulka[stat]\n",
    "    print('Hlavnym mestom statu %s je %s' % (stat, mesto))\n",
    "else:\n",
    "    print('Stat %s sa v slovniku nenachadza' % stat)"
   ]
  },
  {
   "cell_type": "markdown",
   "metadata": {},
   "source": [
    "Do slovníka pridajte hlavné mesto Nemecka a Francúzska. Vyhľadávanie hlavného mesta zopakujte aj pre rozšírený slovník."
   ]
  },
  {
   "cell_type": "code",
   "execution_count": null,
   "metadata": {
    "collapsed": true
   },
   "outputs": [],
   "source": [
    "tabulka['Nemecko'] = 'Berlin'\n",
    "tabulka['Francuzsko'] = 'Pariz'"
   ]
  },
  {
   "cell_type": "markdown",
   "metadata": {},
   "source": [
    "Kvôli vážnej diplomatickej roztržke sa už nekamarátime s albáncami a teda je potrebné Albánsko odobrať zo slovníka. Upravený slovník vypíšte na obrazovku (stačí pomocou funkcie `print`)"
   ]
  },
  {
   "cell_type": "code",
   "execution_count": null,
   "metadata": {
    "collapsed": true
   },
   "outputs": [],
   "source": [
    "del tabulka['Albansko']"
   ]
  },
  {
   "cell_type": "markdown",
   "metadata": {},
   "source": [
    "Z klávesnice načítajte mesto ako reťazec a z vášho slovníka zistite, ku ktorému štátu patrí. Ak k žiadnemu, vypíšte príslušnú správu.\n",
    "\n",
    "Príklad:\n",
    "```\n",
    "Vstup: Varsava\n",
    "Vystup: Polsko\n",
    "```\n",
    "\n",
    "Príklad:\n",
    "```\n",
    "Vstup: Washington\n",
    "Vystup: Take mesto sa v slovniku nenachadza\n",
    "```"
   ]
  },
  {
   "cell_type": "markdown",
   "metadata": {},
   "source": [
    "Algoritmus:\n",
    "* načítaj štát z klávesnice\n",
    "* zisti, či sa daný štát nachádza v klúčoch"
   ]
  },
  {
   "cell_type": "code",
   "execution_count": null,
   "metadata": {
    "collapsed": true
   },
   "outputs": [],
   "source": [
    "mesto = input('Vloz mesto:')\n",
    "print(tabulka.values())\n",
    "if mesto in tabulka.values():\n",
    "    for stat, m in tabulka.items():\n",
    "        if m==mesto:\n",
    "            print(stat)\n",
    "else:\n",
    "    print('Take mesto tam nie je')"
   ]
  },
  {
   "cell_type": "markdown",
   "metadata": {},
   "source": [
    "Teraz chceme pre každý štát zaznamenať nielen hlavné mesto, ale aj skratku národnej meny (EUR pre Slovensko, Rakúsko, Nemecko a Francúzsko, HUF pre Maďarsko a PLN pre Poľsko). Každý štát teda reprezentujte ako samostatný slovník s kľúčmi `stat`, `mesto`, `mena`. Jednotlivé slovníky spojte do poľa slovníkov a toto pole vypíšte na obrazovku v tvare\n",
    "\n",
    "```\n",
    " Slovensko (EUR): Bratislava\n",
    "  Madarsko (HUF): Budapest\n",
    "    Polsko (PLN): Varsava\n",
    "   Rakusko (EUR): Vieden\n",
    "   Nemecko (EUR): Berlin\n",
    "Francuzsko (EUR): Pariz\n",
    "```"
   ]
  },
  {
   "cell_type": "code",
   "execution_count": null,
   "metadata": {
    "collapsed": true
   },
   "outputs": [],
   "source": [
    "zoznam = []\n",
    "zoznam.append({'stat': 'Slovensko', 'mesto': 'Bratislava', 'mena': 'EUR'})\n",
    "zoznam.append({'stat': 'Madarsko', 'mesto': 'Budapest', 'mena': 'HUF'})\n",
    "zoznam.append({'stat': 'Polsko', 'mesto': 'Varsava', 'mena': 'PLN'})\n",
    "zoznam.append({'stat': 'Rakusko', 'mesto': 'Vieden', 'mena': 'EUR'})\n",
    "zoznam.append({'stat': 'Nemecko', 'mesto': 'Berlin', 'mena': 'EUR'})\n",
    "zoznam.append({'stat': 'Francuzsko', 'mesto': 'Pariz', 'mena': 'EUR'})\n",
    "print(zoznam)"
   ]
  },
  {
   "cell_type": "markdown",
   "metadata": {},
   "source": [
    "Z klávesnice načítajte štát ako reťazec a v programe zistite, či sa v poli slovníkov nachádza. Ak áno, na obrazovku vypíšte jeho hlavné mesto."
   ]
  },
  {
   "cell_type": "markdown",
   "metadata": {},
   "source": [
    "Algoritmus:\n",
    "* iteruj cez jednotlivé prvky zoznamu (jednotlivými prvkami sú slovniky)\n",
    "* zisti, či sa v danom slovníku nachádza pod kľúčom `stat` daný reťazec"
   ]
  },
  {
   "cell_type": "code",
   "execution_count": null,
   "metadata": {
    "collapsed": true
   },
   "outputs": [],
   "source": [
    "stat = input('Vloz retazec:')\n",
    "for slovnik in zoznam:\n",
    "    if slovnik['stat']==stat:\n",
    "        print(slovnik['mesto'])"
   ]
  },
  {
   "cell_type": "markdown",
   "metadata": {},
   "source": [
    "Do každého slovníka vo vašom poli slovníkov pridajte nový kľúč nazvaný `kurz`, ktorého hodnotou bude kurz medzi eurom a príslušnou menou podľa tabuľky\n",
    "\n",
    "| | HUF  | PLN  |\n",
    "|---|---|---|\n",
    "| EUR | 312.3| 4.23|\n"
   ]
  },
  {
   "cell_type": "code",
   "execution_count": null,
   "metadata": {
    "collapsed": true
   },
   "outputs": [],
   "source": [
    "print(zoznam)"
   ]
  },
  {
   "cell_type": "code",
   "execution_count": null,
   "metadata": {
    "collapsed": true,
    "scrolled": true
   },
   "outputs": [],
   "source": [
    "kurzy = {'EUR': 1.0, 'HUF': 312.3, 'PLN': 4.23}\n",
    "for slovnik in zoznam:\n",
    "    slovnik['kurz'] = kurzy[slovnik['mena']]\n",
    "print(zoznam)"
   ]
  },
  {
   "cell_type": "markdown",
   "metadata": {},
   "source": [
    "Z klávesnice načítajte sumu v eurách a názov štátu, do ktorého cestujete. Na základe poľa slovníkov s kurzom na obrazovku vypíšte sumu prepočítanú na lokálnu menu.\n",
    "\n",
    "Príklad vstupu:\n",
    "```\n",
    "Suma: 120\n",
    "Kam cestujem: Polsko\n",
    "```\n",
    "\n",
    "Očakávaný výstup:\n",
    "```\n",
    "120 EUR je 507.60 PLN\n",
    "```"
   ]
  },
  {
   "cell_type": "markdown",
   "metadata": {},
   "source": [
    "Algoritmus:\n",
    "* iteruj cez jednotlivé prvky zoznamu\n",
    "* porovnaj štát - ak je zhodný, na prepočet použi hodnotu pod kľúčom `kurz`"
   ]
  },
  {
   "cell_type": "code",
   "execution_count": null,
   "metadata": {
    "collapsed": true
   },
   "outputs": [],
   "source": [
    "suma = float(input('Suma: '))\n",
    "kam = input('Kam cestujem: ')\n",
    "for slovnik in zoznam:\n",
    "    if kam==slovnik['stat']:\n",
    "        prepocet = slovnik['kurz']*suma\n",
    "        print('%.2f EUR je %.2f %s' % (suma, prepocet, slovnik['mena']))"
   ]
  },
  {
   "cell_type": "markdown",
   "metadata": {},
   "source": [
    "Z klávesnice načítajte menu (napr. `\"EUR\"`) a na obrazovku vypíšte názvy krajín, ktoré danú menu používajú."
   ]
  },
  {
   "cell_type": "code",
   "execution_count": null,
   "metadata": {
    "collapsed": true
   },
   "outputs": [],
   "source": [
    "mena = input('Vloz menu: ')\n",
    "print('Staty pouzivajuce menu %s:' % mena)\n",
    "for prvok in zoznam:\n",
    "    if prvok['mena'] == mena:\n",
    "        print(prvok['stat'])\n",
    "        \n",
    "staty = [ prvok['stat'] for prvok in zoznam if prvok['mena']==mena ]\n",
    "print(staty)"
   ]
  },
  {
   "cell_type": "markdown",
   "metadata": {},
   "source": [
    "### Histogram znakov"
   ]
  },
  {
   "cell_type": "markdown",
   "metadata": {},
   "source": [
    "Vytvorte funkciu, ktorej vstupom bude reťazec a výstupom bude slovník, ktorý ako kľúče bude obsahovať unikátne znaky reťazca a hodnotami bude počet výskytov príslušných znakov.\n",
    "\n",
    "Napríklad pre vstup `\"abeceda je dlha\"` chceme vygenerovať slovník\n",
    "\n",
    "```\n",
    "{'a': 3, 'b': 1, 'c': 1, 'd': 2, 'e': 3, 'h': 1, 'j': 1, 'l': 1}\n",
    "```\n",
    "\n"
   ]
  },
  {
   "cell_type": "markdown",
   "metadata": {},
   "source": [
    "Algoritmus:\n",
    "* vytvor prázdny slovník\n",
    "* iteruj cez jednotlivé znaky reťazca\n",
    "* pre každý znak zisti počet jeho výskytov (metóda `count`) a ulož ho pod kľúčom znak do slovníka"
   ]
  },
  {
   "cell_type": "code",
   "execution_count": 43,
   "metadata": {},
   "outputs": [
    {
     "name": "stdout",
     "output_type": "stream",
     "text": [
      "{'a': 3, 'b': 1, 'e': 3, 'c': 1, 'd': 2, ' ': 2, 'j': 1, 'l': 1, 'h': 1}\n"
     ]
    }
   ],
   "source": [
    "retazec = 'abeceda je dlha'\n",
    "slovnik = {}\n",
    "for znak in retazec:\n",
    "    slovnik[znak] = retazec.count(znak)\n",
    "print(slovnik)"
   ]
  },
  {
   "cell_type": "markdown",
   "metadata": {},
   "source": [
    "Vytvorte funkciu, ktorej vstupom bude histogramový slovník z predošlého kroku. Funkcia na obrazovku vykreslí histogram v tvare\n",
    "```\n",
    "a: ***\n",
    "b: *\n",
    "c: *\n",
    "d: **\n",
    "e: ***\n",
    "h: *\n",
    "j: *\n",
    "l: *\n",
    "```\n",
    "\n",
    "kde sa každý výskyt daného písmena nahradí príslušným počtom hviezdičiek."
   ]
  },
  {
   "cell_type": "markdown",
   "metadata": {},
   "source": [
    "Algoritmus:\n",
    "* iteruj cez kľúče slovníka v zotriedenom poradí\n",
    "* pre každý kľúč vypíš príslušný počet hviezdičiek (použite násobenie znaku `'*'` hodnotou uloženou pod príslušným kľúčom)"
   ]
  },
  {
   "cell_type": "code",
   "execution_count": 46,
   "metadata": {},
   "outputs": [
    {
     "name": "stdout",
     "output_type": "stream",
     "text": [
      " : **\n",
      "a: ***\n",
      "b: *\n",
      "c: *\n",
      "d: **\n",
      "e: ***\n",
      "h: *\n",
      "j: *\n",
      "l: *\n"
     ]
    }
   ],
   "source": [
    "for kluc in sorted(slovnik.keys()):\n",
    "    print('%s: %s' % (kluc, slovnik[kluc]*'*'))"
   ]
  },
  {
   "cell_type": "markdown",
   "metadata": {},
   "source": [
    "### Automatický prekladač"
   ]
  },
  {
   "cell_type": "markdown",
   "metadata": {},
   "source": [
    "Vytvorte slovník, ktorý bude obsahovať aspoň nasledovné preklady\n",
    "\n",
    "|SK | EN|\n",
    "|---|---|\n",
    "| zlty  | yellow  |\n",
    "| zlta  | yellow  |\n",
    "| zlte  | yellow  |\n",
    "| cerveny  | red  |\n",
    "| cervena  | red  |\n",
    "| cervene  | red  |\n",
    "| modry  | blue  |\n",
    "| modra  | blue  |\n",
    "| modre  | blue  |\n",
    "| macka  | cat  |\n",
    "| kon  | horse  |\n",
    "| pes | dog |\n",
    "| a | and |\n",
    "| je | is |\n",
    "\n",
    "Kľúčom bude slovenská verzia, hodnotou potom anglický preklad."
   ]
  },
  {
   "cell_type": "markdown",
   "metadata": {},
   "source": [
    "Algoritmus:\n",
    "* vetu rozdeľ na zoznam slov (metóda `split`)\n",
    "* iteruj cez zoznam slov\n",
    "* vyhľadaj slovenské slovo v kľúčoch prekladového slovníka\n",
    "* ak sa kľúč nachádza - vypíš hodnotu uloženú pod kľúčom, v opačnom prípade vypíš pôvodné slovo\n"
   ]
  },
  {
   "cell_type": "code",
   "execution_count": null,
   "metadata": {
    "collapsed": true
   },
   "outputs": [],
   "source": [
    "preklad = {'zlty': 'yellow',\n",
    "           'zlta': 'yellow',\n",
    "           'zlte': 'yellow',\n",
    "           'cerveny': 'red',\n",
    "           'cervena': 'red',\n",
    "           'cervene': 'red',\n",
    "           'modry': 'blue',\n",
    "           'modra': 'blue',\n",
    "           'modre': 'blue',\n",
    "           'macka': 'cat',\n",
    "           'kon': 'horse',\n",
    "           'pes': 'dog',\n",
    "           'a': 'and',\n",
    "           'je': 'is' }\n",
    "print(preklad)"
   ]
  },
  {
   "cell_type": "markdown",
   "metadata": {},
   "source": [
    "Vytvorte funkciu, ktorej vstupom bude veta v tvare reťazca a prekladový slovník a výstupom bude preložená veta.\n",
    "\n",
    "Príklad vstupu:\n",
    "```\n",
    "Na luke je modry kon a cerveny pes\n",
    "```\n",
    "\n",
    "Očakávaný výstup:\n",
    "```\n",
    "Na luke is blue horse and red dog\n",
    "```\n",
    "\n",
    "(slová, ktoré sa v slovníku nenachádzajú sa vypíšu v pôvodnom slovenskom znení)"
   ]
  },
  {
   "cell_type": "code",
   "execution_count": null,
   "metadata": {
    "collapsed": true
   },
   "outputs": [],
   "source": []
  },
  {
   "cell_type": "markdown",
   "metadata": {},
   "source": [
    "Vytvorte funkciu na spätný preklad z angličtiny do slovenčiny.\n",
    "\n",
    "Príklad vstupu:\n",
    "```\n",
    "There is a blue horse and a red dog on the field\n",
    "```\n",
    "\n",
    "Očakávaný výstup:\n",
    "```\n",
    "There is a modry kon a a cerveny pes on the field\n",
    "```\n"
   ]
  },
  {
   "cell_type": "code",
   "execution_count": null,
   "metadata": {
    "collapsed": true
   },
   "outputs": [],
   "source": []
  },
  {
   "cell_type": "markdown",
   "metadata": {},
   "source": [
    "Vytvorte funkciu, ktorá zistí, koľko slov z danej vety sa dá použitím daného slovníka preložiť. Vstupom do fukcie teda bude veta a slovník, výstupom zasa celkový počet slov vo vete a počet preložených slov.\n",
    "\n",
    "Príklad vstupu:\n",
    "```\n",
    "Na luke je modry kon a cerveny pes\n",
    "```\n",
    "\n",
    "Očakávaný výstup:\n",
    "```\n",
    "Pocet slov: 8\n",
    "Prelozene slova: 6\n",
    "```"
   ]
  },
  {
   "cell_type": "code",
   "execution_count": null,
   "metadata": {
    "collapsed": true
   },
   "outputs": [],
   "source": []
  },
  {
   "cell_type": "markdown",
   "metadata": {},
   "source": [
    "### Nákupy akcií"
   ]
  },
  {
   "cell_type": "markdown",
   "metadata": {},
   "source": [
    "Zadefinujte slovník, kde kľúčom bude skratka firmy a hodnotou jej celý názov. Použite hodnoty z tabuľky\n",
    "\n",
    "| Skratka  | Nazov  |\n",
    "|---|---|\n",
    "| AAPL  | Apple  |\n",
    "| MSFT  | Microsoft  |\n",
    "| GOOG  | Alphabet  |\n",
    "| DG  | Dollar General Corp.  |\n"
   ]
  },
  {
   "cell_type": "code",
   "execution_count": null,
   "metadata": {
    "collapsed": true
   },
   "outputs": [],
   "source": []
  },
  {
   "cell_type": "markdown",
   "metadata": {},
   "source": [
    "Uvažujte zoznam transakcií v tvare\n",
    "\n",
    "```\n",
    "[('AAPL', 23, 111.77), ('AAPL', 12, 109.20), ('MSFT', 8, 55.44), ('AAPL', 7, 110.20), ('GOOG', 10, 746.12), ('MSFT', 10, 56.12), ('DG', 20, 86.02), ('GOOG', 5, 748.34), ('DG', 15, 87.13)]\n",
    "```\n",
    "\n",
    "Na obrazovku vypíšte sumár transakcií v tvare\n",
    "\n",
    "```\n",
    "            Alphabet: 2 transakcie, 15 akcii, celkova cena 11202.90\n",
    "               Apple: 3 transakcie, 42 akcii, celkova cena 4652.51\n",
    "Dollar General Corp.: 2 transakcie, 35 akcii, celkova cena 3027.35\n",
    "           Microsoft: 2 transakcie, 18 akcii, celkova cena 1004.72\n",
    "\n",
    "Celkovy pocet transakcii: 9\n",
    "Spolu: 110 akcii, celkova cena 19887.50\n",
    "```\n",
    "\n",
    "Váš program musí podporovať ľuvobolný počet transakcií."
   ]
  },
  {
   "cell_type": "code",
   "execution_count": null,
   "metadata": {
    "collapsed": true
   },
   "outputs": [],
   "source": []
  },
  {
   "cell_type": "markdown",
   "metadata": {},
   "source": [
    "### Majitelia psov"
   ]
  },
  {
   "cell_type": "markdown",
   "metadata": {},
   "source": [
    "Uvažujme 4 osoby a ich psie plemená:\n",
    "* Ján má dogu a kokršpaniela\n",
    "* Marta má kokršpaniela a retrívera\n",
    "* Karol má jazvečíka, dobermana a pudla\n",
    "* Zuzana má dobermana, retrívera a kokršpaniela.\n",
    "\n",
    "Tieto informácie su uložené v slovníku:\n",
    "```\n",
    "majitelia = { 'Jan': ['Doga', 'Kokerspaniel'],\n",
    "              'Marta': ['Kokerspaniel', 'Retriver'],\n",
    "              'Karol': ['Jazvecik', 'Doberman', 'Pudel'],\n",
    "              'Zuzana': ['Doberman', 'Retriver', 'Kokerspaniel'] }  \n",
    "```\n",
    "\n",
    "Z klávesnice načítajte plemeno psa a na obrazovku vypíšte jeho majiteľov. Napr. pre vstup `\"Kokerspaniel\"` vypíšte\n",
    "```\n",
    "Plemeno kokerspaniel vlastnia 3 osoby: Jan, Karol, Zuzana\n",
    "```"
   ]
  },
  {
   "cell_type": "code",
   "execution_count": null,
   "metadata": {
    "collapsed": true
   },
   "outputs": [],
   "source": []
  },
  {
   "cell_type": "markdown",
   "metadata": {},
   "source": [
    "Vytvorte program, ktorý vytvorí nový slovník, ktorého kľúčmi budú názvy plemien a hodnotami zoznamy ľudí, ktoré dané plemeno vlastnia. Následne takýto slovník vypíšte na obrazovku naformátovaný v tvare:\n",
    "```\n",
    "   Doberman: Karol, Zuzana\n",
    "       Doga: Jan\n",
    "   Jazvecik: Karol\n",
    "Kokrspaniel: Jan, Karol, Zuzana\n",
    "      Pudel: Karol\n",
    "   Retriver: Marta\n",
    "```"
   ]
  },
  {
   "cell_type": "code",
   "execution_count": null,
   "metadata": {
    "collapsed": true
   },
   "outputs": [],
   "source": []
  }
 ],
 "metadata": {
  "kernelspec": {
   "display_name": "Python 3",
   "language": "python",
   "name": "python3"
  },
  "language_info": {
   "codemirror_mode": {
    "name": "ipython",
    "version": 3
   },
   "file_extension": ".py",
   "mimetype": "text/x-python",
   "name": "python",
   "nbconvert_exporter": "python",
   "pygments_lexer": "ipython3",
   "version": "3.6.2"
  }
 },
 "nbformat": 4,
 "nbformat_minor": 1
}
