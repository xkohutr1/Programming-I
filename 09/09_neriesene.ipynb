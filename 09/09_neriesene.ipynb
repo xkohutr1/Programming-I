{
 "cells": [
  {
   "cell_type": "markdown",
   "metadata": {},
   "source": [
    "Z klávesnice načítajte desatinné číslo a na obrazovku vypíšte jeho hodnotu zaokrúhlenú smerom nadol, nahor aj \"orezanú\" na celočíselnú časť. Vyskúšjate nasledovné vstupy: 1.4, 1.5, 1.6, -1.4, -1.5, -1.6"
   ]
  },
  {
   "cell_type": "code",
   "execution_count": null,
   "metadata": {
    "collapsed": true
   },
   "outputs": [],
   "source": []
  },
  {
   "cell_type": "markdown",
   "metadata": {},
   "source": [
    "Z klávesnice načítajte číslo `x`. Do súboru `faktorial.txt` vygenerujte faktoriály čísel od 1 po `x` v nasledovnom formáte:\n",
    "```\n",
    "1! 1\n",
    "2! 2\n",
    "3! 6\n",
    "4! 24\n",
    "...\n",
    "x! ...\n",
    "```\n",
    "\n",
    "Po zavretí súboru tento otvorte v režime na čítanie a na obrazovku vypíšte celý obsah súboru."
   ]
  },
  {
   "cell_type": "code",
   "execution_count": null,
   "metadata": {
    "collapsed": true
   },
   "outputs": [],
   "source": []
  },
  {
   "cell_type": "markdown",
   "metadata": {},
   "source": [
    "Z klávesnice načítajte kladné celé a na obrazovku vypíšte, koľko bitov je potrebných na jeho reprezentáciu v dvojkovej sústave podľa vzorca $\\lceil log_2 x \\rceil$ kde `x` je dané číslo a $\\lceil \\cdot \\rceil$ je operácia `ceil`.\n",
    "\n",
    "Príklad:\n",
    "```\n",
    "Na reprezentaciu cisla 11 su potrebne 4 bity.\n",
    "Na reprezentaciu cisla 2016 je potrebnych 11 bitov.\n",
    "```"
   ]
  },
  {
   "cell_type": "code",
   "execution_count": null,
   "metadata": {
    "collapsed": true
   },
   "outputs": [],
   "source": []
  },
  {
   "cell_type": "markdown",
   "metadata": {},
   "source": [
    "Z klávesnice načítajte kladné celé číslo a na obrazovku ho vypíšte v dvojkovej sústave. Príklad:\n",
    "```\n",
    "11: 1101\n",
    "```"
   ]
  },
  {
   "cell_type": "code",
   "execution_count": null,
   "metadata": {
    "collapsed": true
   },
   "outputs": [],
   "source": []
  },
  {
   "cell_type": "markdown",
   "metadata": {},
   "source": [
    "Z klávesnice načítajte uhol $\\alpha$ a znak `x`. Ak `x='r'`, potom vypíšte hodnotu $\\alpha$ prekonvertovanú na radiány. Ak `x='s'`, hodnotu prekonvertujte na stupne."
   ]
  },
  {
   "cell_type": "code",
   "execution_count": null,
   "metadata": {
    "collapsed": true
   },
   "outputs": [],
   "source": []
  },
  {
   "cell_type": "markdown",
   "metadata": {},
   "source": [
    "Zdedili ste pozemok v tvare pravoúhleho trojuholníka, pričom dĺžka odvesny pri ostrom uhle je `b` a uhol samotný je `alfa` (obe tieto čísla načítajte z klávesnice). Vypočítajte plochu takéhoto pozemku a vypíšte ho na obrazovku. Príklad:\n",
    "```\n",
    "Odvesna (v metroch): 58\n",
    "Uhol (v stupnoch): 35\n",
    "Plocha: 1117.75 m2\n",
    "```"
   ]
  },
  {
   "cell_type": "code",
   "execution_count": null,
   "metadata": {
    "collapsed": true
   },
   "outputs": [],
   "source": []
  },
  {
   "cell_type": "markdown",
   "metadata": {},
   "source": [
    "Z klávesnice načítajte premenné $r_1$ a $r_2$. Na obrazovku vypíšte obsah medzikružia tvoreného kružnicami daných polomerov. Program musí podporovať situácie keď $r_1 \\le r_2$ aj keď $r_2 \\le r_1$."
   ]
  },
  {
   "cell_type": "code",
   "execution_count": null,
   "metadata": {
    "collapsed": true
   },
   "outputs": [],
   "source": []
  },
  {
   "cell_type": "markdown",
   "metadata": {},
   "source": [
    "Z klávesnice načítajte 3 čísla, povedzme `x`, `y` a `z`. Vygenerujte zoznam obsahujúci `x` náhodných celých čísel z intervalu `[y, z]`. Výsledný zoznam vypíšte na obrazovku."
   ]
  },
  {
   "cell_type": "code",
   "execution_count": null,
   "metadata": {
    "collapsed": true
   },
   "outputs": [],
   "source": []
  },
  {
   "cell_type": "markdown",
   "metadata": {},
   "source": [
    "Z klávesnice načítajte vetu ako reťazec. Vytvorte novú vetu, v ktorej budú pôvodné slová poprehadzované v pôvodnom poradí a novú vetu vypíšte na obrazovku. Dbajte na veľké začiatočné písmeno vo vete.\n",
    "\n",
    "Príklad vstupu:\n",
    "```\n",
    "Toto je skutocne divna veta veduca k bizarnym vysledkom\n",
    "```\n",
    "Príklad výstupu:\n",
    "```\n",
    "K vysledkom skutocne veta bizarnym toto divna je veduca\n",
    "```"
   ]
  },
  {
   "cell_type": "code",
   "execution_count": null,
   "metadata": {
    "collapsed": true
   },
   "outputs": [],
   "source": []
  },
  {
   "cell_type": "markdown",
   "metadata": {},
   "source": [
    "Z klávesnice načítajte počet vrhov kockou. Na obrazovku vypíšte jednotlivé náhodne vygenerované vrhy vo formáte:\n",
    "```\n",
    "1vy vrh: 4\n",
    "2hy vrh: 3\n",
    "3ti vrh: 2\n",
    "4ty vrh: 6\n",
    "5ty vrh: 6\n",
    "...\n",
    "xty vrh: 1\n",
    "```"
   ]
  },
  {
   "cell_type": "code",
   "execution_count": null,
   "metadata": {
    "collapsed": true
   },
   "outputs": [],
   "source": []
  },
  {
   "cell_type": "markdown",
   "metadata": {},
   "source": [
    "Predošlú úlohu rozšírte tak, že na záver vypíšete štatistiku jednotlivých \"hodených\" čísel v tvare\n",
    "```\n",
    "Celkovy pocet vrhov: 22\n",
    "Pocet vrhov cisla 1: 3 (13.6%)\n",
    "Pocet vrhov cisla 2: 2 ( 9.1%)\n",
    "Pocet vrhov cisla 3: 4 (18.2%)\n",
    "Pocet vrhov cisla 4: 4 (18.2%)\n",
    "Pocet vrhov cisla 5: 5 (22.7%)\n",
    "Pocet vrhov cisla 6: 6 (27.3%)\n",
    "```\n",
    "Dbajte na správne odsadenie (viď príklad s `9.1%`)"
   ]
  },
  {
   "cell_type": "code",
   "execution_count": null,
   "metadata": {
    "collapsed": true
   },
   "outputs": [],
   "source": []
  },
  {
   "cell_type": "markdown",
   "metadata": {},
   "source": [
    "Na obrazovku vypíšte 10 náhodne generovaných slov, pričom každé musí obsahovať 3 až 5 spoluhlások (počet bude náhodný pre každé slovo) a 2 až 4 samohlásky (opäť je počet náhodný).\n",
    "\n",
    "Príklad výstupu:\n",
    "```\n",
    "eudohqa\n",
    "uxaenylb\n",
    "ajqox\n",
    "boguqms\n",
    "ripfuemjy\n",
    "uaezlyg\n",
    "kfioru\n",
    "jrxumla\n",
    "siphacu\n",
    "qavoused\n",
    "```\n",
    "\n",
    "Pomôcka, postup:\n",
    "1. vygenerujte zoznam spoluhlások a zoznam samohlások\n",
    "2. vygenerujte 2 náhodné čísla, jedno v intervale [3, 5], druhé v intervale [2, 4]\n",
    "3. pomocou `random.sample()` vyberte daný počet prvkov z jednotlivých zoznamov a vytvorte nové zoznamy obsahujúce iba náhodne zvolené spoluhlásky/samohlásky\n",
    "4. spojte nové zoznamy do jednoho\n",
    "5. premiešajte jeho poradie cez `random.shuffle()`\n",
    "6. jednotlivé znaky z premiešaného zoznamu spojte cez `join()`"
   ]
  },
  {
   "cell_type": "code",
   "execution_count": null,
   "metadata": {},
   "outputs": [],
   "source": []
  },
  {
   "cell_type": "markdown",
   "metadata": {},
   "source": [
    "Uvažujme zblbnutý semafor, ktorý náhodne prepína 3 farby. Vygenerujte zoznam obsahujúci 100 prvkov, pričom prvkom je výber z písmen `'C'`, `'O'` alebo `'Z'`.\n",
    "\n",
    "Príklad výstupu:\n",
    "```\n",
    "['C', 'O', 'Z', 'C', 'C', 'O', 'Z', 'O', 'O', 'Z', 'O', 'C', ...]\n",
    "```"
   ]
  },
  {
   "cell_type": "code",
   "execution_count": null,
   "metadata": {
    "collapsed": true
   },
   "outputs": [],
   "source": []
  },
  {
   "cell_type": "markdown",
   "metadata": {},
   "source": [
    "Pre zoznam z predošlej úlohy zistite, koľkokrát bola na semafore zobrazená ktorá farba."
   ]
  },
  {
   "cell_type": "code",
   "execution_count": null,
   "metadata": {
    "collapsed": true
   },
   "outputs": [],
   "source": []
  },
  {
   "cell_type": "markdown",
   "metadata": {},
   "source": [
    "Pre zoznam z predchádzajúcej úlohy zistite najdlhšie sa opakujúcu sekvenciu červenej, oranžovej a zelenej."
   ]
  },
  {
   "cell_type": "code",
   "execution_count": null,
   "metadata": {
    "collapsed": true
   },
   "outputs": [],
   "source": []
  },
  {
   "cell_type": "markdown",
   "metadata": {},
   "source": [
    "Na obrazovku vypíšte kalendár na tento rok"
   ]
  },
  {
   "cell_type": "code",
   "execution_count": null,
   "metadata": {},
   "outputs": [],
   "source": []
  },
  {
   "cell_type": "markdown",
   "metadata": {},
   "source": [
    "Zistite a na obrazovku vypíšte priestupné roky odteraz až do roku 2100."
   ]
  },
  {
   "cell_type": "code",
   "execution_count": null,
   "metadata": {
    "collapsed": true
   },
   "outputs": [],
   "source": []
  },
  {
   "cell_type": "markdown",
   "metadata": {},
   "source": [
    "Na obrazovku vypíšte aktuálny dátum a čas v nasledovných formátoch:\n",
    "* `03.05.2016 11:56`\n",
    "* `2016-05-03 11:56:12`\n",
    "* `03/05/16 (Tue)`\n",
    "* `18ty tyzden, 03 den, 05 mesiac`\n",
    "* `11:56:12 CEST, 03.05.2016`"
   ]
  },
  {
   "cell_type": "code",
   "execution_count": null,
   "metadata": {
    "collapsed": true
   },
   "outputs": [],
   "source": []
  },
  {
   "cell_type": "markdown",
   "metadata": {},
   "source": [
    "Programovo preveďte nasledovné reťazce na objekt modulu `time`, úspech parsovania overte výpisom výslednej časovo-dátumovej štruktúry:\n",
    "* `03.05.2016 11:56`\n",
    "* `2016-05-03 11:56:12`\n",
    "* `03/05/16 (Tue)`\n",
    "* `18ty tyzden, 03 den, 05 mesiac`\n",
    "* `11:56:12 CEST, 03.05.2016`"
   ]
  },
  {
   "cell_type": "code",
   "execution_count": null,
   "metadata": {
    "collapsed": true
   },
   "outputs": [],
   "source": []
  },
  {
   "cell_type": "markdown",
   "metadata": {},
   "source": [
    "Zistite, ktorý deň v týždni ste sa narodili. Vstupom z klávesnice musí byť reťazec v tvare `DD.MM.YYYY`. Výstup musí byť v tvare\n",
    "```\n",
    "Datum narodenia 03.05.2016 pripada na utorok\n",
    "```"
   ]
  },
  {
   "cell_type": "code",
   "execution_count": null,
   "metadata": {
    "collapsed": true
   },
   "outputs": [],
   "source": []
  },
  {
   "cell_type": "markdown",
   "metadata": {},
   "source": [
    "### Dochádzkový systém\n",
    "\n",
    "Cieľom je vytvoriť program evidujúci dochádzku pracovníkov. Identifikačné číslo a meno každého zamestnanca sa nachádzajú v súbore `dochadzka_vstup.txt`. Program bude bežať v nekonečnej slučke, v ktorej si od užívateľa z klávesnice vypýta ID zamestnanca. V prípade, že sa v databáze nenachádza, systém vypíše chybovú hlášku a pokračuje od začiatku. Ak ID existujte, systém si vypýta z klávesnice názov udalosti (`prichod` alebo `odchod`) a túto udalosť spolu s aktuálnym časom si uloží do databázy (stačí do pamäte). Ak užívateľ vloží ID `koniec`, nekonečná slučka sa preruší a program vygeneruje výpis jednotlivých udalostí.\n",
    "\n",
    "Príklad výstupu (časy a ID sú fiktívne):\n",
    "```\n",
    "07:15:00 prichod Janko (ID 1)\n",
    "07:23:14 prichod Marienka (ID 2)\n",
    "08:00:12 odchod Janko (ID 1)\n",
    "08:15:45 prichod Janko (ID 1)\n",
    "14:00:33 odchod Marienka (ID 2)\n",
    "18:23:55 odchod Janko (ID 1)\n",
    "```"
   ]
  },
  {
   "cell_type": "code",
   "execution_count": null,
   "metadata": {
    "collapsed": true
   },
   "outputs": [],
   "source": []
  },
  {
   "cell_type": "markdown",
   "metadata": {},
   "source": [
    "Bonusy k predošlej úlohe:\n",
    "* zistite, koľkokrát ktorý užívateľ vstúpil do budovy\n",
    "* kontrolujte a zakážte dve udalosti typu príchod po sebe, ak medzi nimi nedošlo k odchodu\n",
    "* kontrolujte a zakážte dve udalosti typu odchod po sebe, ak medzi nimi nedošlo k odchodu\n",
    "* kontrolujte, či prvou udalosťou daného dňa je príchod\n",
    "* poslednou udalosťou daného dňa musí byť odchod\n",
    "* vypočítajte a vypíšte odpracovanú dobu jednotlivých pracovníkov\n",
    "* všetky výpisy uložte do separátnych súborov `dochadzka_udalosti.txt` a `dochadzka_sumar.txt`\n",
    "* do suboru `dochadzka_ID.txt` uložte iba udalosti viažuce sa k danému zamestnancovi (v názve súboru bude `ID` nahradené konkrétnym osobným číslom)"
   ]
  },
  {
   "cell_type": "code",
   "execution_count": null,
   "metadata": {
    "collapsed": true
   },
   "outputs": [],
   "source": []
  }
 ],
 "metadata": {
  "kernelspec": {
   "display_name": "Python 3",
   "language": "python",
   "name": "python3"
  },
  "language_info": {
   "codemirror_mode": {
    "name": "ipython",
    "version": 3
   },
   "file_extension": ".py",
   "mimetype": "text/x-python",
   "name": "python",
   "nbconvert_exporter": "python",
   "pygments_lexer": "ipython3",
   "version": "3.6.2"
  }
 },
 "nbformat": 4,
 "nbformat_minor": 1
}
