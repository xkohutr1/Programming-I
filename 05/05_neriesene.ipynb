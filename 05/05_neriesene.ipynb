{
 "cells": [
  {
   "cell_type": "markdown",
   "metadata": {},
   "source": [
    "# Cvičenie č. 5: Neriešené úlohy"
   ]
  },
  {
   "cell_type": "markdown",
   "metadata": {},
   "source": [
    "### Pyramída\n",
    "\n",
    "Z klávesnice načítajte celé číslo a na obrazovku vykreslite pyramídu danej výšky. Príklad výstupu pre vstup `3`:\n",
    "```\n",
    "  *\n",
    " ***\n",
    "*****\n",
    "```\n",
    "\n",
    "Pomôcka: využite zarovnávanie na stred."
   ]
  },
  {
   "cell_type": "code",
   "execution_count": null,
   "metadata": {
    "collapsed": true
   },
   "outputs": [],
   "source": []
  },
  {
   "cell_type": "markdown",
   "metadata": {},
   "source": [
    "### Štatistika výskytov písmen\n",
    "\n",
    "Uvažujem zoznam mien v tvare\n",
    "```\n",
    "[ 'Anna', 'Jakub', 'Bozena', 'Gregor', 'Simona', 'Fedor', 'Anastazia' ]\n",
    "```\n",
    "Z klávesnice načítajte reťazec (napríklad písmeno) a vytvorte nový zoznam, ktorý bude obsahovať počet výskytov daného reťazca v každom mene.\n",
    "\n",
    "Príklad výstupu pre vstup `\"a\"`:\n",
    "```\n",
    "[ 1, 1, 1, 0, 1, 0, 2 ]\n",
    "```"
   ]
  },
  {
   "cell_type": "code",
   "execution_count": null,
   "metadata": {
    "collapsed": true
   },
   "outputs": [],
   "source": []
  },
  {
   "cell_type": "markdown",
   "metadata": {},
   "source": [
    "### Noviny\n",
    "\n",
    "Z klávesnice načítajte (alebo priamo v programe zadefinujte):\n",
    "* titulok novinovej správy\n",
    "* jej krátky opis\n",
    "* meno a priezvisko autora\n",
    "\n",
    "Na obrazovku vypíšte danú správu naformátovanú nasledovne:\n",
    "* šírka stĺpca 30 znakov\n",
    "* titulok veľkými písmenami zarovnaný na stred\n",
    "* krátky opis kapitalizovaný, zarovnaný vľavo\n",
    "* meno aj priezvisko autora kapitalizované, zarovnané vpravo\n",
    "\n",
    "Naviac je potrebné zakomponovať automatickú cenzúru a všetky výskyty reťazcov `\"Matlab\"`, `\"Java\"`, `\"C++\"` a `\"PHP\"` zameniť za `\"Python\"`."
   ]
  },
  {
   "cell_type": "code",
   "execution_count": null,
   "metadata": {
    "collapsed": true
   },
   "outputs": [],
   "source": []
  },
  {
   "cell_type": "markdown",
   "metadata": {},
   "source": [
    "### Testovanie reťazcov\n",
    "\n",
    "Vytvorte program, ktorý z klávesnice načíta reťazec a zistí, či sa odpredu píše rovnako ako odzadu."
   ]
  },
  {
   "cell_type": "code",
   "execution_count": null,
   "metadata": {
    "collapsed": true
   },
   "outputs": [],
   "source": []
  },
  {
   "cell_type": "markdown",
   "metadata": {},
   "source": [
    "### Obracanie reťazcov\n",
    "\n",
    "Načítajte z klávesnice reťazec. Programovo vytvorte druhý reťazec, ktorý bude obsahovať ten prvý písaný odzadu."
   ]
  },
  {
   "cell_type": "code",
   "execution_count": null,
   "metadata": {
    "collapsed": true
   },
   "outputs": [],
   "source": []
  },
  {
   "cell_type": "markdown",
   "metadata": {},
   "source": [
    "### Formátovanie textu\n",
    "\n",
    "Načítajte z klávesnice reťazec o maximálne 60 znakoch a vypíšte ho naformátovaný ako box v skupinách po 5 znakoch na obrazovku. Príklad výstupu pre vstup `Abeceda je dlha`:\n",
    "```\n",
    "*******\n",
    "*Abece*\n",
    "*da je*\n",
    "* dlha*\n",
    "*******\n",
    "```"
   ]
  },
  {
   "cell_type": "code",
   "execution_count": null,
   "metadata": {
    "collapsed": true
   },
   "outputs": [],
   "source": []
  },
  {
   "cell_type": "markdown",
   "metadata": {},
   "source": [
    "### Frekvencia výskytu znakov v reťazci\n",
    "\n",
    "Načítajte z klávesnice reťazec a na obrazovku vypíšte opakujúce sa znaky spolu s frekvenciou ich výskytu v danom reťazci.\n",
    "\n",
    "Príklad vstupu:\n",
    "```\n",
    "Abeceda je dlha\n",
    "```\n",
    "\n",
    "Príklad výstupu:\n",
    "```\n",
    "Nacitany retazec: Abeceda je dlha\n",
    "Opakujuce sa znaky:\n",
    "a: 2x\n",
    "d: 2x\n",
    "e: 3x\n",
    "```"
   ]
  },
  {
   "cell_type": "code",
   "execution_count": null,
   "metadata": {
    "collapsed": true
   },
   "outputs": [],
   "source": []
  }
 ],
 "metadata": {
  "kernelspec": {
   "display_name": "Python 3",
   "language": "python",
   "name": "python3"
  },
  "language_info": {
   "codemirror_mode": {
    "name": "ipython",
    "version": 3
   },
   "file_extension": ".py",
   "mimetype": "text/x-python",
   "name": "python",
   "nbconvert_exporter": "python",
   "pygments_lexer": "ipython3",
   "version": "3.6.2"
  }
 },
 "nbformat": 4,
 "nbformat_minor": 1
}
