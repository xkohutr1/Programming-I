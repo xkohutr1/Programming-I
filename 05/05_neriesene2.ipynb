{
 "cells": [
  {
   "cell_type": "markdown",
   "metadata": {},
   "source": [
    "# Cvičenie č. 5: Neriešené úlohy (pokračovanie)"
   ]
  },
  {
   "cell_type": "markdown",
   "metadata": {},
   "source": [
    "### Striedavé spojenie reťazcov\n",
    "\n",
    "Z klávesnice načítajte 2 reťazce. Napíšte program, ktorý vytvorí nový reťazec, v ktorom sa spojí dva načítané reťazve tak, že sa budú postupne striedať znaky z týchto dvoch reťazcov.\n",
    "\n",
    "Príklad vstupu:\n",
    "```\n",
    "ABCDE\n",
    "12345\n",
    "```\n",
    "\n",
    "Príklad výstupu:\n",
    "```\n",
    "spojenie ABCDE a 12345 je A1B2C3D4E5\n",
    "```"
   ]
  },
  {
   "cell_type": "code",
   "execution_count": null,
   "metadata": {
    "collapsed": true
   },
   "outputs": [],
   "source": []
  },
  {
   "cell_type": "markdown",
   "metadata": {},
   "source": [
    "### Trojuholník\n",
    "\n",
    "Vytvorte program, ktorý načíta z klávesnice celé kladné číslo (označme ho ako x) a na obrazovku vykreslí pomocou hviezdičiek trojuholník, ktorý bude mať x riadkov. Je potrebné, aby bola výpis vystredený ako je uvedené nižšie. Výstup musí byť zarovnaný ako na príklade.\n",
    "\n",
    "Príklad vstupu:\n",
    "```\n",
    "5\n",
    "```\n",
    "\n",
    "Príklad výstupu:\n",
    "```\n",
    "    *\n",
    "   * * \n",
    "  *   * \n",
    " *     * \n",
    "*********\n",
    "```"
   ]
  },
  {
   "cell_type": "code",
   "execution_count": null,
   "metadata": {
    "collapsed": true
   },
   "outputs": [],
   "source": []
  },
  {
   "cell_type": "markdown",
   "metadata": {},
   "source": [
    "### Prevod čísel do textovej podoby\n",
    "\n",
    "Vytvorte program, ktorý z klávesnice načíta celé kladné číslo a na obrazovku vypíše jeho slovnú podobu.\n",
    "\n",
    "Príklad vstupu:\n",
    "```\n",
    "213\n",
    "```\n",
    "\n",
    "Príklad výstupu:\n",
    "```\n",
    "213 = dvestotrinast\n",
    "```"
   ]
  },
  {
   "cell_type": "code",
   "execution_count": null,
   "metadata": {
    "collapsed": true
   },
   "outputs": [],
   "source": []
  },
  {
   "cell_type": "markdown",
   "metadata": {},
   "source": [
    "### Trojuholníky\n",
    "\n",
    "Vytvorte program, ktorý načíta z klávesnice dve celé kladné čísla (označme ich ako x a y) a na obrazovku vykreslí vedľa seba pomocou hviezdičiek y trojuholníkov, pričom každý z nich bude mať x riadkov. Výstup musí byť zarovnaný ako na príklade.\n",
    "\n",
    "Príklad vstupu:\n",
    "```\n",
    "5 3\n",
    "```\n",
    "\n",
    "Príklad výstupu:\n",
    "```\n",
    "    *         *         * \n",
    "   * *       * *       * * \n",
    "  *   *     *   *     *   * \n",
    " *     *   *     *   *     * \n",
    "********* ********* *********\n",
    "```"
   ]
  },
  {
   "cell_type": "code",
   "execution_count": null,
   "metadata": {
    "collapsed": true
   },
   "outputs": [],
   "source": []
  },
  {
   "cell_type": "markdown",
   "metadata": {},
   "source": [
    "### Pyramídy\n",
    "\n",
    "Vytvorte program, ktorý načíta z klávesnice tri celé kladné čísla (označme ich ako x1, x2 a x3) a na obrazovku vykreslí vedľa seba pomocou hviezdičiek 3 pyramídy, pričom prvá bude mať výšku x1 riadkov, druhá x2 a tretia x3. Výstup musí byť zarovnaný ako na príklade.\n",
    "\n",
    "Príklad vstupu:\n",
    "```\n",
    "2 5 3\n",
    "```\n",
    "\n",
    "Príklad výstupu:\n",
    "```\n",
    "        *\n",
    "       ***\n",
    "      *****     *\n",
    " *   *******   ***\n",
    "*** ********* *****\n",
    "```"
   ]
  },
  {
   "cell_type": "code",
   "execution_count": null,
   "metadata": {
    "collapsed": true
   },
   "outputs": [],
   "source": []
  }
 ],
 "metadata": {
  "kernelspec": {
   "display_name": "Python 3",
   "language": "python",
   "name": "python3"
  },
  "language_info": {
   "codemirror_mode": {
    "name": "ipython",
    "version": 3
   },
   "file_extension": ".py",
   "mimetype": "text/x-python",
   "name": "python",
   "nbconvert_exporter": "python",
   "pygments_lexer": "ipython3",
   "version": "3.6.2"
  }
 },
 "nbformat": 4,
 "nbformat_minor": 1
}
