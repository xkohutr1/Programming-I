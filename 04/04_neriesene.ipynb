{
 "cells": [
  {
   "cell_type": "markdown",
   "metadata": {},
   "source": [
    "# Cvičenie č. 4: Neriešené príklady"
   ]
  },
  {
   "cell_type": "markdown",
   "metadata": {},
   "source": [
    "### Nákupný košík"
   ]
  },
  {
   "cell_type": "markdown",
   "metadata": {},
   "source": [
    "Majme zoznam produktov v košíku v tvare\n",
    "```\n",
    "[ ['mrkva', 1.5, 0.8],\n",
    "  ['cibula', 0.43, 1.3],\n",
    "  ['petrzlen', 0.56, 1.12],\n",
    "  ['jogurt', 5, 0.49],\n",
    "  ['chlieb', 2, 1.50]\n",
    "]\n",
    "```\n",
    "kde prvé číslo je počet jednotiek (napr. počet kilogramov alebo počet kusov) a druhé číslo je jednotková cena bez DPH.\n",
    "\n",
    "Zistite a vypíšte:\n",
    "* celkovú cenu nákupu aj s DPH (uvažujte jednotnú sadzbu 20%)\n",
    "* položku s najmenšou jednotkovou cenou\n",
    "* položku, za ktorú s DPH zaplatíme najmenej\n",
    "* výdavok z 20 EUR\n"
   ]
  },
  {
   "cell_type": "code",
   "execution_count": null,
   "metadata": {
    "collapsed": true
   },
   "outputs": [],
   "source": []
  },
  {
   "cell_type": "markdown",
   "metadata": {},
   "source": [
    "### Štatistika osôb"
   ]
  },
  {
   "cell_type": "markdown",
   "metadata": {},
   "source": [
    "Uvažujme zoznam osôb, pričom každá osoba je tvorená zoznamom v tvare `[meno, pohlavie, vyska]`:\n",
    "```\n",
    "[ ['Anna', 'z', 168], ['Boris', 'm', 176], ['Dana', 'z', 170], ['Jakub', 'm', 190], \\\n",
    "  ['Fero', 'm', 165], ['Karol', 'm', 188], ['Marian', 'm', 174], ['Tereza', 'z', 170] ]\n",
    "```\n",
    "Zistite a vypíšte:\n",
    "* počet mužov a počet žien (bude vhodné najskôr zostrojiť zoznam mužov a zoznam žien)\n",
    "* meno najvyššej ženy\n",
    "* meno najnižšieho muža\n",
    "* priemernú výšku všetkých žien\n",
    "* priemernú výšku všetkých mužov\n",
    "* mená osôb zoradených podľa výšky od najvyššej osoby po najnižšiu spolu s informáciou o pohlaví"
   ]
  },
  {
   "cell_type": "code",
   "execution_count": null,
   "metadata": {
    "collapsed": true
   },
   "outputs": [],
   "source": []
  },
  {
   "cell_type": "markdown",
   "metadata": {},
   "source": [
    "### Hodnotenie zadaní"
   ]
  },
  {
   "cell_type": "markdown",
   "metadata": {},
   "source": [
    "Uvažujme zoznam študentov a hodnotení ich týždňových zadaní v tvare\n",
    "```\n",
    "[ ['Jan', [5, 4.5, 8, 9, 10]], \n",
    "  ['Eva', [7, 7, 0, 9, 9]], \n",
    "  ['Magda', [3, 2, 8, 1, 4]],\n",
    "  ['Pavol', [6, 2, 2, 9, 10]],\n",
    "  ['Peter', [2.5, 8.5, 5.5, 10, 10]],\n",
    "  ['Zuzana', [9, 9, 9.5, 10, 0]],\n",
    "  ['Stefan', [4, 6, 3, 8, 2]]\n",
    "]\n",
    "```\n",
    "kde čísla sú v intervale 0 - 10 (10 je 100%).\n",
    "\n",
    "Zistite a vypíšte:\n",
    "* pre každého študenta jeho primernú známku na stupnici 0 - 100%\n",
    "* zoznam študentov, ktorí dosiahli aspoň 50% (zoradené abecedne aj podľa percent)\n",
    "* zoznam študentov, ktorí majú menej ako 50% (zoradené abecedne aj podľa percent)\n",
    "* najlepšieho študenta\n",
    "* najslabšieho študenta\n",
    "\n",
    "**Bonus**: pri výpočte percent uvažujte, že najslabší týždeň sa škrtá. Ako to ovplyvní výsledky?"
   ]
  },
  {
   "cell_type": "code",
   "execution_count": null,
   "metadata": {
    "collapsed": true
   },
   "outputs": [],
   "source": []
  },
  {
   "cell_type": "markdown",
   "metadata": {},
   "source": [
    "### Telefónny zoznam"
   ]
  },
  {
   "cell_type": "markdown",
   "metadata": {},
   "source": [
    "Uvažujme zoznam telefónnych čísel v tvare\n",
    "```\n",
    "[ '055/97312', '042/18320', '02/12345', '021/12309', \\\n",
    "  '02/12302', '02/28320', '055/78212', '022/99729']\n",
    "```\n",
    "Zistite a vypíšte:\n",
    "* koľko telefónnych čísel je z Bratislavy (predvoľba 02)\n",
    "* košické čísla (predvoľba 055)\n",
    "* štatistiku telefónnych čísel podľa predvolieb v tvare\n",
    "```\n",
    "055: 2 cisla\n",
    "042: 1 cislo\n",
    "02: 3 cisla\n",
    "021: 1 cislo\n",
    "022: 1 cislo\n",
    "```\n",
    "\n",
    "**Bonus:** výpis zoraďte primárne podľa počtu čísel (od najväčšieho po najmenší) a sekundárne podľa predvolieb (abecedne vo vzrastajúcom poradí)."
   ]
  },
  {
   "cell_type": "code",
   "execution_count": null,
   "metadata": {
    "collapsed": true
   },
   "outputs": [],
   "source": []
  },
  {
   "cell_type": "markdown",
   "metadata": {},
   "source": [
    "# Prvočísla"
   ]
  },
  {
   "cell_type": "markdown",
   "metadata": {},
   "source": [
    "Vygenerujte a na obrazovku vypíšte zoznam prvočísel v intervale od 1 po 100."
   ]
  },
  {
   "cell_type": "code",
   "execution_count": null,
   "metadata": {
    "collapsed": true
   },
   "outputs": [],
   "source": []
  }
 ],
 "metadata": {
  "kernelspec": {
   "display_name": "Python 3",
   "language": "python",
   "name": "python3"
  },
  "language_info": {
   "codemirror_mode": {
    "name": "ipython",
    "version": 3
   },
   "file_extension": ".py",
   "mimetype": "text/x-python",
   "name": "python",
   "nbconvert_exporter": "python",
   "pygments_lexer": "ipython3",
   "version": "3.6.2"
  }
 },
 "nbformat": 4,
 "nbformat_minor": 1
}
