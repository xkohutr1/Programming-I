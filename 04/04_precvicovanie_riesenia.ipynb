{
 "cells": [
  {
   "cell_type": "markdown",
   "metadata": {},
   "source": [
    "# Cvičenie č. 4: Úlohy na precvičovanie prednášky"
   ]
  },
  {
   "cell_type": "markdown",
   "metadata": {},
   "source": [
    "Vytvorte zoznam obsahujúci čísla od 2 po 10:"
   ]
  },
  {
   "cell_type": "code",
   "execution_count": 1,
   "metadata": {
    "collapsed": false
   },
   "outputs": [],
   "source": [
    "zoznam = range(2, 11)"
   ]
  },
  {
   "cell_type": "markdown",
   "metadata": {},
   "source": [
    "Vytvorte nový zoznam, ktorý bude obsahovať prvky pôvodného zoznamu zmenšené o 7:"
   ]
  },
  {
   "cell_type": "code",
   "execution_count": 2,
   "metadata": {
    "collapsed": false
   },
   "outputs": [
    {
     "name": "stdout",
     "output_type": "stream",
     "text": [
      "[-5, -4, -3, -2, -1, 0, 1, 2, 3]\n"
     ]
    }
   ],
   "source": [
    "novy = [ prvok-7 for prvok in zoznam ]\n",
    "print(novy)"
   ]
  },
  {
   "cell_type": "markdown",
   "metadata": {},
   "source": [
    "Zoznam z predošlého kroku rozdeľte na dve časti, jedna bude obsahovať záporné prvky a druhá kladné:"
   ]
  },
  {
   "cell_type": "code",
   "execution_count": 3,
   "metadata": {
    "collapsed": false
   },
   "outputs": [
    {
     "name": "stdout",
     "output_type": "stream",
     "text": [
      "[-5, -4, -3, -2, -1]\n",
      "[1, 2, 3]\n"
     ]
    }
   ],
   "source": [
    "zaporne = [prvok for prvok in novy if prvok < 0]\n",
    "kladne = [prvok for prvok in novy if prvok > 0]\n",
    "print(zaporne)\n",
    "print(kladne)"
   ]
  },
  {
   "cell_type": "markdown",
   "metadata": {},
   "source": [
    "Zistite sumu kladných prvkov:"
   ]
  },
  {
   "cell_type": "code",
   "execution_count": 4,
   "metadata": {
    "collapsed": false
   },
   "outputs": [
    {
     "name": "stdout",
     "output_type": "stream",
     "text": [
      "6\n"
     ]
    }
   ],
   "source": [
    "print(sum(kladne))"
   ]
  },
  {
   "cell_type": "markdown",
   "metadata": {},
   "source": [
    "Zistite produkt záporných prvkov:"
   ]
  },
  {
   "cell_type": "code",
   "execution_count": 5,
   "metadata": {
    "collapsed": false
   },
   "outputs": [
    {
     "name": "stdout",
     "output_type": "stream",
     "text": [
      "-120\n"
     ]
    }
   ],
   "source": [
    "produkt = zaporne[0]\n",
    "for prvok in zaporne[1:]:\n",
    "    produkt = produkt*prvok\n",
    "print(produkt)"
   ]
  },
  {
   "cell_type": "markdown",
   "metadata": {},
   "source": [
    "Zistite podiel najväčšieho kladného a najmenšieho záporného prvku:"
   ]
  },
  {
   "cell_type": "code",
   "execution_count": 6,
   "metadata": {
    "collapsed": false
   },
   "outputs": [
    {
     "name": "stdout",
     "output_type": "stream",
     "text": [
      "-0.6\n"
     ]
    }
   ],
   "source": [
    "print(max(kladne)/min(zaporne))"
   ]
  },
  {
   "cell_type": "markdown",
   "metadata": {},
   "source": [
    "Majme zoznam\n",
    "```\n",
    "percenta = [ 96, 48, 78, 33, 87, 92, 56, 64, 55, 98, 44, 68 ]\n",
    "```\n",
    "Zistite, koľko prvkov je väčších alebo rovných 56:"
   ]
  },
  {
   "cell_type": "code",
   "execution_count": 7,
   "metadata": {
    "collapsed": false
   },
   "outputs": [
    {
     "name": "stdout",
     "output_type": "stream",
     "text": [
      "7\n"
     ]
    }
   ],
   "source": [
    "percenta = [ 96, 48, 78, 33, 87, 92, 56, 64, 55, 98, 44, 68 ]\n",
    "print(len([prvok for prvok in percenta if prvok>56]))"
   ]
  },
  {
   "cell_type": "markdown",
   "metadata": {},
   "source": [
    "Zistite, aká je priemerná hodnota tých prvkov, ktoré sú menšie ako 56:"
   ]
  },
  {
   "cell_type": "code",
   "execution_count": 8,
   "metadata": {
    "collapsed": false
   },
   "outputs": [
    {
     "name": "stdout",
     "output_type": "stream",
     "text": [
      "45.0\n"
     ]
    }
   ],
   "source": [
    "mensie = [ prvok for prvok in percenta if prvok<56 ]\n",
    "print(sum(mensie)/len(mensie))"
   ]
  },
  {
   "cell_type": "markdown",
   "metadata": {},
   "source": [
    "Pre zoznam percent zistite, koľko chýba najúspešnejšiumu výsledku do 100%:"
   ]
  },
  {
   "cell_type": "code",
   "execution_count": 9,
   "metadata": {
    "collapsed": false
   },
   "outputs": [
    {
     "name": "stdout",
     "output_type": "stream",
     "text": [
      "2\n"
     ]
    }
   ],
   "source": [
    "print(100-max(percenta))"
   ]
  },
  {
   "cell_type": "markdown",
   "metadata": {},
   "source": [
    "Pre zoznam percent zistite, ktorý prvok sa zospodu najviac približuje hranici 56%:"
   ]
  },
  {
   "cell_type": "code",
   "execution_count": 12,
   "metadata": {
    "collapsed": false
   },
   "outputs": [
    {
     "name": "stdout",
     "output_type": "stream",
     "text": [
      "Najviac sa hranici 56% priblizuje prvok 55\n"
     ]
    }
   ],
   "source": [
    "# zoznamu percent, ktore su mensie ako 56\n",
    "mensie = [ prvok for prvok in percenta if prvok<56 ]\n",
    "# najvacsia hodnota zoznamu\n",
    "m = max(mensie)\n",
    "print(\"Najviac sa hranici 56%% priblizuje prvok %d\" % m)"
   ]
  },
  {
   "cell_type": "markdown",
   "metadata": {},
   "source": [
    "Zoznam percent teraz modifikujme do tvaru zoznamu zoznamov:\n",
    "```\n",
    "percenta = [ ['Anna', 96], ['Beata', 48], ['Cyril', 78], ['Dano', 33], ['Ema', 96], ['Filip', 56] ]\n",
    "```\n",
    "Na obrazovku vypíšte údaje v tvare\n",
    "```\n",
    "Anna: 96%\n",
    "Beata: 48%\n",
    "Cyril: 78%\n",
    "Dano: 33%\n",
    "Ema: 96%\n",
    "Filip: 56%\n",
    "```\n",
    "Výstup musí byť vrátane znaku percento."
   ]
  },
  {
   "cell_type": "code",
   "execution_count": 15,
   "metadata": {
    "collapsed": false
   },
   "outputs": [
    {
     "name": "stdout",
     "output_type": "stream",
     "text": [
      "Anna: 96%\n",
      "Beata: 48%\n",
      "Cyril: 78%\n",
      "Dano: 33%\n",
      "Ema: 96%\n",
      "Filip: 56%\n"
     ]
    }
   ],
   "source": [
    "percenta = [ ['Anna', 96], ['Beata', 48], ['Cyril', 78], ['Dano', 33], ['Ema', 96], ['Filip', 56] ]\n",
    "for prvok in percenta:\n",
    "    meno = prvok[0]\n",
    "    p = prvok[1]\n",
    "    print(\"%s: %d%%\" % (meno, p))"
   ]
  },
  {
   "cell_type": "markdown",
   "metadata": {},
   "source": [
    "Zostrojte nový zoznam obsahujúci iba mená osôb:"
   ]
  },
  {
   "cell_type": "code",
   "execution_count": 16,
   "metadata": {
    "collapsed": false
   },
   "outputs": [
    {
     "name": "stdout",
     "output_type": "stream",
     "text": [
      "['Anna', 'Beata', 'Cyril', 'Dano', 'Ema', 'Filip']\n"
     ]
    }
   ],
   "source": [
    "mena = [ prvok[0] for prvok in percenta ]\n",
    "print(mena)"
   ]
  },
  {
   "cell_type": "markdown",
   "metadata": {},
   "source": [
    "Zotrojte nový zoznam obsahujúci iba percentá:"
   ]
  },
  {
   "cell_type": "code",
   "execution_count": 17,
   "metadata": {
    "collapsed": false
   },
   "outputs": [
    {
     "name": "stdout",
     "output_type": "stream",
     "text": [
      "[96, 48, 78, 33, 96, 56]\n"
     ]
    }
   ],
   "source": [
    "p = [ prvok[1] for prvok in percenta ]\n",
    "print(p)"
   ]
  },
  {
   "cell_type": "markdown",
   "metadata": {},
   "source": [
    "Zistite meno osoby s najlepším a s najhorším výsledkom:"
   ]
  },
  {
   "cell_type": "code",
   "execution_count": 20,
   "metadata": {
    "collapsed": false
   },
   "outputs": [
    {
     "name": "stdout",
     "output_type": "stream",
     "text": [
      "Najviac percent ma Anna\n",
      "Najmenej percent ma Dano\n"
     ]
    }
   ],
   "source": [
    "najviac_percent = max(p)\n",
    "index_najviac = p.index(najviac_percent)\n",
    "najviac_osoba = percenta[index_najviac][0]\n",
    "print(\"Najviac percent ma {}\".format(najviac_osoba))\n",
    "\n",
    "najmenej_percent = min(p)\n",
    "index_najmenej = p.index(najmenej_percent)\n",
    "najmenej_osoba = percenta[index_najmenej][0]\n",
    "print(\"Najmenej percent ma {}\".format(najmenej_osoba))"
   ]
  },
  {
   "cell_type": "markdown",
   "metadata": {},
   "source": [
    "Na obrazovku vypíšte mená osôb, ktoré majú aspoň 56%:"
   ]
  },
  {
   "cell_type": "code",
   "execution_count": 22,
   "metadata": {
    "collapsed": false
   },
   "outputs": [
    {
     "name": "stdout",
     "output_type": "stream",
     "text": [
      "['Anna', 'Cyril', 'Ema', 'Filip']\n"
     ]
    }
   ],
   "source": [
    "uspesni = [ prvok[0] for prvok in percenta if prvok[1]>=56 ]\n",
    "print(uspesni)"
   ]
  },
  {
   "cell_type": "markdown",
   "metadata": {},
   "source": [
    "Na obrazovku vypíšte pošet osôb, ktoré majú menej ako 56%:"
   ]
  },
  {
   "cell_type": "code",
   "execution_count": 23,
   "metadata": {
    "collapsed": false
   },
   "outputs": [
    {
     "name": "stdout",
     "output_type": "stream",
     "text": [
      "['Beata', 'Dano']\n"
     ]
    }
   ],
   "source": [
    "neuspesni = [ prvok[0] for prvok in percenta if prvok[1]<56 ]\n",
    "print(neuspesni)"
   ]
  },
  {
   "cell_type": "markdown",
   "metadata": {},
   "source": [
    "Vytvorte nový zoznam obsahujúci známky jednotlivých ľudí podľa známej stupnice A = [92, 100), B = [83, 92), C = [74, 83), D = [65, 74), E = [56, 65), FX = [0, 56):"
   ]
  },
  {
   "cell_type": "code",
   "execution_count": 24,
   "metadata": {
    "collapsed": false
   },
   "outputs": [
    {
     "name": "stdout",
     "output_type": "stream",
     "text": [
      "['A', 'FX', 'C', 'FX', 'A', 'E']\n"
     ]
    }
   ],
   "source": [
    "znamky = []\n",
    "for prvok in percenta:\n",
    "    p = prvok[1] # percenta daneho cloveka\n",
    "    if p>=92:\n",
    "        z = 'A'\n",
    "    elif p>=83:\n",
    "        z = 'B'\n",
    "    elif p>=74:\n",
    "        z = 'C'\n",
    "    elif p>=65:\n",
    "        z = 'D'\n",
    "    elif p>=56:\n",
    "        z = 'E'\n",
    "    else:\n",
    "        z = 'FX'\n",
    "    znamky.append(z)\n",
    "print(znamky)"
   ]
  },
  {
   "cell_type": "markdown",
   "metadata": {},
   "source": [
    "Zo zoznamu známok vypíšte iba unikátne prvky, teda výstup bude v tvare\n",
    "```\n",
    "A, C, E, FX\n",
    "```"
   ]
  },
  {
   "cell_type": "code",
   "execution_count": 32,
   "metadata": {
    "collapsed": false
   },
   "outputs": [
    {
     "name": "stdout",
     "output_type": "stream",
     "text": [
      "['A', 'FX', 'C', 'E']\n",
      "['A', 'C', 'E', 'FX']\n"
     ]
    }
   ],
   "source": [
    "unikatne_znamky = [ z for i, z in enumerate(znamky) if i==znamky.index(z) ]\n",
    "print(unikatne_znamky)\n",
    "unikatne_znamky.sort()\n",
    "print(unikatne_znamky)"
   ]
  },
  {
   "cell_type": "markdown",
   "metadata": {},
   "source": [
    "Na obrazovku vypíšte údaje zo zoznamu, ale osoby budú zotriedené podľa percent od najväčšej hodnoty po najnižšiu. Chceme teda výstup v tvare:\n",
    "```\n",
    "Anna: 96%\n",
    "Ema: 96%\n",
    "Cyril: 78%\n",
    "Filip: 56%\n",
    "Beata: 48%\n",
    "Dano: 33%\n",
    "```\n",
    "Pomôcka: triedenie zoznamu zoznamov sa dá realizovať pomocou\n",
    "```\n",
    "zotriedene = sorted(percenta, key=lambda x: x[1], reverse=True)\n",
    "```"
   ]
  },
  {
   "cell_type": "code",
   "execution_count": 42,
   "metadata": {
    "collapsed": false
   },
   "outputs": [
    {
     "name": "stdout",
     "output_type": "stream",
     "text": [
      "Anna: 96%\n",
      "Ema: 96%\n",
      "Cyril: 78%\n",
      "Filip: 56%\n",
      "Beata: 48%\n",
      "Dano: 33%\n"
     ]
    }
   ],
   "source": [
    "zotriedene = sorted(percenta, key=lambda x: x[1], reverse=True)\n",
    "for osoba in zotriedene:\n",
    "    print(\"{}: {}%\".format(osoba[0], osoba[1]))"
   ]
  },
  {
   "cell_type": "markdown",
   "metadata": {},
   "source": [
    "K výstupu z predošlého kroku pridajte známku. Výstup má teda byť v tvare:\n",
    "```\n",
    "Anna: 96% (A)\n",
    "Ema: 96% (A)\n",
    "Cyril: 78% (C)\n",
    "Filip: 56% (E)\n",
    "Beata: 48% (FX)\n",
    "Dano: 33% (FX)\n",
    "```\n",
    "Pomôcka: vytvorte nový zoznam, ktorý ako svoje prvky bude obsahovať zoznamy v tvare `[meno, percenta, znamka]`."
   ]
  },
  {
   "cell_type": "code",
   "execution_count": 45,
   "metadata": {
    "collapsed": false
   },
   "outputs": [
    {
     "name": "stdout",
     "output_type": "stream",
     "text": [
      "Anna: 96% (A)\n",
      "Ema: 96% (A)\n",
      "Cyril: 78% (C)\n",
      "Filip: 56% (E)\n",
      "Beata: 48% (FX)\n",
      "Dano: 33% (FX)\n"
     ]
    }
   ],
   "source": [
    "novy = []\n",
    "for osoba in zotriedene:\n",
    "    meno = osoba[0]\n",
    "    p = osoba[1] # percenta danej osoby\n",
    "    if p>=92:\n",
    "        znamka = 'A'\n",
    "    elif p>=83:\n",
    "        znamka = 'B'\n",
    "    elif p>=74:\n",
    "        znamka = 'C'\n",
    "    elif p>=65:\n",
    "        znamka = 'D'\n",
    "    elif p>=56:\n",
    "        znamka = 'E'\n",
    "    else:\n",
    "        znamka = 'FX'\n",
    "    novy.append([meno, p, znamka])\n",
    "    \n",
    "for osoba in novy:\n",
    "    print(\"{}: {}% ({})\".format(osoba[0], osoba[1], osoba[2]))"
   ]
  },
  {
   "cell_type": "markdown",
   "metadata": {},
   "source": [
    "Teraz na obrazovku vypíšte informáciu, ktorí ľudia mali akú známku. Výstup musí byť v tvare:\n",
    "```\n",
    " A: Anna, Ema\n",
    " B:\n",
    " C: Cyril\n",
    " D:\n",
    " E: Filip\n",
    "FX: Beata, Dano\n",
    "```"
   ]
  },
  {
   "cell_type": "code",
   "execution_count": 54,
   "metadata": {
    "collapsed": false
   },
   "outputs": [
    {
     "name": "stdout",
     "output_type": "stream",
     "text": [
      " A: Anna, Ema\n",
      " B: \n",
      " C: Cyril\n",
      " D: \n",
      " E: Filip\n",
      "FX: Beata, Dano\n"
     ]
    }
   ],
   "source": [
    "for z in ['A', 'B', 'C', 'D', 'E', 'FX']:\n",
    "    ludia = [ prvok[0] for prvok in novy if prvok[2]==z]\n",
    "    print(\"{}{}: {}\".format((2-len(z))*\" \", z, \", \".join(ludia)))"
   ]
  },
  {
   "cell_type": "markdown",
   "metadata": {},
   "source": [
    "Predošlý výstup zmeňte na histogram kde každá hviezdička reprezentuje jednoho človeka. Výstup teda musí byť v tvare\n",
    "```\n",
    " A: **\n",
    " B:\n",
    " C: *\n",
    " D:\n",
    " E: *\n",
    "FX: **\n",
    "```"
   ]
  },
  {
   "cell_type": "code",
   "execution_count": 53,
   "metadata": {
    "collapsed": false
   },
   "outputs": [
    {
     "name": "stdout",
     "output_type": "stream",
     "text": [
      " A: **\n",
      " B: \n",
      " C: *\n",
      " D: \n",
      " E: *\n",
      "FX: **\n"
     ]
    }
   ],
   "source": [
    "for z in ['A', 'B', 'C', 'D', 'E', 'FX']:\n",
    "    ludia = [ prvok[0] for prvok in novy if prvok[2]==z]\n",
    "    print(\"{}{}: {}\".format((2-len(z))*\" \", z, \"*\"*len(ludia)))"
   ]
  }
 ],
 "metadata": {
  "kernelspec": {
   "display_name": "Python 3",
   "language": "python",
   "name": "python3"
  },
  "language_info": {
   "codemirror_mode": {
    "name": "ipython",
    "version": 3
   },
   "file_extension": ".py",
   "mimetype": "text/x-python",
   "name": "python",
   "nbconvert_exporter": "python",
   "pygments_lexer": "ipython3",
   "version": "3.4.2"
  }
 },
 "nbformat": 4,
 "nbformat_minor": 0
}
