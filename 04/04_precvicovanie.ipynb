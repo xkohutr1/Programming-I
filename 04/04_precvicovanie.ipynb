{
 "cells": [
  {
   "cell_type": "markdown",
   "metadata": {},
   "source": [
    "# Cvičenie č. 4: Úlohy na precvičovanie prednášky"
   ]
  },
  {
   "cell_type": "markdown",
   "metadata": {},
   "source": [
    "Vytvorte zoznam obsahujúci čísla od 2 po 10:"
   ]
  },
  {
   "cell_type": "code",
   "execution_count": null,
   "metadata": {
    "collapsed": false
   },
   "outputs": [],
   "source": []
  },
  {
   "cell_type": "markdown",
   "metadata": {},
   "source": [
    "Vytvorte nový zoznam, ktorý bude obsahovať prvky pôvodného zoznamu zmenšené o 7:"
   ]
  },
  {
   "cell_type": "code",
   "execution_count": null,
   "metadata": {
    "collapsed": false
   },
   "outputs": [],
   "source": []
  },
  {
   "cell_type": "markdown",
   "metadata": {},
   "source": [
    "Zoznam z predošlého kroku rozdeľte na dve časti, jedna bude obsahovať záporné prvky a druhá kladné:"
   ]
  },
  {
   "cell_type": "code",
   "execution_count": null,
   "metadata": {
    "collapsed": false
   },
   "outputs": [],
   "source": []
  },
  {
   "cell_type": "markdown",
   "metadata": {},
   "source": [
    "Zistite sumu kladných prvkov:"
   ]
  },
  {
   "cell_type": "code",
   "execution_count": null,
   "metadata": {
    "collapsed": true
   },
   "outputs": [],
   "source": []
  },
  {
   "cell_type": "markdown",
   "metadata": {},
   "source": [
    "Zistite produkt záporných prvkov:"
   ]
  },
  {
   "cell_type": "code",
   "execution_count": null,
   "metadata": {
    "collapsed": true
   },
   "outputs": [],
   "source": []
  },
  {
   "cell_type": "markdown",
   "metadata": {},
   "source": [
    "Zistite podiel najväčšieho kladného a najmenšieho záporného prvku:"
   ]
  },
  {
   "cell_type": "code",
   "execution_count": null,
   "metadata": {
    "collapsed": true
   },
   "outputs": [],
   "source": []
  },
  {
   "cell_type": "markdown",
   "metadata": {},
   "source": [
    "Majme zoznam\n",
    "```\n",
    "percenta = [ 96, 48, 78, 33, 87, 92, 56, 64, 55, 98, 44, 68 ]\n",
    "```\n",
    "Zistite, koľko prvkov je väčších alebo rovných 56:"
   ]
  },
  {
   "cell_type": "code",
   "execution_count": null,
   "metadata": {
    "collapsed": true
   },
   "outputs": [],
   "source": []
  },
  {
   "cell_type": "markdown",
   "metadata": {},
   "source": [
    "Zistite, aká je priemerná hodnota tých prvkov, ktoré sú menšie ako 56:"
   ]
  },
  {
   "cell_type": "code",
   "execution_count": null,
   "metadata": {
    "collapsed": true
   },
   "outputs": [],
   "source": []
  },
  {
   "cell_type": "markdown",
   "metadata": {},
   "source": [
    "Pre zoznam percent zistite, koľko chýba najúspešnejšiumu výsledku do 100%:"
   ]
  },
  {
   "cell_type": "code",
   "execution_count": null,
   "metadata": {
    "collapsed": true
   },
   "outputs": [],
   "source": []
  },
  {
   "cell_type": "markdown",
   "metadata": {},
   "source": [
    "Pre zoznam percent zistite, ktorý prvok sa zospodu najviac približuje hranici 56%:"
   ]
  },
  {
   "cell_type": "code",
   "execution_count": null,
   "metadata": {
    "collapsed": true
   },
   "outputs": [],
   "source": []
  },
  {
   "cell_type": "markdown",
   "metadata": {},
   "source": [
    "Zoznam percent teraz modifikujme do tvaru zoznamu zoznamov:\n",
    "```\n",
    "percenta = [ ['Anna', 96], ['Beata', 48], ['Cyril', 78], ['Dano', 33], ['Ema', 96], ['Filip', 56] ]\n",
    "```\n",
    "Na obrazovku vypíšte údaje v tvare\n",
    "```\n",
    "Anna: 96%\n",
    "Beata: 48%\n",
    "Cyril: 78%\n",
    "Dano: 33%\n",
    "Ema: 96%\n",
    "Filip: 56%\n",
    "```\n",
    "Výstup musí byť vrátane znaku percento."
   ]
  },
  {
   "cell_type": "code",
   "execution_count": null,
   "metadata": {
    "collapsed": true
   },
   "outputs": [],
   "source": []
  },
  {
   "cell_type": "markdown",
   "metadata": {},
   "source": [
    "Zostrojte nový zoznam obsahujúci iba mená osôb:"
   ]
  },
  {
   "cell_type": "code",
   "execution_count": null,
   "metadata": {
    "collapsed": true
   },
   "outputs": [],
   "source": []
  },
  {
   "cell_type": "markdown",
   "metadata": {},
   "source": [
    "Zotrojte nový zoznam obsahujúci iba percentá:"
   ]
  },
  {
   "cell_type": "code",
   "execution_count": null,
   "metadata": {
    "collapsed": true
   },
   "outputs": [],
   "source": []
  },
  {
   "cell_type": "markdown",
   "metadata": {},
   "source": [
    "Zistite meno osoby s najlepším a s najhorším výsledkom:"
   ]
  },
  {
   "cell_type": "markdown",
   "metadata": {},
   "source": []
  },
  {
   "cell_type": "markdown",
   "metadata": {},
   "source": [
    "Na obrazovku vypíšte mená osôb, ktoré majú aspoň 56%:"
   ]
  },
  {
   "cell_type": "code",
   "execution_count": null,
   "metadata": {
    "collapsed": true
   },
   "outputs": [],
   "source": []
  },
  {
   "cell_type": "markdown",
   "metadata": {},
   "source": [
    "Na obrazovku vypíšte pošet osôb, ktoré majú menej ako 56%:"
   ]
  },
  {
   "cell_type": "code",
   "execution_count": null,
   "metadata": {
    "collapsed": true
   },
   "outputs": [],
   "source": []
  },
  {
   "cell_type": "markdown",
   "metadata": {},
   "source": [
    "Vytvorte nový zoznam obsahujúci známky jednotlivých ľudí podľa známej stupnice A = [92, 100), B = [83, 92), C = [74, 83), D = [65, 74), E = [56, 65), FX = [0, 56):"
   ]
  },
  {
   "cell_type": "code",
   "execution_count": null,
   "metadata": {
    "collapsed": true
   },
   "outputs": [],
   "source": []
  },
  {
   "cell_type": "markdown",
   "metadata": {},
   "source": [
    "Zo zoznamu známok vypíšte iba unikátne prvky, teda výstup bude v tvare\n",
    "```\n",
    "A, C, E, FX\n",
    "```"
   ]
  },
  {
   "cell_type": "code",
   "execution_count": null,
   "metadata": {
    "collapsed": true
   },
   "outputs": [],
   "source": []
  },
  {
   "cell_type": "markdown",
   "metadata": {},
   "source": [
    "Na obrazovku vypíšte údaje zo zoznamu, ale osoby budú zotriedené podľa percent od najväčšej hodnoty po najnižšiu. Chceme teda výstup v tvare:\n",
    "```\n",
    "Anna: 96%\n",
    "Ema: 96%\n",
    "Cyril: 78%\n",
    "Filip: 56%\n",
    "Beata: 48%\n",
    "Dano: 33%\n",
    "```"
   ]
  },
  {
   "cell_type": "markdown",
   "metadata": {},
   "source": []
  },
  {
   "cell_type": "markdown",
   "metadata": {},
   "source": [
    "K výstupu z predošlého kroku pridajte známku. Výstup má teda byť v tvare:\n",
    "```\n",
    "Anna: 96% (A)\n",
    "Ema: 96% (A)\n",
    "Cyril: 78% (C)\n",
    "Filip: 56% (E)\n",
    "Beata: 48% (FX)\n",
    "Dano: 33% (FX)\n",
    "```"
   ]
  },
  {
   "cell_type": "code",
   "execution_count": null,
   "metadata": {
    "collapsed": true
   },
   "outputs": [],
   "source": []
  },
  {
   "cell_type": "markdown",
   "metadata": {},
   "source": [
    "Teraz na obrazovku vypíšte informáciu, ktorí ľudia mali akú známku. Výstup musí byť v tvare:\n",
    "```\n",
    " A: Anna, Ema\n",
    " B:\n",
    " C: Cyril\n",
    " D:\n",
    " E: Filip\n",
    "FX: Beata, Dano\n",
    "```"
   ]
  },
  {
   "cell_type": "code",
   "execution_count": null,
   "metadata": {
    "collapsed": true
   },
   "outputs": [],
   "source": []
  },
  {
   "cell_type": "markdown",
   "metadata": {},
   "source": [
    "Predošlý výstup zmeňte na histogram kde každá hviezdička reprezentuje jednoho človeka. Výstup teda musí byť v tvare\n",
    "```\n",
    " A: **\n",
    " B:\n",
    " C: *\n",
    " D:\n",
    " E: *\n",
    "FX: **\n",
    "```"
   ]
  },
  {
   "cell_type": "code",
   "execution_count": null,
   "metadata": {
    "collapsed": true
   },
   "outputs": [],
   "source": []
  }
 ],
 "metadata": {
  "kernelspec": {
   "display_name": "Python 3",
   "language": "python",
   "name": "python3"
  },
  "language_info": {
   "codemirror_mode": {
    "name": "ipython",
    "version": 3
   },
   "file_extension": ".py",
   "mimetype": "text/x-python",
   "name": "python",
   "nbconvert_exporter": "python",
   "pygments_lexer": "ipython3",
   "version": "3.4.2"
  }
 },
 "nbformat": 4,
 "nbformat_minor": 0
}
