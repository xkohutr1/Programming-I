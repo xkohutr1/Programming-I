{
 "cells": [
  {
   "cell_type": "markdown",
   "metadata": {},
   "source": [
    "# Cvičenie č. 3: Neriešené príklady"
   ]
  },
  {
   "cell_type": "markdown",
   "metadata": {},
   "source": [
    "### Prázdny štvorec"
   ]
  },
  {
   "cell_type": "markdown",
   "metadata": {},
   "source": [
    "Z klávesnice načítajte číslo `x` a na obrazovku vypíšte štvorec daného rozmeru zo znakov `*` (hviezdička), ktorého vnutro je prázdne. Príklad výstupu pri vstupe `x=4`:\n",
    "```\n",
    "****\n",
    "*  *\n",
    "*  *\n",
    "****\n",
    "```"
   ]
  },
  {
   "cell_type": "code",
   "execution_count": null,
   "metadata": {
    "collapsed": true
   },
   "outputs": [],
   "source": []
  },
  {
   "cell_type": "markdown",
   "metadata": {},
   "source": [
    "### Faktoriál"
   ]
  },
  {
   "cell_type": "markdown",
   "metadata": {},
   "source": [
    "Napíšte program, ktorý si od vás vyžiada celé číslo a následne vypíše jeho faktoriál."
   ]
  },
  {
   "cell_type": "code",
   "execution_count": null,
   "metadata": {
    "collapsed": true
   },
   "outputs": [],
   "source": []
  },
  {
   "cell_type": "markdown",
   "metadata": {},
   "source": [
    "### Informácie o mestách"
   ]
  },
  {
   "cell_type": "markdown",
   "metadata": {},
   "source": [
    "Uvažujte zoznam miest v nasledovnom tvare:\n",
    "```\n",
    "mesta = [ ['Bratislava', 425000], \\\n",
    "          ['Kosice', 235000], \\\n",
    "          ['Presov', 92000], \\\n",
    "          ['Nitra', 86000],\\\n",
    "          ['Zilina', 85000] ]\n",
    "```\n",
    "kde čísla označujú počet obyvateľov. Zistite a vypíšte:\n",
    "* mesto s najväčším počtom obyvateľov\n",
    "* mesto s najnižším počtom obyvateľov\n",
    "* priemerný počet obyvateľov\n",
    "* pre každé mesto informáciu, o koľko sa musí zmeniť počet jeho obyvateľov, aby dosiahol priemer"
   ]
  },
  {
   "cell_type": "code",
   "execution_count": null,
   "metadata": {},
   "outputs": [],
   "source": []
  },
  {
   "cell_type": "markdown",
   "metadata": {},
   "source": [
    "### Kalkulačka"
   ]
  },
  {
   "cell_type": "markdown",
   "metadata": {},
   "source": [
    "Napíšte program, ktorý si od Vás viacnásobne vyžiada číslo a znak `+`, `-` alebo `*` a následne vyhodnotí matematickú operáciu a jej výsledok sa uloží do premennej. Program sa skončí vtedy, keď výsledok operáci9 bude väčší ako 1000. \n",
    "\n",
    "Príklad vstupu:\n",
    "```\n",
    "30\n",
    "+\n",
    "20\n",
    "*\n",
    "3\n",
    "-\n",
    "5\n",
    "*\n",
    "40\n",
    "```\n",
    "\n",
    "Výstup:\n",
    "```\n",
    "Vysledok danych operacii je 5800\n",
    "```"
   ]
  },
  {
   "cell_type": "code",
   "execution_count": null,
   "metadata": {
    "collapsed": true
   },
   "outputs": [],
   "source": []
  },
  {
   "cell_type": "markdown",
   "metadata": {},
   "source": [
    "### Hádanie čísla"
   ]
  },
  {
   "cell_type": "markdown",
   "metadata": {},
   "source": [
    "Vytvorte program, ktorý uhádne číslo z intervalu 0 až 100, ktoré si myslíte. Program vám ponúkne nástrel a spýta sa, či je vaše číslo menšie (odpoveď \"`m`\"), väčšie (odpoveď \"`v`\") alebo rovné ako ponúknutá hodnota. Pomôcka: využite polenie intervalu.\n",
    "\n",
    "Príklad hry (myslené číslo je 20):\n",
    "```\n",
    "50: m\n",
    "25: m\n",
    "12: v\n",
    "18: v\n",
    "21: m\n",
    "19: v\n",
    "20: o\n",
    "Uhadol som cislo 20\n",
    "```"
   ]
  },
  {
   "cell_type": "code",
   "execution_count": null,
   "metadata": {
    "collapsed": true
   },
   "outputs": [],
   "source": []
  },
  {
   "cell_type": "markdown",
   "metadata": {},
   "source": [
    "### Odstránenie duplicít"
   ]
  },
  {
   "cell_type": "markdown",
   "metadata": {},
   "source": [
    "Uvažujme zoznam `[1, 2, 3, 1, 4, 1, 5, 2, 7, 8, 4]`. Vytvorte program, ktorý z takéhoto poľa odstráni všetky duplicity, teda výstupom bude zoznam `[1, 2, 3, 4, 5, 7, 8]`."
   ]
  },
  {
   "cell_type": "code",
   "execution_count": null,
   "metadata": {
    "collapsed": true
   },
   "outputs": [],
   "source": []
  },
  {
   "cell_type": "markdown",
   "metadata": {},
   "source": [
    "### Majitelia psov"
   ]
  },
  {
   "cell_type": "markdown",
   "metadata": {},
   "source": [
    "Uvažujme 4 osoby a ich psie plemená:\n",
    "* Ján má dogu a kokršpaniela\n",
    "* Marta má kokršpaniela a retrívera\n",
    "* Karol má jazvečíka, dobermana a pudla\n",
    "* Zuzana má dobermana, retrívera a kokršpaniela.\n",
    "\n",
    "Mená majiteľov sú uložené v zozname `majitelia`:\n",
    "```\n",
    "majitelia = ['Jan', 'Marta', 'Karol', 'Zuzana']\n",
    "```\n",
    "Plemená sú v ďalšom zozname:\n",
    "```\n",
    "plemena = [ ['Doga', 'Kokerspaniel'], \\\n",
    "            ['Kokerspaniel', 'Retriver'], \\\n",
    "            ['Jazvecik', 'Doberman', 'Pudel'], \\\n",
    "            ['Doberman', 'Retriver', 'Kokerspaniel'] ]\n",
    "```\n",
    "pričom i-tý prvok zoznamu `plemena` reprezentuje zoznam psov patriacich i-tej osobe zo zoznamu `majitelia`.\n",
    "\n",
    "\n",
    "Vytvorte program, ktorý vypíše štatistiku vlastnených psov v tvare:\n",
    "```\n",
    "Doberman: 2 osoby (Karol, Zuzana)\n",
    "Doga: 1 osoba (Jan)\n",
    "Jazvecik: 1 osoba (Karol)\n",
    "Kokrspaniel: 3 osoby (Jan, Karol, Zuzana)\n",
    "Pudel: 1 osoba (Karol)\n",
    "Retriver: 1 osoba (Marta)\n",
    "```\n",
    "\n",
    "Program musí, samozrejme, podporovať ľubovolný počet majitelov a psov."
   ]
  }
 ],
 "metadata": {
  "kernelspec": {
   "display_name": "Python 3",
   "language": "python",
   "name": "python3"
  },
  "language_info": {
   "codemirror_mode": {
    "name": "ipython",
    "version": 3
   },
   "file_extension": ".py",
   "mimetype": "text/x-python",
   "name": "python",
   "nbconvert_exporter": "python",
   "pygments_lexer": "ipython3",
   "version": "3.6.2"
  }
 },
 "nbformat": 4,
 "nbformat_minor": 1
}
