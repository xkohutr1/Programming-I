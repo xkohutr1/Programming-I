{
 "cells": [
  {
   "cell_type": "markdown",
   "metadata": {},
   "source": [
    "# Cvičenie č. 3: Úlohy na precvičovanie prednášky"
   ]
  },
  {
   "cell_type": "markdown",
   "metadata": {},
   "source": [
    "Vytvorte prázdny zoznam:"
   ]
  },
  {
   "cell_type": "code",
   "execution_count": 32,
   "metadata": {
    "collapsed": true
   },
   "outputs": [],
   "source": [
    "zoznam = []"
   ]
  },
  {
   "cell_type": "markdown",
   "metadata": {},
   "source": [
    "Do zoznamu postupne pridajte prvky `1.3`, `2.6`, `0.5` a `1.1`:"
   ]
  },
  {
   "cell_type": "code",
   "execution_count": 33,
   "metadata": {
    "collapsed": false
   },
   "outputs": [
    {
     "name": "stdout",
     "output_type": "stream",
     "text": [
      "[1.3, 2.6, 0.5, 1.1]\n"
     ]
    }
   ],
   "source": [
    "zoznam.append(1.3)\n",
    "zoznam.append(2.6)\n",
    "zoznam.append(0.5)\n",
    "zoznam.append(1.1)\n",
    "print(zoznam)"
   ]
  },
  {
   "cell_type": "markdown",
   "metadata": {},
   "source": [
    "Na obrazovku vypíšte počet prvkov zoznamu:"
   ]
  },
  {
   "cell_type": "code",
   "execution_count": 34,
   "metadata": {
    "collapsed": false
   },
   "outputs": [
    {
     "name": "stdout",
     "output_type": "stream",
     "text": [
      "4\n"
     ]
    }
   ],
   "source": [
    "print(len(zoznam))"
   ]
  },
  {
   "cell_type": "markdown",
   "metadata": {},
   "source": [
    "Vypíšte prvý a predposledný prvok:"
   ]
  },
  {
   "cell_type": "code",
   "execution_count": 35,
   "metadata": {
    "collapsed": false
   },
   "outputs": [
    {
     "name": "stdout",
     "output_type": "stream",
     "text": [
      "1.3\n",
      "0.5\n"
     ]
    }
   ],
   "source": [
    "print(zoznam[0]) # prvy prvok\n",
    "print(zoznam[-2]) # predposledny prvok"
   ]
  },
  {
   "cell_type": "markdown",
   "metadata": {},
   "source": [
    "Zmeňte 3. prvkok zoznamu na hodnotu o 0.1 väčšiu:"
   ]
  },
  {
   "cell_type": "code",
   "execution_count": 36,
   "metadata": {
    "collapsed": false
   },
   "outputs": [
    {
     "name": "stdout",
     "output_type": "stream",
     "text": [
      "[1.3, 2.6, 0.6, 1.1]\n"
     ]
    }
   ],
   "source": [
    "zoznam[2] = zoznam[2] + 0.1  # 3. prvok ma index 2\n",
    "print(zoznam)"
   ]
  },
  {
   "cell_type": "markdown",
   "metadata": {},
   "source": [
    "Vytvorte nový zoznam `[12.5, -5.0, 4.3]` a spojte ho s pôvodným zoznamom. Vyskúšajte spájanie pomocou operátora \"`+`\" aj pomocou metódy `extend`:"
   ]
  },
  {
   "cell_type": "code",
   "execution_count": 37,
   "metadata": {
    "collapsed": false
   },
   "outputs": [],
   "source": [
    "novy = [12.5, -5.0, 4.3]"
   ]
  },
  {
   "cell_type": "code",
   "execution_count": 38,
   "metadata": {
    "collapsed": false
   },
   "outputs": [
    {
     "name": "stdout",
     "output_type": "stream",
     "text": [
      "[1.3, 2.6, 0.6, 1.1, 12.5, -5.0, 4.3]\n"
     ]
    }
   ],
   "source": [
    "# spojenie pomocou +\n",
    "vysledok = zoznam + novy\n",
    "print(vysledok)"
   ]
  },
  {
   "cell_type": "code",
   "execution_count": 39,
   "metadata": {
    "collapsed": false
   },
   "outputs": [
    {
     "name": "stdout",
     "output_type": "stream",
     "text": [
      "[1.3, 2.6, 0.6, 1.1, 12.5, -5.0, 4.3]\n"
     ]
    }
   ],
   "source": [
    "# spojenie pomocou extend\n",
    "zoznam.extend(novy)\n",
    "print(zoznam)"
   ]
  },
  {
   "cell_type": "markdown",
   "metadata": {},
   "source": [
    "Vytvorte nový zoznam, ktorý bude obsahovať prvky zoznamu z predošlého kroku zduplikované (teda z `[1, 2, 3]` chceme vyrobiť `[1, 2, 3, 1, 2, 3]`):"
   ]
  },
  {
   "cell_type": "code",
   "execution_count": 40,
   "metadata": {
    "collapsed": false
   },
   "outputs": [
    {
     "name": "stdout",
     "output_type": "stream",
     "text": [
      "[1.3, 2.6, 0.6, 1.1, 12.5, -5.0, 4.3, 1.3, 2.6, 0.6, 1.1, 12.5, -5.0, 4.3]\n"
     ]
    }
   ],
   "source": [
    "novy = 2*zoznam\n",
    "print(novy)"
   ]
  },
  {
   "cell_type": "markdown",
   "metadata": {},
   "source": [
    "Do zoznamu vložte na 2. pozíciu prvok 12.5:"
   ]
  },
  {
   "cell_type": "code",
   "execution_count": 41,
   "metadata": {
    "collapsed": false
   },
   "outputs": [
    {
     "name": "stdout",
     "output_type": "stream",
     "text": [
      "[1.3, 12.5, 2.6, 0.6, 1.1, 12.5, -5.0, 4.3]\n"
     ]
    }
   ],
   "source": [
    "zoznam.insert(1, 12.5) # 2. pozicia ma index 1\n",
    "print(zoznam)"
   ]
  },
  {
   "cell_type": "markdown",
   "metadata": {},
   "source": [
    "Do zoznamu vložte na koniec prvok 0.3:"
   ]
  },
  {
   "cell_type": "code",
   "execution_count": 42,
   "metadata": {
    "collapsed": false
   },
   "outputs": [
    {
     "name": "stdout",
     "output_type": "stream",
     "text": [
      "[1.3, 12.5, 2.6, 0.6, 1.1, 12.5, -5.0, 4.3, 0.3]\n"
     ]
    }
   ],
   "source": [
    "zoznam.append(0.3)\n",
    "print(zoznam)"
   ]
  },
  {
   "cell_type": "markdown",
   "metadata": {},
   "source": [
    "Odoberte zo zoznamu posledný prvok a na obrazovku vypíšte jeho hodnotu ako i nový zoznam:"
   ]
  },
  {
   "cell_type": "code",
   "execution_count": 43,
   "metadata": {
    "collapsed": false
   },
   "outputs": [
    {
     "name": "stdout",
     "output_type": "stream",
     "text": [
      "0.3\n",
      "[1.3, 12.5, 2.6, 0.6, 1.1, 12.5, -5.0, 4.3]\n"
     ]
    }
   ],
   "source": [
    "prvok = zoznam.pop()\n",
    "print(prvok)\n",
    "print(zoznam)"
   ]
  },
  {
   "cell_type": "markdown",
   "metadata": {},
   "source": [
    "Odoberte zo zoznamu prvok na 4. pozícii a vypíšte ho na obrazovku spolu s novým zoznamom:"
   ]
  },
  {
   "cell_type": "code",
   "execution_count": 44,
   "metadata": {
    "collapsed": false
   },
   "outputs": [
    {
     "name": "stdout",
     "output_type": "stream",
     "text": [
      "0.6\n",
      "[1.3, 12.5, 2.6, 1.1, 12.5, -5.0, 4.3]\n"
     ]
    }
   ],
   "source": [
    "prvok = zoznam.pop(3)  # 4. pozicia ma index 3\n",
    "print(prvok)\n",
    "print(zoznam)"
   ]
  },
  {
   "cell_type": "markdown",
   "metadata": {},
   "source": [
    "Na obrazovku vypíšte, koľkokrát sa v zozname nachádza jeho maximálna hodnota:"
   ]
  },
  {
   "cell_type": "code",
   "execution_count": 45,
   "metadata": {
    "collapsed": false
   },
   "outputs": [
    {
     "name": "stdout",
     "output_type": "stream",
     "text": [
      "2\n"
     ]
    }
   ],
   "source": [
    "maximum = max(zoznam)\n",
    "pocet_vyskytov = zoznam.count(maximum)\n",
    "print(pocet_vyskytov)"
   ]
  },
  {
   "cell_type": "markdown",
   "metadata": {},
   "source": [
    "Zistite, na ktorej pozícii zoznamu sa nachádza jeho minimálna hodnota:"
   ]
  },
  {
   "cell_type": "code",
   "execution_count": 47,
   "metadata": {
    "collapsed": false
   },
   "outputs": [
    {
     "name": "stdout",
     "output_type": "stream",
     "text": [
      "[1.3, 12.5, 2.6, 1.1, 12.5, -5.0, 4.3]\n",
      "5\n"
     ]
    }
   ],
   "source": [
    "pozicia = zoznam.index(min(zoznam))\n",
    "print(zoznam)\n",
    "print(pozicia)"
   ]
  },
  {
   "cell_type": "markdown",
   "metadata": {},
   "source": [
    "Zotrieďte zoznam od najmenšej hodnoty po najväčšiu a vypíšte ho na obrazovku:"
   ]
  },
  {
   "cell_type": "code",
   "execution_count": 48,
   "metadata": {
    "collapsed": false
   },
   "outputs": [
    {
     "name": "stdout",
     "output_type": "stream",
     "text": [
      "[-5.0, 1.1, 1.3, 2.6, 4.3, 12.5, 12.5]\n"
     ]
    }
   ],
   "source": [
    "zoznam.sort()\n",
    "print(zoznam)"
   ]
  },
  {
   "cell_type": "markdown",
   "metadata": {},
   "source": [
    "Vypíšte zoznam v obrátenom poradí:"
   ]
  },
  {
   "cell_type": "code",
   "execution_count": 49,
   "metadata": {
    "collapsed": false
   },
   "outputs": [
    {
     "name": "stdout",
     "output_type": "stream",
     "text": [
      "[12.5, 12.5, 4.3, 2.6, 1.3, 1.1, -5.0]\n"
     ]
    }
   ],
   "source": [
    "zoznam.reverse()\n",
    "print(zoznam)"
   ]
  },
  {
   "cell_type": "markdown",
   "metadata": {},
   "source": [
    "Načítajte číslo `x` a na obrazovku pomoocu for slučky vypíšte všetky čísla od 0 po `x`:"
   ]
  },
  {
   "cell_type": "code",
   "execution_count": 50,
   "metadata": {
    "collapsed": false
   },
   "outputs": [
    {
     "name": "stdout",
     "output_type": "stream",
     "text": [
      "Vloz cislo: 4\n",
      "0\n",
      "1\n",
      "2\n",
      "3\n"
     ]
    }
   ],
   "source": [
    "x = int(input(\"Vloz cislo: \"))\n",
    "for i in range(x):\n",
    "    print(i)"
   ]
  },
  {
   "cell_type": "markdown",
   "metadata": {},
   "source": [
    "Načítajte čísla `x` a `y` a na obrazovku vypíšte všetky čísla od `x` po `y`:"
   ]
  },
  {
   "cell_type": "code",
   "execution_count": 55,
   "metadata": {
    "collapsed": false
   },
   "outputs": [
    {
     "name": "stdout",
     "output_type": "stream",
     "text": [
      "x: 3\n",
      "x: 6\n",
      "3\n",
      "4\n",
      "5\n",
      "6\n"
     ]
    }
   ],
   "source": [
    "x = int(input(\"x: \"))\n",
    "y = int(input(\"x: \"))\n",
    "for i in range(x, y+1):\n",
    "    print(i)"
   ]
  },
  {
   "cell_type": "markdown",
   "metadata": {},
   "source": [
    "Na obrazovku vypíšte čísla od 5 po 1:"
   ]
  },
  {
   "cell_type": "code",
   "execution_count": 54,
   "metadata": {
    "collapsed": false
   },
   "outputs": [
    {
     "name": "stdout",
     "output_type": "stream",
     "text": [
      "5\n",
      "4\n",
      "3\n",
      "2\n",
      "1\n"
     ]
    }
   ],
   "source": [
    "for i in range(5, 0, -1):\n",
    "    print(i)"
   ]
  },
  {
   "cell_type": "markdown",
   "metadata": {},
   "source": [
    "Z klávesnice načítajte číslo `x` a na obrazovku vypíšte štvorec daného rozmeru zo znakov `*` (hviezdička). Príklad výstupu pri vstupe `x=4`:\n",
    "```\n",
    "****\n",
    "****\n",
    "****\n",
    "****\n",
    "```"
   ]
  },
  {
   "cell_type": "code",
   "execution_count": 56,
   "metadata": {
    "collapsed": false
   },
   "outputs": [
    {
     "name": "stdout",
     "output_type": "stream",
     "text": [
      "Dlzka: 4\n",
      "****\n",
      "****\n",
      "****\n",
      "****\n"
     ]
    }
   ],
   "source": [
    "x = int(input(\"Dlzka: \"))\n",
    "for i in range(x):\n",
    "    print(\"*\"*x)"
   ]
  },
  {
   "cell_type": "markdown",
   "metadata": {},
   "source": [
    "Vytvorte zoznam ľudí obsahujúci mená Ján, Marta, Zuzana, Jozef, Adam. Na obrazovku vypíšte jednotlivé mená zo zoznamu v tvare\n",
    "```\n",
    "Ahoj Jan!\n",
    "Ahoj Marta!\n",
    "...\n",
    "```"
   ]
  },
  {
   "cell_type": "code",
   "execution_count": 57,
   "metadata": {
    "collapsed": false
   },
   "outputs": [
    {
     "name": "stdout",
     "output_type": "stream",
     "text": [
      "Ahoj Jan!\n",
      "Ahoj Marta!\n",
      "Ahoj Zuzana!\n",
      "Ahoj Jozef!\n",
      "Ahoj Adam!\n"
     ]
    }
   ],
   "source": [
    "ludia = ['Jan', 'Marta', 'Zuzana', 'Jozef', 'Adam']\n",
    "for clovek in ludia:\n",
    "    print(\"Ahoj {}!\".format(clovek))"
   ]
  },
  {
   "cell_type": "markdown",
   "metadata": {},
   "source": [
    "Pre zoznam z predošlého kroku na obrazovku pre každú osobu vypíšte jej meno a počet písmen v mene v tvare\n",
    "```\n",
    "Jan (3 pismena)\n",
    "Marta (5 pismen)\n",
    "...\n",
    "```"
   ]
  },
  {
   "cell_type": "code",
   "execution_count": 58,
   "metadata": {
    "collapsed": false
   },
   "outputs": [
    {
     "name": "stdout",
     "output_type": "stream",
     "text": [
      "Jan (3 pismena)\n",
      "Marta (5 pismen)\n",
      "Zuzana (6 pismen)\n",
      "Jozef (5 pismen)\n",
      "Adam (4 pismena)\n"
     ]
    }
   ],
   "source": [
    "ludia = ['Jan', 'Marta', 'Zuzana', 'Jozef', 'Adam']\n",
    "for clovek in ludia:\n",
    "    pismen = len(clovek)\n",
    "    if pismen>=5:\n",
    "        print(\"{} ({} pismen)\".format(clovek, pismen))\n",
    "    elif pismen>=2:\n",
    "        print(\"{} ({} pismena)\".format(clovek, pismen))\n",
    "    else:\n",
    "        print(\"{} ({} pismeno)\".format(clovek, pismen))"
   ]
  },
  {
   "cell_type": "markdown",
   "metadata": {},
   "source": [
    "Pre každé meno z predošlého kroku zistite, koľkokrát sa v ňom nachádza písmeno `a`. Výstup má byť v tvare\n",
    "```\n",
    "Jan (1x a)\n",
    "Marta (2x a)\n",
    "...\n",
    "```"
   ]
  },
  {
   "cell_type": "code",
   "execution_count": 59,
   "metadata": {
    "collapsed": false
   },
   "outputs": [
    {
     "name": "stdout",
     "output_type": "stream",
     "text": [
      "Jan (1x a)\n",
      "Marta (2x a)\n",
      "Zuzana (2x a)\n",
      "Jozef (0x a)\n",
      "Adam (1x a)\n"
     ]
    }
   ],
   "source": [
    "ludia = ['Jan', 'Marta', 'Zuzana', 'Jozef', 'Adam']\n",
    "for clovek in ludia:\n",
    "    pocet = clovek.count(\"a\")\n",
    "    print(\"{} ({}x a)\".format(clovek, pocet))"
   ]
  },
  {
   "cell_type": "markdown",
   "metadata": {},
   "source": [
    "Z predošlého zoznamu zistite, ktoré meno je najdlhšie."
   ]
  },
  {
   "cell_type": "code",
   "execution_count": 60,
   "metadata": {
    "collapsed": false
   },
   "outputs": [
    {
     "name": "stdout",
     "output_type": "stream",
     "text": [
      "Zuzana\n"
     ]
    }
   ],
   "source": [
    "ludia = ['Jan', 'Marta', 'Zuzana', 'Jozef', 'Adam']\n",
    "najdlhsie = ludia[0]\n",
    "for clovek in ludia:\n",
    "    if len(clovek) > len(najdlhsie):\n",
    "        najdlhsie = clovek\n",
    "print(najdlhsie)"
   ]
  },
  {
   "cell_type": "markdown",
   "metadata": {},
   "source": [
    "Inicializujte prázdny zoznam a postupne ho napĺňajte menami z klávesnice dokým užívateľ nevloží prázdny reťazec. Na záver takýto zoznam vypíšte na obrazovku."
   ]
  },
  {
   "cell_type": "code",
   "execution_count": 61,
   "metadata": {
    "collapsed": false
   },
   "outputs": [
    {
     "name": "stdout",
     "output_type": "stream",
     "text": [
      "Vloz meno: Jan\n",
      "Vloz meno: Marta\n",
      "Vloz meno: Zuzana\n",
      "Vloz meno: Jozef\n",
      "Vloz meno: \n",
      "['Jan', 'Marta', 'Zuzana', 'Jozef']\n"
     ]
    }
   ],
   "source": [
    "zoznam = []\n",
    "while True:\n",
    "    meno = input(\"Vloz meno: \")\n",
    "    if meno==\"\":\n",
    "        break\n",
    "    else:\n",
    "        zoznam.append(meno)\n",
    "print(zoznam)"
   ]
  }
 ],
 "metadata": {
  "kernelspec": {
   "display_name": "Python 3",
   "language": "python",
   "name": "python3"
  },
  "language_info": {
   "codemirror_mode": {
    "name": "ipython",
    "version": 3
   },
   "file_extension": ".py",
   "mimetype": "text/x-python",
   "name": "python",
   "nbconvert_exporter": "python",
   "pygments_lexer": "ipython3",
   "version": "3.4.2"
  }
 },
 "nbformat": 4,
 "nbformat_minor": 0
}
